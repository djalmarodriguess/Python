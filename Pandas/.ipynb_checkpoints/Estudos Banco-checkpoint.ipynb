{
 "cells": [
  {
   "cell_type": "code",
   "execution_count": 484,
   "id": "bc9c5a03",
   "metadata": {},
   "outputs": [],
   "source": [
    "import pandas as pd\n",
    "import matplotlib.pyplot as plt\n",
    "import seaborn as sns\n",
    "\n",
    "pd.options.display.float_format = \"{:,.2f}\".format"
   ]
  },
  {
   "cell_type": "code",
   "execution_count": 421,
   "id": "4da6eacb",
   "metadata": {},
   "outputs": [],
   "source": [
    "df = pd.read_csv(\"bank-additional-full.csv\", sep = \";\")"
   ]
  },
  {
   "cell_type": "code",
   "execution_count": 422,
   "id": "43dbca0f",
   "metadata": {},
   "outputs": [
    {
     "data": {
      "text/html": [
       "<div>\n",
       "<style scoped>\n",
       "    .dataframe tbody tr th:only-of-type {\n",
       "        vertical-align: middle;\n",
       "    }\n",
       "\n",
       "    .dataframe tbody tr th {\n",
       "        vertical-align: top;\n",
       "    }\n",
       "\n",
       "    .dataframe thead th {\n",
       "        text-align: right;\n",
       "    }\n",
       "</style>\n",
       "<table border=\"1\" class=\"dataframe\">\n",
       "  <thead>\n",
       "    <tr style=\"text-align: right;\">\n",
       "      <th></th>\n",
       "      <th>age</th>\n",
       "      <th>job</th>\n",
       "      <th>marital</th>\n",
       "      <th>education</th>\n",
       "      <th>default</th>\n",
       "      <th>housing</th>\n",
       "      <th>loan</th>\n",
       "      <th>contact</th>\n",
       "      <th>month</th>\n",
       "      <th>day_of_week</th>\n",
       "      <th>...</th>\n",
       "      <th>campaign</th>\n",
       "      <th>pdays</th>\n",
       "      <th>previous</th>\n",
       "      <th>poutcome</th>\n",
       "      <th>emp.var.rate</th>\n",
       "      <th>cons.price.idx</th>\n",
       "      <th>cons.conf.idx</th>\n",
       "      <th>euribor3m</th>\n",
       "      <th>nr.employed</th>\n",
       "      <th>y</th>\n",
       "    </tr>\n",
       "  </thead>\n",
       "  <tbody>\n",
       "    <tr>\n",
       "      <th>0</th>\n",
       "      <td>56</td>\n",
       "      <td>housemaid</td>\n",
       "      <td>married</td>\n",
       "      <td>basic.4y</td>\n",
       "      <td>no</td>\n",
       "      <td>no</td>\n",
       "      <td>no</td>\n",
       "      <td>telephone</td>\n",
       "      <td>may</td>\n",
       "      <td>mon</td>\n",
       "      <td>...</td>\n",
       "      <td>1</td>\n",
       "      <td>999</td>\n",
       "      <td>0</td>\n",
       "      <td>nonexistent</td>\n",
       "      <td>1.10</td>\n",
       "      <td>93.99</td>\n",
       "      <td>-36.40</td>\n",
       "      <td>4.86</td>\n",
       "      <td>5,191.00</td>\n",
       "      <td>no</td>\n",
       "    </tr>\n",
       "    <tr>\n",
       "      <th>1</th>\n",
       "      <td>57</td>\n",
       "      <td>services</td>\n",
       "      <td>married</td>\n",
       "      <td>high.school</td>\n",
       "      <td>unknown</td>\n",
       "      <td>no</td>\n",
       "      <td>no</td>\n",
       "      <td>telephone</td>\n",
       "      <td>may</td>\n",
       "      <td>mon</td>\n",
       "      <td>...</td>\n",
       "      <td>1</td>\n",
       "      <td>999</td>\n",
       "      <td>0</td>\n",
       "      <td>nonexistent</td>\n",
       "      <td>1.10</td>\n",
       "      <td>93.99</td>\n",
       "      <td>-36.40</td>\n",
       "      <td>4.86</td>\n",
       "      <td>5,191.00</td>\n",
       "      <td>no</td>\n",
       "    </tr>\n",
       "    <tr>\n",
       "      <th>2</th>\n",
       "      <td>37</td>\n",
       "      <td>services</td>\n",
       "      <td>married</td>\n",
       "      <td>high.school</td>\n",
       "      <td>no</td>\n",
       "      <td>yes</td>\n",
       "      <td>no</td>\n",
       "      <td>telephone</td>\n",
       "      <td>may</td>\n",
       "      <td>mon</td>\n",
       "      <td>...</td>\n",
       "      <td>1</td>\n",
       "      <td>999</td>\n",
       "      <td>0</td>\n",
       "      <td>nonexistent</td>\n",
       "      <td>1.10</td>\n",
       "      <td>93.99</td>\n",
       "      <td>-36.40</td>\n",
       "      <td>4.86</td>\n",
       "      <td>5,191.00</td>\n",
       "      <td>no</td>\n",
       "    </tr>\n",
       "    <tr>\n",
       "      <th>3</th>\n",
       "      <td>40</td>\n",
       "      <td>admin.</td>\n",
       "      <td>married</td>\n",
       "      <td>basic.6y</td>\n",
       "      <td>no</td>\n",
       "      <td>no</td>\n",
       "      <td>no</td>\n",
       "      <td>telephone</td>\n",
       "      <td>may</td>\n",
       "      <td>mon</td>\n",
       "      <td>...</td>\n",
       "      <td>1</td>\n",
       "      <td>999</td>\n",
       "      <td>0</td>\n",
       "      <td>nonexistent</td>\n",
       "      <td>1.10</td>\n",
       "      <td>93.99</td>\n",
       "      <td>-36.40</td>\n",
       "      <td>4.86</td>\n",
       "      <td>5,191.00</td>\n",
       "      <td>no</td>\n",
       "    </tr>\n",
       "    <tr>\n",
       "      <th>4</th>\n",
       "      <td>56</td>\n",
       "      <td>services</td>\n",
       "      <td>married</td>\n",
       "      <td>high.school</td>\n",
       "      <td>no</td>\n",
       "      <td>no</td>\n",
       "      <td>yes</td>\n",
       "      <td>telephone</td>\n",
       "      <td>may</td>\n",
       "      <td>mon</td>\n",
       "      <td>...</td>\n",
       "      <td>1</td>\n",
       "      <td>999</td>\n",
       "      <td>0</td>\n",
       "      <td>nonexistent</td>\n",
       "      <td>1.10</td>\n",
       "      <td>93.99</td>\n",
       "      <td>-36.40</td>\n",
       "      <td>4.86</td>\n",
       "      <td>5,191.00</td>\n",
       "      <td>no</td>\n",
       "    </tr>\n",
       "  </tbody>\n",
       "</table>\n",
       "<p>5 rows × 21 columns</p>\n",
       "</div>"
      ],
      "text/plain": [
       "   age        job  marital    education  default housing loan    contact  \\\n",
       "0   56  housemaid  married     basic.4y       no      no   no  telephone   \n",
       "1   57   services  married  high.school  unknown      no   no  telephone   \n",
       "2   37   services  married  high.school       no     yes   no  telephone   \n",
       "3   40     admin.  married     basic.6y       no      no   no  telephone   \n",
       "4   56   services  married  high.school       no      no  yes  telephone   \n",
       "\n",
       "  month day_of_week  ...  campaign  pdays  previous     poutcome emp.var.rate  \\\n",
       "0   may         mon  ...         1    999         0  nonexistent         1.10   \n",
       "1   may         mon  ...         1    999         0  nonexistent         1.10   \n",
       "2   may         mon  ...         1    999         0  nonexistent         1.10   \n",
       "3   may         mon  ...         1    999         0  nonexistent         1.10   \n",
       "4   may         mon  ...         1    999         0  nonexistent         1.10   \n",
       "\n",
       "   cons.price.idx  cons.conf.idx  euribor3m  nr.employed   y  \n",
       "0           93.99         -36.40       4.86     5,191.00  no  \n",
       "1           93.99         -36.40       4.86     5,191.00  no  \n",
       "2           93.99         -36.40       4.86     5,191.00  no  \n",
       "3           93.99         -36.40       4.86     5,191.00  no  \n",
       "4           93.99         -36.40       4.86     5,191.00  no  \n",
       "\n",
       "[5 rows x 21 columns]"
      ]
     },
     "execution_count": 422,
     "metadata": {},
     "output_type": "execute_result"
    }
   ],
   "source": [
    "df.head()"
   ]
  },
  {
   "cell_type": "code",
   "execution_count": 423,
   "id": "87d3b3bf",
   "metadata": {},
   "outputs": [
    {
     "data": {
      "text/plain": [
       "864948"
      ]
     },
     "execution_count": 423,
     "metadata": {},
     "output_type": "execute_result"
    }
   ],
   "source": [
    "df.size"
   ]
  },
  {
   "cell_type": "code",
   "execution_count": 424,
   "id": "0cda3280",
   "metadata": {},
   "outputs": [
    {
     "data": {
      "text/plain": [
       "(41188, 21)"
      ]
     },
     "execution_count": 424,
     "metadata": {},
     "output_type": "execute_result"
    }
   ],
   "source": [
    "df.shape"
   ]
  },
  {
   "cell_type": "code",
   "execution_count": 425,
   "id": "c171c2d2",
   "metadata": {},
   "outputs": [
    {
     "data": {
      "text/plain": [
       "age               0\n",
       "job               0\n",
       "marital           0\n",
       "education         0\n",
       "default           0\n",
       "housing           0\n",
       "loan              0\n",
       "contact           0\n",
       "month             0\n",
       "day_of_week       0\n",
       "duration          0\n",
       "campaign          0\n",
       "pdays             0\n",
       "previous          0\n",
       "poutcome          0\n",
       "emp.var.rate      0\n",
       "cons.price.idx    0\n",
       "cons.conf.idx     0\n",
       "euribor3m         0\n",
       "nr.employed       0\n",
       "y                 0\n",
       "dtype: int64"
      ]
     },
     "execution_count": 425,
     "metadata": {},
     "output_type": "execute_result"
    }
   ],
   "source": [
    "df.isnull().sum()"
   ]
  },
  {
   "cell_type": "code",
   "execution_count": 426,
   "id": "9336290f",
   "metadata": {},
   "outputs": [
    {
     "data": {
      "text/plain": [
       "age                 int64\n",
       "job                object\n",
       "marital            object\n",
       "education          object\n",
       "default            object\n",
       "housing            object\n",
       "loan               object\n",
       "contact            object\n",
       "month              object\n",
       "day_of_week        object\n",
       "duration            int64\n",
       "campaign            int64\n",
       "pdays               int64\n",
       "previous            int64\n",
       "poutcome           object\n",
       "emp.var.rate      float64\n",
       "cons.price.idx    float64\n",
       "cons.conf.idx     float64\n",
       "euribor3m         float64\n",
       "nr.employed       float64\n",
       "y                  object\n",
       "dtype: object"
      ]
     },
     "execution_count": 426,
     "metadata": {},
     "output_type": "execute_result"
    }
   ],
   "source": [
    "df.dtypes"
   ]
  },
  {
   "cell_type": "code",
   "execution_count": 427,
   "id": "f9b7d784",
   "metadata": {},
   "outputs": [
    {
     "name": "stdout",
     "output_type": "stream",
     "text": [
      "age\n",
      "31    1947\n",
      "32    1846\n",
      "33    1833\n",
      "36    1780\n",
      "35    1759\n",
      "      ... \n",
      "91       2\n",
      "98       2\n",
      "87       1\n",
      "94       1\n",
      "95       1\n",
      "Name: age, Length: 78, dtype: int64\n"
     ]
    }
   ],
   "source": [
    "# Qual é a distribuição de idades dos clientes no conjunto de dados?\n",
    "age = df.groupby(\"age\")['age'].count().sort_values(ascending = False)\n",
    "print(age)"
   ]
  },
  {
   "cell_type": "code",
   "execution_count": 428,
   "id": "6d023af0",
   "metadata": {
    "scrolled": true
   },
   "outputs": [
    {
     "data": {
      "image/png": "[encoded data removed]",
      "text/plain": [
       "<Figure size 1080x432 with 1 Axes>"
      ]
     },
     "metadata": {
      "needs_background": "light"
     },
     "output_type": "display_data"
    }
   ],
   "source": [
    "plt.figure(figsize=(15, 6))\n",
    "age.plot(kind='bar')\n",
    "plt.xlabel('Idade')\n",
    "plt.ylabel('Quantidade')\n",
    "plt.title('Idade dos Clientes')\n",
    "plt.show()"
   ]
  },
  {
   "cell_type": "code",
   "execution_count": 429,
   "id": "1f4ba2f6",
   "metadata": {},
   "outputs": [
    {
     "name": "stdout",
     "output_type": "stream",
     "text": [
      "              job  quant\n",
      "0          admin.  10422\n",
      "1     blue-collar   9254\n",
      "2      technician   6743\n",
      "3        services   3969\n",
      "4      management   2924\n",
      "5         retired   1720\n",
      "6    entrepreneur   1456\n",
      "7   self-employed   1421\n",
      "8       housemaid   1060\n",
      "9      unemployed   1014\n",
      "10        student    875\n",
      "11        unknown    330\n"
     ]
    }
   ],
   "source": [
    "# Quais são as profissões mais comuns entre os clientes?\n",
    "job = df['job'].value_counts().reset_index().rename(columns={'index' : 'job', 'job': 'quant' })\n",
    "print(job)"
   ]
  },
  {
   "cell_type": "code",
   "execution_count": 430,
   "id": "4c160188",
   "metadata": {},
   "outputs": [
    {
     "data": {
      "text/plain": [
       "<AxesSubplot:xlabel='job', ylabel='quant'>"
      ]
     },
     "execution_count": 430,
     "metadata": {},
     "output_type": "execute_result"
    },
    {
     "data": {
      "image/png": "[encoded data removed]",
      "text/plain": [
       "<Figure size 1080x432 with 1 Axes>"
      ]
     },
     "metadata": {
      "needs_background": "light"
     },
     "output_type": "display_data"
    }
   ],
   "source": [
    "plt.figure(figsize=(15, 6))\n",
    "sns.barplot(x = 'job', y='quant' , data= job)"
   ]
  },
  {
   "cell_type": "code",
   "execution_count": 431,
   "id": "7bf8b9f7",
   "metadata": {},
   "outputs": [
    {
     "name": "stdout",
     "output_type": "stream",
     "text": [
      "    marital  quant\n",
      "0   married  24928\n",
      "1    single  11568\n",
      "2  divorced   4612\n",
      "3   unknown     80\n"
     ]
    }
   ],
   "source": [
    "# Qual é o estado civil predominante entre os clientes?\n",
    "marital = df['marital'].value_counts().reset_index().rename(columns={'index':'marital','marital':'quant'})\n",
    "print(marital)"
   ]
  },
  {
   "cell_type": "code",
   "execution_count": 432,
   "id": "6edd2486",
   "metadata": {},
   "outputs": [
    {
     "data": {
      "text/plain": [
       "<AxesSubplot:xlabel='marital', ylabel='quant'>"
      ]
     },
     "execution_count": 432,
     "metadata": {},
     "output_type": "execute_result"
    },
    {
     "data": {
      "image/png": "[encoded data removed]",
      "text/plain": [
       "<Figure size 1080x432 with 1 Axes>"
      ]
     },
     "metadata": {
      "needs_background": "light"
     },
     "output_type": "display_data"
    }
   ],
   "source": [
    "plt.figure(figsize=(15,6))\n",
    "sns.barplot(x='marital' , y='quant' , data= marital )"
   ]
  },
  {
   "cell_type": "code",
   "execution_count": 433,
   "id": "ca3f000a",
   "metadata": {},
   "outputs": [
    {
     "name": "stdout",
     "output_type": "stream",
     "text": [
      "             education  quant\n",
      "0    university.degree  12168\n",
      "1          high.school   9515\n",
      "2             basic.9y   6045\n",
      "3  professional.course   5243\n",
      "4             basic.4y   4176\n",
      "5             basic.6y   2292\n",
      "6              unknown   1731\n",
      "7           illiterate     18\n"
     ]
    }
   ],
   "source": [
    "# Qual é o nível de educação mais comum entre os clientes?\n",
    "educ = df['education'].value_counts().reset_index().rename(columns={'index':'education', 'education':'quant'})\n",
    "print(educ)"
   ]
  },
  {
   "cell_type": "code",
   "execution_count": 434,
   "id": "fdaca661",
   "metadata": {},
   "outputs": [
    {
     "data": {
      "image/png": "[encoded data removed]",
      "text/plain": [
       "<Figure size 720x360 with 1 Axes>"
      ]
     },
     "metadata": {
      "needs_background": "light"
     },
     "output_type": "display_data"
    }
   ],
   "source": [
    "plt.figure(figsize=(10,5))\n",
    "sns.barplot(x = 'education', y = 'quant', data = educ)\n",
    "plt.xticks(rotation = 30);"
   ]
  },
  {
   "cell_type": "code",
   "execution_count": 435,
   "id": "e0812299",
   "metadata": {},
   "outputs": [
    {
     "name": "stdout",
     "output_type": "stream",
     "text": [
      "     index  default\n",
      "0       no    79.12\n",
      "1  unknown    20.87\n",
      "2      yes     0.01\n"
     ]
    }
   ],
   "source": [
    "# Qual é a proporção de clientes que têm crédito em default?\n",
    "cred = df['default'].value_counts(normalize = True).mul(100).reset_index()\n",
    "print(cred)"
   ]
  },
  {
   "cell_type": "code",
   "execution_count": 436,
   "id": "d92bbbea",
   "metadata": {},
   "outputs": [
    {
     "data": {
      "text/plain": [
       "<AxesSubplot:xlabel='index', ylabel='default'>"
      ]
     },
     "execution_count": 436,
     "metadata": {},
     "output_type": "execute_result"
    },
    {
     "data": {
      "image/png": "[encoded data removed]",
      "text/plain": [
       "<Figure size 720x360 with 1 Axes>"
      ]
     },
     "metadata": {
      "needs_background": "light"
     },
     "output_type": "display_data"
    }
   ],
   "source": [
    "plt.figure(figsize= (10,5))\n",
    "sns.barplot(x = 'index', y = 'default', data = cred)"
   ]
  },
  {
   "cell_type": "code",
   "execution_count": 437,
   "id": "4af25ec7",
   "metadata": {},
   "outputs": [
    {
     "name": "stdout",
     "output_type": "stream",
     "text": [
      "   housing  quant\n",
      "0      yes  52.00\n",
      "1       no  45.00\n",
      "2  unknown   2.00\n"
     ]
    }
   ],
   "source": [
    "# Qual é a proporção de clientes que possuem empréstimo imobiliário?\n",
    "empre = df['housing'].value_counts(normalize = True).mul(100).round().reset_index().rename(columns = {'index':'housing', 'housing':'quant'})\n",
    "print(empre)"
   ]
  },
  {
   "cell_type": "code",
   "execution_count": 438,
   "id": "fc58acbb",
   "metadata": {},
   "outputs": [
    {
     "data": {
      "text/plain": [
       "Text(0.5, 1.0, 'Emprestimo Imobiliário')"
      ]
     },
     "execution_count": 438,
     "metadata": {},
     "output_type": "execute_result"
    },
    {
     "data": {
      "image/png": "[encoded data removed]",
      "text/plain": [
       "<Figure size 720x360 with 1 Axes>"
      ]
     },
     "metadata": {
      "needs_background": "light"
     },
     "output_type": "display_data"
    }
   ],
   "source": [
    "plt.figure(figsize=(10,5))\n",
    "sns.barplot(x = 'housing', y = 'quant', data = empre  )\n",
    "plt.title('Emprestimo Imobiliário')"
   ]
  },
  {
   "cell_type": "code",
   "execution_count": 439,
   "id": "b5129d1f",
   "metadata": {},
   "outputs": [
    {
     "name": "stdout",
     "output_type": "stream",
     "text": [
      "     index  loan\n",
      "0       no 82.43\n",
      "1      yes 15.17\n",
      "2  unknown  2.40\n"
     ]
    }
   ],
   "source": [
    "# Qual é a proporção de clientes que possuem empréstimo pessoal?\n",
    "pess = df['loan'].value_counts(normalize = True).mul(100).reset_index()\n",
    "print(pess)"
   ]
  },
  {
   "cell_type": "code",
   "execution_count": 440,
   "id": "3381df5f",
   "metadata": {},
   "outputs": [
    {
     "data": {
      "text/plain": [
       "<AxesSubplot:xlabel='index', ylabel='loan'>"
      ]
     },
     "execution_count": 440,
     "metadata": {},
     "output_type": "execute_result"
    },
    {
     "data": {
      "image/png": "[encoded data removed]",
      "text/plain": [
       "<Figure size 720x360 with 1 Axes>"
      ]
     },
     "metadata": {
      "needs_background": "light"
     },
     "output_type": "display_data"
    }
   ],
   "source": [
    "plt.figure(figsize = (10,5))\n",
    "sns.barplot(x = 'index', y = 'loan', data = pess)"
   ]
  },
  {
   "cell_type": "code",
   "execution_count": 441,
   "id": "1f91e964",
   "metadata": {
    "scrolled": true
   },
   "outputs": [
    {
     "name": "stdout",
     "output_type": "stream",
     "text": [
      "       index  contact\n",
      "0   cellular    26144\n",
      "1  telephone    15044\n"
     ]
    }
   ],
   "source": [
    "# Qual é o tipo de contato mais utilizado para as campanhas de marketing?\n",
    "camp = df['contact'].value_counts().reset_index()\n",
    "print(camp)"
   ]
  },
  {
   "cell_type": "code",
   "execution_count": 442,
   "id": "0cab79e3",
   "metadata": {},
   "outputs": [
    {
     "data": {
      "text/plain": [
       "<AxesSubplot:xlabel='index', ylabel='contact'>"
      ]
     },
     "execution_count": 442,
     "metadata": {},
     "output_type": "execute_result"
    },
    {
     "data": {
      "image/png": "[encoded data removed]",
      "text/plain": [
       "<Figure size 432x288 with 1 Axes>"
      ]
     },
     "metadata": {
      "needs_background": "light"
     },
     "output_type": "display_data"
    }
   ],
   "source": [
    "sns.barplot(data = camp, x= 'index', y  = 'contact' )"
   ]
  },
  {
   "cell_type": "code",
   "execution_count": 443,
   "id": "c89b0b44",
   "metadata": {
    "scrolled": false
   },
   "outputs": [
    {
     "name": "stdout",
     "output_type": "stream",
     "text": [
      "  index  month\n",
      "0   may  13769\n",
      "1   jul   7174\n",
      "2   aug   6178\n",
      "3   jun   5318\n",
      "4   nov   4101\n",
      "5   apr   2632\n",
      "6   oct    718\n",
      "7   sep    570\n",
      "8   mar    546\n",
      "9   dec    182\n"
     ]
    }
   ],
   "source": [
    "# Em quais meses as campanhas de marketing tiveram mais contatos com os clientes?\n",
    "mark = df['month'].value_counts().reset_index()\n",
    "print(mark)"
   ]
  },
  {
   "cell_type": "code",
   "execution_count": 444,
   "id": "d69adfcf",
   "metadata": {},
   "outputs": [
    {
     "data": {
      "image/png": "[encoded data removed]",
      "text/plain": [
       "<Figure size 720x432 with 1 Axes>"
      ]
     },
     "metadata": {
      "needs_background": "light"
     },
     "output_type": "display_data"
    }
   ],
   "source": [
    "plt.figure(figsize = (10,6))\n",
    "sns.barplot(x = 'index', y = 'month', data = mark);"
   ]
  },
  {
   "cell_type": "code",
   "execution_count": 445,
   "id": "65e2bb27",
   "metadata": {},
   "outputs": [
    {
     "name": "stdout",
     "output_type": "stream",
     "text": [
      "  index  day_of_week\n",
      "0   thu         8623\n",
      "1   mon         8514\n",
      "2   wed         8134\n",
      "3   tue         8090\n",
      "4   fri         7827\n"
     ]
    }
   ],
   "source": [
    "# Em quais dias da semana as campanhas de marketing tiveram mais contatos com os clientes?\n",
    "week = df['day_of_week'].value_counts().reset_index()\n",
    "print(week)"
   ]
  },
  {
   "cell_type": "code",
   "execution_count": 446,
   "id": "d3ac7a16",
   "metadata": {},
   "outputs": [
    {
     "data": {
      "image/png": "[encoded data removed]",
      "text/plain": [
       "<Figure size 720x360 with 1 Axes>"
      ]
     },
     "metadata": {
      "needs_background": "light"
     },
     "output_type": "display_data"
    }
   ],
   "source": [
    "plt.figure(figsize = (10,5))\n",
    "sns.barplot(data = week, x = 'index', y = 'day_of_week' );"
   ]
  },
  {
   "cell_type": "code",
   "execution_count": 447,
   "id": "2c2a11e7",
   "metadata": {
    "scrolled": true
   },
   "outputs": [
    {
     "name": "stdout",
     "output_type": "stream",
     "text": [
      "4.30 min\n"
     ]
    }
   ],
   "source": [
    "# Qual é a duração média dos contatos com os clientes?\n",
    "duration = df['duration'].mean()/60\n",
    "print(f'{duration:.2f} min')"
   ]
  },
  {
   "cell_type": "code",
   "execution_count": 448,
   "id": "6326670a",
   "metadata": {},
   "outputs": [
    {
     "name": "stdout",
     "output_type": "stream",
     "text": [
      "  minutes  index\n",
      "1    mean   4.30\n",
      "2     std   4.32\n",
      "3     min   0.00\n",
      "4     25%   1.70\n",
      "5     50%   3.00\n",
      "6     75%   5.32\n"
     ]
    }
   ],
   "source": [
    "dur = df['duration'].describe().div(60).reset_index().rename(columns = {'duration':'index', 'index':'minutes'})\n",
    "dur = dur[1:7]\n",
    "print(dur)"
   ]
  },
  {
   "cell_type": "code",
   "execution_count": 449,
   "id": "623e1a80",
   "metadata": {},
   "outputs": [
    {
     "data": {
      "image/png": "[encoded data removed]",
      "text/plain": [
       "<Figure size 720x432 with 1 Axes>"
      ]
     },
     "metadata": {
      "needs_background": "light"
     },
     "output_type": "display_data"
    }
   ],
   "source": [
    "plt.figure(figsize = (10,6))\n",
    "sns.boxplot(data = dur)\n",
    "plt.ylabel('minutes');\n"
   ]
  },
  {
   "cell_type": "code",
   "execution_count": 450,
   "id": "6cd3b23f",
   "metadata": {},
   "outputs": [
    {
     "data": {
      "text/plain": [
       "2.567592502670681"
      ]
     },
     "execution_count": 450,
     "metadata": {},
     "output_type": "execute_result"
    }
   ],
   "source": [
    "# Qual é o número médio de contatos realizados durante a campanha para cada cliente?\n",
    "df['campaign'].mean()"
   ]
  },
  {
   "cell_type": "code",
   "execution_count": 451,
   "id": "12bde5a1",
   "metadata": {
    "scrolled": true
   },
   "outputs": [
    {
     "name": "stdout",
     "output_type": "stream",
     "text": [
      "999    39673\n",
      "3        439\n",
      "6        412\n",
      "4        118\n",
      "9         64\n",
      "2         61\n",
      "7         60\n",
      "12        58\n",
      "10        52\n",
      "5         46\n",
      "13        36\n",
      "11        28\n",
      "1         26\n",
      "15        24\n",
      "14        20\n",
      "8         18\n",
      "0         15\n",
      "16        11\n",
      "17         8\n",
      "18         7\n",
      "19         3\n",
      "22         3\n",
      "21         2\n",
      "20         1\n",
      "25         1\n",
      "26         1\n",
      "27         1\n",
      "Name: pdays, dtype: int64\n"
     ]
    }
   ],
   "source": [
    "# Qual é a distribuição do número de dias que passaram desde o último contato anterior?\n",
    "pdays_counts = df['pdays'].value_counts() \n",
    "print(pdays_counts)"
   ]
  },
  {
   "cell_type": "code",
   "execution_count": 452,
   "id": "e374a6e3",
   "metadata": {
    "scrolled": true
   },
   "outputs": [
    {
     "data": {
      "image/png": "[encoded data removed]",
      "text/plain": [
       "<Figure size 720x432 with 1 Axes>"
      ]
     },
     "metadata": {
      "needs_background": "light"
     },
     "output_type": "display_data"
    }
   ],
   "source": [
    "plt.figure(figsize=(10, 6))\n",
    "pdays_counts.plot(kind='bar')\n",
    "plt.xlabel('Número de Dias desde o Último Contato')\n",
    "plt.ylabel('Frequência')\n",
    "plt.title('Distribuição do Número de Dias desde o Último Contato Anterior');\n"
   ]
  },
  {
   "cell_type": "code",
   "execution_count": 453,
   "id": "91845523",
   "metadata": {
    "scrolled": true
   },
   "outputs": [
    {
     "name": "stdout",
     "output_type": "stream",
     "text": [
      "3     439\n",
      "6     412\n",
      "4     118\n",
      "9      64\n",
      "2      61\n",
      "7      60\n",
      "12     58\n",
      "10     52\n",
      "5      46\n",
      "13     36\n",
      "11     28\n",
      "1      26\n",
      "15     24\n",
      "14     20\n",
      "8      18\n",
      "0      15\n",
      "16     11\n",
      "17      8\n",
      "18      7\n",
      "19      3\n",
      "22      3\n",
      "21      2\n",
      "20      1\n",
      "25      1\n",
      "26      1\n",
      "27      1\n",
      "Name: pdays, dtype: int64\n"
     ]
    }
   ],
   "source": [
    "pdays = df['pdays'].value_counts().drop(999)\n",
    "print(pdays)"
   ]
  },
  {
   "cell_type": "code",
   "execution_count": 454,
   "id": "076b29ff",
   "metadata": {},
   "outputs": [
    {
     "data": {
      "image/png": "[encoded data removed]",
      "text/plain": [
       "<Figure size 720x432 with 1 Axes>"
      ]
     },
     "metadata": {
      "needs_background": "light"
     },
     "output_type": "display_data"
    }
   ],
   "source": [
    "plt.figure(figsize=(10, 6))\n",
    "pdays.plot(kind='bar')\n",
    "plt.xlabel('Número de Dias desde o Último Contato')\n",
    "plt.ylabel('Frequência')\n",
    "plt.title('Distribuição do Número de Dias desde o Último Contato Anterior');"
   ]
  },
  {
   "cell_type": "code",
   "execution_count": 455,
   "id": "3dcfbe67",
   "metadata": {},
   "outputs": [
    {
     "data": {
      "text/plain": [
       "0.17296299893172767"
      ]
     },
     "execution_count": 455,
     "metadata": {},
     "output_type": "execute_result"
    }
   ],
   "source": [
    "# Qual é o número médio de contatos realizados antes da campanha para cada cliente?\n",
    "df['previous'].mean()"
   ]
  },
  {
   "cell_type": "code",
   "execution_count": 456,
   "id": "7cbf0ffa",
   "metadata": {},
   "outputs": [
    {
     "name": "stdout",
     "output_type": "stream",
     "text": [
      "         index  poutcome\n",
      "0  nonexistent     35563\n",
      "1      failure      4252\n",
      "2      success      1373\n"
     ]
    }
   ],
   "source": [
    "#Qual é o resultado mais comum da campanha de marketing anterior?\n",
    "camp_mark = df['poutcome'].value_counts().reset_index()\n",
    "print(camp_mark)"
   ]
  },
  {
   "cell_type": "code",
   "execution_count": 457,
   "id": "fc6e96ba",
   "metadata": {},
   "outputs": [
    {
     "data": {
      "image/png": "[encoded data removed]",
      "text/plain": [
       "<Figure size 432x288 with 1 Axes>"
      ]
     },
     "metadata": {
      "needs_background": "light"
     },
     "output_type": "display_data"
    }
   ],
   "source": [
    "sns.barplot(data = camp_mark, x = 'index', y = 'poutcome');"
   ]
  },
  {
   "cell_type": "code",
   "execution_count": 458,
   "id": "522d6372",
   "metadata": {},
   "outputs": [
    {
     "data": {
      "text/plain": [
       "emp.var.rate\n",
       "-3.40   0.42\n",
       "-3.00   0.51\n",
       "-2.90   0.36\n",
       "-1.80   0.16\n",
       "-1.70   0.52\n",
       "-1.10   0.47\n",
       "-0.20   0.10\n",
       "-0.10   0.06\n",
       "1.10    0.03\n",
       "1.40    0.05\n",
       "Name: y, dtype: float64"
      ]
     },
     "execution_count": 458,
     "metadata": {},
     "output_type": "execute_result"
    }
   ],
   "source": [
    "#Como as taxas de variação de emprego (emp.var.rate) se relacionam com a taxa de adesão a depósitos a prazo (y)?\n",
    "df['y'] = df['y'].map({\"yes\":1,\"no\":0})\n",
    "df.groupby('emp.var.rate')['y'].mean()"
   ]
  },
  {
   "cell_type": "code",
   "execution_count": 459,
   "id": "ec1a8218",
   "metadata": {},
   "outputs": [
    {
     "data": {
      "text/plain": [
       "cons.price.idx\n",
       "92.20   NaN\n",
       "92.38   NaN\n",
       "92.43   NaN\n",
       "92.47   NaN\n",
       "92.65   NaN\n",
       "92.71   NaN\n",
       "92.76   NaN\n",
       "92.84   NaN\n",
       "92.89   NaN\n",
       "92.96   NaN\n",
       "93.08   NaN\n",
       "93.20   NaN\n",
       "93.37   NaN\n",
       "93.44   NaN\n",
       "93.75   NaN\n",
       "93.80   NaN\n",
       "93.88   NaN\n",
       "93.92   NaN\n",
       "93.99   NaN\n",
       "94.03   NaN\n",
       "94.06   NaN\n",
       "94.20   NaN\n",
       "94.22   NaN\n",
       "94.47   NaN\n",
       "94.60   NaN\n",
       "94.77   NaN\n",
       "Name: y, dtype: float64"
      ]
     },
     "execution_count": 459,
     "metadata": {},
     "output_type": "execute_result"
    }
   ],
   "source": [
    "#Como o índice de preço do consumidor (cons.price.idx) se relaciona com a taxa de adesão a depósitos a prazo (y)?\n",
    "df['y'] = df['y'].map({\"yes\":1,\"no\":0})\n",
    "df.groupby('cons.price.idx')['y'].mean()"
   ]
  },
  {
   "cell_type": "code",
   "execution_count": 460,
   "id": "cabd6cee",
   "metadata": {},
   "outputs": [
    {
     "data": {
      "text/plain": [
       "cons.conf.idx\n",
       "-50.80   NaN\n",
       "-50.00   NaN\n",
       "-49.50   NaN\n",
       "-47.10   NaN\n",
       "-46.20   NaN\n",
       "-45.90   NaN\n",
       "-42.70   NaN\n",
       "-42.00   NaN\n",
       "-41.80   NaN\n",
       "-40.80   NaN\n",
       "-40.40   NaN\n",
       "-40.30   NaN\n",
       "-40.00   NaN\n",
       "-39.80   NaN\n",
       "-38.30   NaN\n",
       "-37.50   NaN\n",
       "-36.40   NaN\n",
       "-36.10   NaN\n",
       "-34.80   NaN\n",
       "-34.60   NaN\n",
       "-33.60   NaN\n",
       "-33.00   NaN\n",
       "-31.40   NaN\n",
       "-30.10   NaN\n",
       "-29.80   NaN\n",
       "-26.90   NaN\n",
       "Name: y, dtype: float64"
      ]
     },
     "execution_count": 460,
     "metadata": {},
     "output_type": "execute_result"
    }
   ],
   "source": [
    "#Como o índice de confiança do consumidor (cons.conf.idx) se relaciona com a taxa de adesão a depósitos a prazo (y)?\n",
    "df.groupby('cons.conf.idx')['y'].mean()"
   ]
  },
  {
   "cell_type": "code",
   "execution_count": 461,
   "id": "488237a2",
   "metadata": {
    "scrolled": true
   },
   "outputs": [
    {
     "data": {
      "text/html": [
       "<div>\n",
       "<style scoped>\n",
       "    .dataframe tbody tr th:only-of-type {\n",
       "        vertical-align: middle;\n",
       "    }\n",
       "\n",
       "    .dataframe tbody tr th {\n",
       "        vertical-align: top;\n",
       "    }\n",
       "\n",
       "    .dataframe thead th {\n",
       "        text-align: right;\n",
       "    }\n",
       "</style>\n",
       "<table border=\"1\" class=\"dataframe\">\n",
       "  <thead>\n",
       "    <tr style=\"text-align: right;\">\n",
       "      <th></th>\n",
       "      <th>age</th>\n",
       "      <th>job</th>\n",
       "      <th>marital</th>\n",
       "      <th>education</th>\n",
       "      <th>default</th>\n",
       "      <th>housing</th>\n",
       "      <th>loan</th>\n",
       "      <th>contact</th>\n",
       "      <th>month</th>\n",
       "      <th>day_of_week</th>\n",
       "      <th>...</th>\n",
       "      <th>campaign</th>\n",
       "      <th>pdays</th>\n",
       "      <th>previous</th>\n",
       "      <th>poutcome</th>\n",
       "      <th>emp.var.rate</th>\n",
       "      <th>cons.price.idx</th>\n",
       "      <th>cons.conf.idx</th>\n",
       "      <th>euribor3m</th>\n",
       "      <th>nr.employed</th>\n",
       "      <th>y</th>\n",
       "    </tr>\n",
       "  </thead>\n",
       "  <tbody>\n",
       "    <tr>\n",
       "      <th>0</th>\n",
       "      <td>56</td>\n",
       "      <td>housemaid</td>\n",
       "      <td>married</td>\n",
       "      <td>basic.4y</td>\n",
       "      <td>no</td>\n",
       "      <td>no</td>\n",
       "      <td>no</td>\n",
       "      <td>telephone</td>\n",
       "      <td>may</td>\n",
       "      <td>mon</td>\n",
       "      <td>...</td>\n",
       "      <td>1</td>\n",
       "      <td>999</td>\n",
       "      <td>0</td>\n",
       "      <td>nonexistent</td>\n",
       "      <td>1.10</td>\n",
       "      <td>93.99</td>\n",
       "      <td>-36.40</td>\n",
       "      <td>4.86</td>\n",
       "      <td>5,191.00</td>\n",
       "      <td>NaN</td>\n",
       "    </tr>\n",
       "    <tr>\n",
       "      <th>1</th>\n",
       "      <td>57</td>\n",
       "      <td>services</td>\n",
       "      <td>married</td>\n",
       "      <td>high.school</td>\n",
       "      <td>unknown</td>\n",
       "      <td>no</td>\n",
       "      <td>no</td>\n",
       "      <td>telephone</td>\n",
       "      <td>may</td>\n",
       "      <td>mon</td>\n",
       "      <td>...</td>\n",
       "      <td>1</td>\n",
       "      <td>999</td>\n",
       "      <td>0</td>\n",
       "      <td>nonexistent</td>\n",
       "      <td>1.10</td>\n",
       "      <td>93.99</td>\n",
       "      <td>-36.40</td>\n",
       "      <td>4.86</td>\n",
       "      <td>5,191.00</td>\n",
       "      <td>NaN</td>\n",
       "    </tr>\n",
       "    <tr>\n",
       "      <th>2</th>\n",
       "      <td>37</td>\n",
       "      <td>services</td>\n",
       "      <td>married</td>\n",
       "      <td>high.school</td>\n",
       "      <td>no</td>\n",
       "      <td>yes</td>\n",
       "      <td>no</td>\n",
       "      <td>telephone</td>\n",
       "      <td>may</td>\n",
       "      <td>mon</td>\n",
       "      <td>...</td>\n",
       "      <td>1</td>\n",
       "      <td>999</td>\n",
       "      <td>0</td>\n",
       "      <td>nonexistent</td>\n",
       "      <td>1.10</td>\n",
       "      <td>93.99</td>\n",
       "      <td>-36.40</td>\n",
       "      <td>4.86</td>\n",
       "      <td>5,191.00</td>\n",
       "      <td>NaN</td>\n",
       "    </tr>\n",
       "    <tr>\n",
       "      <th>3</th>\n",
       "      <td>40</td>\n",
       "      <td>admin.</td>\n",
       "      <td>married</td>\n",
       "      <td>basic.6y</td>\n",
       "      <td>no</td>\n",
       "      <td>no</td>\n",
       "      <td>no</td>\n",
       "      <td>telephone</td>\n",
       "      <td>may</td>\n",
       "      <td>mon</td>\n",
       "      <td>...</td>\n",
       "      <td>1</td>\n",
       "      <td>999</td>\n",
       "      <td>0</td>\n",
       "      <td>nonexistent</td>\n",
       "      <td>1.10</td>\n",
       "      <td>93.99</td>\n",
       "      <td>-36.40</td>\n",
       "      <td>4.86</td>\n",
       "      <td>5,191.00</td>\n",
       "      <td>NaN</td>\n",
       "    </tr>\n",
       "    <tr>\n",
       "      <th>4</th>\n",
       "      <td>56</td>\n",
       "      <td>services</td>\n",
       "      <td>married</td>\n",
       "      <td>high.school</td>\n",
       "      <td>no</td>\n",
       "      <td>no</td>\n",
       "      <td>yes</td>\n",
       "      <td>telephone</td>\n",
       "      <td>may</td>\n",
       "      <td>mon</td>\n",
       "      <td>...</td>\n",
       "      <td>1</td>\n",
       "      <td>999</td>\n",
       "      <td>0</td>\n",
       "      <td>nonexistent</td>\n",
       "      <td>1.10</td>\n",
       "      <td>93.99</td>\n",
       "      <td>-36.40</td>\n",
       "      <td>4.86</td>\n",
       "      <td>5,191.00</td>\n",
       "      <td>NaN</td>\n",
       "    </tr>\n",
       "  </tbody>\n",
       "</table>\n",
       "<p>5 rows × 21 columns</p>\n",
       "</div>"
      ],
      "text/plain": [
       "   age        job  marital    education  default housing loan    contact  \\\n",
       "0   56  housemaid  married     basic.4y       no      no   no  telephone   \n",
       "1   57   services  married  high.school  unknown      no   no  telephone   \n",
       "2   37   services  married  high.school       no     yes   no  telephone   \n",
       "3   40     admin.  married     basic.6y       no      no   no  telephone   \n",
       "4   56   services  married  high.school       no      no  yes  telephone   \n",
       "\n",
       "  month day_of_week  ...  campaign  pdays  previous     poutcome emp.var.rate  \\\n",
       "0   may         mon  ...         1    999         0  nonexistent         1.10   \n",
       "1   may         mon  ...         1    999         0  nonexistent         1.10   \n",
       "2   may         mon  ...         1    999         0  nonexistent         1.10   \n",
       "3   may         mon  ...         1    999         0  nonexistent         1.10   \n",
       "4   may         mon  ...         1    999         0  nonexistent         1.10   \n",
       "\n",
       "   cons.price.idx  cons.conf.idx  euribor3m  nr.employed   y  \n",
       "0           93.99         -36.40       4.86     5,191.00 NaN  \n",
       "1           93.99         -36.40       4.86     5,191.00 NaN  \n",
       "2           93.99         -36.40       4.86     5,191.00 NaN  \n",
       "3           93.99         -36.40       4.86     5,191.00 NaN  \n",
       "4           93.99         -36.40       4.86     5,191.00 NaN  \n",
       "\n",
       "[5 rows x 21 columns]"
      ]
     },
     "execution_count": 461,
     "metadata": {},
     "output_type": "execute_result"
    }
   ],
   "source": [
    "df.head()"
   ]
  },
  {
   "cell_type": "code",
   "execution_count": 462,
   "id": "c24fc109",
   "metadata": {},
   "outputs": [
    {
     "data": {
      "text/plain": [
       "age                 int64\n",
       "job                object\n",
       "marital            object\n",
       "education          object\n",
       "default            object\n",
       "housing            object\n",
       "loan               object\n",
       "contact            object\n",
       "month              object\n",
       "day_of_week        object\n",
       "duration            int64\n",
       "campaign            int64\n",
       "pdays               int64\n",
       "previous            int64\n",
       "poutcome           object\n",
       "emp.var.rate      float64\n",
       "cons.price.idx    float64\n",
       "cons.conf.idx     float64\n",
       "euribor3m         float64\n",
       "nr.employed       float64\n",
       "y                 float64\n",
       "dtype: object"
      ]
     },
     "execution_count": 462,
     "metadata": {},
     "output_type": "execute_result"
    }
   ],
   "source": [
    "df.dtypes"
   ]
  },
  {
   "cell_type": "code",
   "execution_count": 463,
   "id": "b51e76ae",
   "metadata": {},
   "outputs": [],
   "source": [
    "# Separar as colunas por tipo categórico e numérico\n",
    "colunas_categoricas = df.select_dtypes(include='object')\n",
    "colunas_numericas = df.select_dtypes(exclude='object')"
   ]
  },
  {
   "cell_type": "code",
   "execution_count": 464,
   "id": "2ed1bd8f",
   "metadata": {
    "scrolled": true
   },
   "outputs": [
    {
     "data": {
      "text/plain": [
       "['job',\n",
       " 'marital',\n",
       " 'education',\n",
       " 'default',\n",
       " 'housing',\n",
       " 'loan',\n",
       " 'contact',\n",
       " 'month',\n",
       " 'day_of_week',\n",
       " 'poutcome']"
      ]
     },
     "execution_count": 464,
     "metadata": {},
     "output_type": "execute_result"
    }
   ],
   "source": [
    "colunas_categoricas = list(colunas_categoricas)\n",
    "colunas_categoricas"
   ]
  },
  {
   "cell_type": "code",
   "execution_count": 465,
   "id": "c0f104ab",
   "metadata": {},
   "outputs": [
    {
     "data": {
      "text/plain": [
       "['age',\n",
       " 'duration',\n",
       " 'campaign',\n",
       " 'pdays',\n",
       " 'previous',\n",
       " 'emp.var.rate',\n",
       " 'cons.price.idx',\n",
       " 'cons.conf.idx',\n",
       " 'euribor3m',\n",
       " 'nr.employed',\n",
       " 'y']"
      ]
     },
     "execution_count": 465,
     "metadata": {},
     "output_type": "execute_result"
    }
   ],
   "source": [
    "colunas_numericas = list(colunas_numericas)\n",
    "colunas_numericas"
   ]
  },
  {
   "cell_type": "code",
   "execution_count": 466,
   "id": "2a2261b0",
   "metadata": {},
   "outputs": [
    {
     "name": "stdout",
     "output_type": "stream",
     "text": [
      "Erro Quadrático Médio (MSE): 66852.43283199632\n",
      "Coeficiente de Determinação (R-squared): -0.00010831183564530278\n",
      "Erro Absoluto Médio (MAE): 172.47609099087254\n"
     ]
    }
   ],
   "source": [
    "import numpy as np\n",
    "from sklearn.linear_model import LinearRegression\n",
    "from sklearn.model_selection import train_test_split\n",
    "from sklearn.metrics import mean_squared_error, r2_score, mean_absolute_error\n",
    " \n",
    "\n",
    "# Selecionar as colunas para a regressão linear\n",
    "X = df[['age', 'cons.price.idx']]\n",
    "y = df['duration']\n",
    "\n",
    "# Dividir os dados em conjuntos de treinamento e teste\n",
    "X_train, X_test, y_train, y_test = train_test_split(X, y, test_size=0.2, random_state=42)\n",
    "\n",
    "# Criar uma instância do modelo de regressão linear\n",
    "model = LinearRegression()\n",
    "\n",
    "# Treinar o modelo usando os dados de treinamento\n",
    "model.fit(X_train, y_train)\n",
    "\n",
    "# Fazer previsões usando os dados de teste\n",
    "y_pred = model.predict(X_test)\n",
    "\n",
    "# Calcular as métricas de desempenho\n",
    "mse = mean_squared_error(y_test, y_pred)\n",
    "r2 = r2_score(y_test, y_pred)\n",
    "mae = mean_absolute_error(y_test, y_pred)\n",
    "\n",
    "# Imprimir as métricas\n",
    "print(\"Erro Quadrático Médio (MSE):\", mse)\n",
    "print(\"Coeficiente de Determinação (R-squared):\", r2)\n",
    "print(\"Erro Absoluto Médio (MAE):\", mae)"
   ]
  },
  {
   "cell_type": "code",
   "execution_count": 490,
   "id": "62e6a8f0",
   "metadata": {
    "scrolled": true
   },
   "outputs": [
    {
     "data": {
      "text/html": [
       "<div>\n",
       "<style scoped>\n",
       "    .dataframe tbody tr th:only-of-type {\n",
       "        vertical-align: middle;\n",
       "    }\n",
       "\n",
       "    .dataframe tbody tr th {\n",
       "        vertical-align: top;\n",
       "    }\n",
       "\n",
       "    .dataframe thead th {\n",
       "        text-align: right;\n",
       "    }\n",
       "</style>\n",
       "<table border=\"1\" class=\"dataframe\">\n",
       "  <thead>\n",
       "    <tr style=\"text-align: right;\">\n",
       "      <th></th>\n",
       "      <th>age</th>\n",
       "      <th>job</th>\n",
       "      <th>marital</th>\n",
       "      <th>education</th>\n",
       "      <th>default</th>\n",
       "      <th>housing</th>\n",
       "      <th>loan</th>\n",
       "      <th>contact</th>\n",
       "      <th>month</th>\n",
       "      <th>day_of_week</th>\n",
       "      <th>...</th>\n",
       "      <th>campaign</th>\n",
       "      <th>pdays</th>\n",
       "      <th>previous</th>\n",
       "      <th>poutcome</th>\n",
       "      <th>emp.var.rate</th>\n",
       "      <th>cons.price.idx</th>\n",
       "      <th>cons.conf.idx</th>\n",
       "      <th>euribor3m</th>\n",
       "      <th>nr.employed</th>\n",
       "      <th>y</th>\n",
       "    </tr>\n",
       "  </thead>\n",
       "  <tbody>\n",
       "    <tr>\n",
       "      <th>0</th>\n",
       "      <td>56</td>\n",
       "      <td>housemaid</td>\n",
       "      <td>married</td>\n",
       "      <td>basic.4y</td>\n",
       "      <td>no</td>\n",
       "      <td>no</td>\n",
       "      <td>no</td>\n",
       "      <td>telephone</td>\n",
       "      <td>may</td>\n",
       "      <td>mon</td>\n",
       "      <td>...</td>\n",
       "      <td>1</td>\n",
       "      <td>999</td>\n",
       "      <td>0</td>\n",
       "      <td>nonexistent</td>\n",
       "      <td>1.10</td>\n",
       "      <td>93.99</td>\n",
       "      <td>-36.40</td>\n",
       "      <td>4.86</td>\n",
       "      <td>5,191.00</td>\n",
       "      <td>NaN</td>\n",
       "    </tr>\n",
       "    <tr>\n",
       "      <th>1</th>\n",
       "      <td>57</td>\n",
       "      <td>services</td>\n",
       "      <td>married</td>\n",
       "      <td>high.school</td>\n",
       "      <td>unknown</td>\n",
       "      <td>no</td>\n",
       "      <td>no</td>\n",
       "      <td>telephone</td>\n",
       "      <td>may</td>\n",
       "      <td>mon</td>\n",
       "      <td>...</td>\n",
       "      <td>1</td>\n",
       "      <td>999</td>\n",
       "      <td>0</td>\n",
       "      <td>nonexistent</td>\n",
       "      <td>1.10</td>\n",
       "      <td>93.99</td>\n",
       "      <td>-36.40</td>\n",
       "      <td>4.86</td>\n",
       "      <td>5,191.00</td>\n",
       "      <td>NaN</td>\n",
       "    </tr>\n",
       "    <tr>\n",
       "      <th>2</th>\n",
       "      <td>37</td>\n",
       "      <td>services</td>\n",
       "      <td>married</td>\n",
       "      <td>high.school</td>\n",
       "      <td>no</td>\n",
       "      <td>yes</td>\n",
       "      <td>no</td>\n",
       "      <td>telephone</td>\n",
       "      <td>may</td>\n",
       "      <td>mon</td>\n",
       "      <td>...</td>\n",
       "      <td>1</td>\n",
       "      <td>999</td>\n",
       "      <td>0</td>\n",
       "      <td>nonexistent</td>\n",
       "      <td>1.10</td>\n",
       "      <td>93.99</td>\n",
       "      <td>-36.40</td>\n",
       "      <td>4.86</td>\n",
       "      <td>5,191.00</td>\n",
       "      <td>NaN</td>\n",
       "    </tr>\n",
       "    <tr>\n",
       "      <th>3</th>\n",
       "      <td>40</td>\n",
       "      <td>admin.</td>\n",
       "      <td>married</td>\n",
       "      <td>basic.6y</td>\n",
       "      <td>no</td>\n",
       "      <td>no</td>\n",
       "      <td>no</td>\n",
       "      <td>telephone</td>\n",
       "      <td>may</td>\n",
       "      <td>mon</td>\n",
       "      <td>...</td>\n",
       "      <td>1</td>\n",
       "      <td>999</td>\n",
       "      <td>0</td>\n",
       "      <td>nonexistent</td>\n",
       "      <td>1.10</td>\n",
       "      <td>93.99</td>\n",
       "      <td>-36.40</td>\n",
       "      <td>4.86</td>\n",
       "      <td>5,191.00</td>\n",
       "      <td>NaN</td>\n",
       "    </tr>\n",
       "    <tr>\n",
       "      <th>4</th>\n",
       "      <td>56</td>\n",
       "      <td>services</td>\n",
       "      <td>married</td>\n",
       "      <td>high.school</td>\n",
       "      <td>no</td>\n",
       "      <td>no</td>\n",
       "      <td>yes</td>\n",
       "      <td>telephone</td>\n",
       "      <td>may</td>\n",
       "      <td>mon</td>\n",
       "      <td>...</td>\n",
       "      <td>1</td>\n",
       "      <td>999</td>\n",
       "      <td>0</td>\n",
       "      <td>nonexistent</td>\n",
       "      <td>1.10</td>\n",
       "      <td>93.99</td>\n",
       "      <td>-36.40</td>\n",
       "      <td>4.86</td>\n",
       "      <td>5,191.00</td>\n",
       "      <td>NaN</td>\n",
       "    </tr>\n",
       "  </tbody>\n",
       "</table>\n",
       "<p>5 rows × 21 columns</p>\n",
       "</div>"
      ],
      "text/plain": [
       "   age        job  marital    education  default housing loan    contact  \\\n",
       "0   56  housemaid  married     basic.4y       no      no   no  telephone   \n",
       "1   57   services  married  high.school  unknown      no   no  telephone   \n",
       "2   37   services  married  high.school       no     yes   no  telephone   \n",
       "3   40     admin.  married     basic.6y       no      no   no  telephone   \n",
       "4   56   services  married  high.school       no      no  yes  telephone   \n",
       "\n",
       "  month day_of_week  ...  campaign  pdays  previous     poutcome emp.var.rate  \\\n",
       "0   may         mon  ...         1    999         0  nonexistent         1.10   \n",
       "1   may         mon  ...         1    999         0  nonexistent         1.10   \n",
       "2   may         mon  ...         1    999         0  nonexistent         1.10   \n",
       "3   may         mon  ...         1    999         0  nonexistent         1.10   \n",
       "4   may         mon  ...         1    999         0  nonexistent         1.10   \n",
       "\n",
       "   cons.price.idx  cons.conf.idx  euribor3m  nr.employed   y  \n",
       "0           93.99         -36.40       4.86     5,191.00 NaN  \n",
       "1           93.99         -36.40       4.86     5,191.00 NaN  \n",
       "2           93.99         -36.40       4.86     5,191.00 NaN  \n",
       "3           93.99         -36.40       4.86     5,191.00 NaN  \n",
       "4           93.99         -36.40       4.86     5,191.00 NaN  \n",
       "\n",
       "[5 rows x 21 columns]"
      ]
     },
     "execution_count": 490,
     "metadata": {},
     "output_type": "execute_result"
    }
   ],
   "source": [
    "df.head()"
   ]
  },
  {
   "cell_type": "code",
   "execution_count": null,
   "id": "b13b66ef",
   "metadata": {},
   "outputs": [],
   "source": []
  }
 ],
 "metadata": {
  "kernelspec": {
   "display_name": "Python 3",
   "language": "python",
   "name": "python3"
  },
  "language_info": {
   "codemirror_mode": {
    "name": "ipython",
    "version": 3
   },
   "file_extension": ".py",
   "mimetype": "text/x-python",
   "name": "python",
   "nbconvert_exporter": "python",
   "pygments_lexer": "ipython3",
   "version": "3.8.8"
  }
 },
 "nbformat": 4,
 "nbformat_minor": 5
}
