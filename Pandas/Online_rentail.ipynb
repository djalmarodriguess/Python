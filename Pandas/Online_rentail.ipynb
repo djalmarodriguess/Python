{
 "cells": [
  {
   "cell_type": "code",
   "execution_count": null,
   "id": "f8e337fc",
   "metadata": {},
   "outputs": [],
   "source": [
    "import pandas as pd\n",
    "import seaborn as sns\n",
    "import matplotlib.pyplot as plt"
   ]
  },
  {
   "cell_type": "code",
   "execution_count": null,
   "id": "1992d8a2",
   "metadata": {},
   "outputs": [],
   "source": [
    "df = pd.read_csv('online_retail.csv')"
   ]
  },
  {
   "cell_type": "code",
   "execution_count": null,
   "id": "b30a5ccc",
   "metadata": {},
   "outputs": [],
   "source": [
    "df.head()"
   ]
  },
  {
   "cell_type": "code",
   "execution_count": null,
   "id": "8636fdf5",
   "metadata": {},
   "outputs": [],
   "source": [
    "df.info()"
   ]
  },
  {
   "cell_type": "code",
   "execution_count": null,
   "id": "0aeb6bbb",
   "metadata": {},
   "outputs": [],
   "source": [
    "df['InvoiceDate'] = pd.to_datetime(df['InvoiceDate'])"
   ]
  },
  {
   "cell_type": "code",
   "execution_count": null,
   "id": "44365bee",
   "metadata": {},
   "outputs": [],
   "source": [
    "df.info()"
   ]
  },
  {
   "cell_type": "code",
   "execution_count": null,
   "id": "9a0f50ed",
   "metadata": {},
   "outputs": [],
   "source": [
    "df['year'] = df['InvoiceDate'].dt.year\n",
    "df['day'] = df['InvoiceDate'].dt.day\n",
    "df['month'] = df['InvoiceDate'].dt.month"
   ]
  },
  {
   "cell_type": "code",
   "execution_count": null,
   "id": "36ba6d80",
   "metadata": {},
   "outputs": [],
   "source": [
    "df.info()"
   ]
  },
  {
   "cell_type": "code",
   "execution_count": null,
   "id": "08232bb6",
   "metadata": {},
   "outputs": [],
   "source": [
    "df.isnull().count()"
   ]
  },
  {
   "cell_type": "code",
   "execution_count": null,
   "id": "bb8be534",
   "metadata": {},
   "outputs": [],
   "source": [
    "df['UnitPrice'].describe()"
   ]
  },
  {
   "cell_type": "code",
   "execution_count": null,
   "id": "78b23050",
   "metadata": {},
   "outputs": [],
   "source": [
    "aux1 = df.groupby('Country')['Quantity'].sum().reset_index()\n",
    "plt.figure(figsize = (20,10))\n",
    "plt.bar(aux1['Country'], aux1['Quantity'])\n",
    "plt.xticks(rotation = 90);"
   ]
  },
  {
   "cell_type": "code",
   "execution_count": null,
   "id": "9256fe79",
   "metadata": {},
   "outputs": [],
   "source": [
    "aux2 = df[df['Country'] != 'United Kingdom']\n",
    "aux2 = aux2[['Quantity', 'UnitPrice', 'Country']].groupby('Country').sum().reset_index().sort_values('UnitPrice')\n",
    "plt.figure(figsize = (20,10))\n",
    "plt.bar(aux2['Country'], aux2['UnitPrice'])\n",
    "plt.xticks(rotation = 90);"
   ]
  },
  {
   "cell_type": "code",
   "execution_count": null,
   "id": "c407ac78",
   "metadata": {},
   "outputs": [],
   "source": [
    "df[['Quantity', 'UnitPrice', 'Country']].groupby('Country').sum().reset_index().sort_values('UnitPrice')"
   ]
  },
  {
   "cell_type": "code",
   "execution_count": null,
   "id": "3c87913f",
   "metadata": {},
   "outputs": [],
   "source": [
    "df.head()"
   ]
  },
  {
   "cell_type": "code",
   "execution_count": null,
   "id": "4dd20a27",
   "metadata": {},
   "outputs": [],
   "source": [
    "df['Quantity'].describe()"
   ]
  },
  {
   "cell_type": "code",
   "execution_count": null,
   "id": "68120fe3",
   "metadata": {},
   "outputs": [],
   "source": [
    "df.tail()"
   ]
  },
  {
   "cell_type": "code",
   "execution_count": null,
   "id": "368553da",
   "metadata": {},
   "outputs": [],
   "source": [
    "df['Description'] = df['Description'].str.strip()\n",
    "df.tail()"
   ]
  },
  {
   "cell_type": "code",
   "execution_count": null,
   "id": "d10fb53a",
   "metadata": {},
   "outputs": [],
   "source": [
    "df.dtypes"
   ]
  },
  {
   "cell_type": "code",
   "execution_count": null,
   "id": "2620922b",
   "metadata": {},
   "outputs": [],
   "source": [
    "aux3 = df[df['InvoiceNo'].str.contains('C')]\n",
    "aux3 = aux3[aux3['Country'] != 'United Kingdom']\n",
    "plt.figure(figsize=(20, 10))\n",
    "aux3 = aux3.groupby('Country')['InvoiceNo'].count().reset_index()\n",
    "plt.bar(aux3['Country'], aux3['InvoiceNo'])\n",
    "plt.xticks(rotation = 80);"
   ]
  },
  {
   "cell_type": "code",
   "execution_count": null,
   "id": "07f8b5e8",
   "metadata": {},
   "outputs": [],
   "source": [
    "df['UnitPrice'].count()"
   ]
  },
  {
   "cell_type": "code",
   "execution_count": null,
   "id": "9adadae5",
   "metadata": {},
   "outputs": [],
   "source": [
    "plt.figure(figsize = (10,5))\n",
    "aux5 = df[['UnitPrice', 'year']].groupby('year').count().reset_index()\n",
    "plt.bar(aux5['year'], aux5['UnitPrice'])"
   ]
  },
  {
   "cell_type": "code",
   "execution_count": null,
   "id": "1d43b47e",
   "metadata": {},
   "outputs": [],
   "source": [
    "df['year'].value_counts(normalize= True)*100"
   ]
  },
  {
   "cell_type": "code",
   "execution_count": null,
   "id": "59dc03b5",
   "metadata": {},
   "outputs": [],
   "source": []
  },
  {
   "cell_type": "code",
   "execution_count": null,
   "id": "1ef018e6",
   "metadata": {},
   "outputs": [],
   "source": []
  },
  {
   "cell_type": "code",
   "execution_count": null,
   "id": "ccc6053d",
   "metadata": {},
   "outputs": [],
   "source": []
  },
  {
   "cell_type": "code",
   "execution_count": null,
   "id": "7a40da87",
   "metadata": {},
   "outputs": [],
   "source": []
  },
  {
   "cell_type": "code",
   "execution_count": null,
   "id": "054fba27",
   "metadata": {},
   "outputs": [],
   "source": []
  },
  {
   "cell_type": "code",
   "execution_count": null,
   "id": "a3e56e84",
   "metadata": {},
   "outputs": [],
   "source": []
  },
  {
   "cell_type": "code",
   "execution_count": null,
   "id": "98ecd44c",
   "metadata": {},
   "outputs": [],
   "source": []
  },
  {
   "cell_type": "code",
   "execution_count": null,
   "id": "b33d0606",
   "metadata": {},
   "outputs": [],
   "source": []
  },
  {
   "cell_type": "code",
   "execution_count": null,
   "id": "51eab638",
   "metadata": {},
   "outputs": [],
   "source": []
  },
  {
   "cell_type": "code",
   "execution_count": null,
   "id": "53d7b077",
   "metadata": {},
   "outputs": [],
   "source": []
  }
 ],
 "metadata": {
  "kernelspec": {
   "display_name": "Python 3",
   "language": "python",
   "name": "python3"
  },
  "language_info": {
   "codemirror_mode": {
    "name": "ipython",
    "version": 3
   },
   "file_extension": ".py",
   "mimetype": "text/x-python",
   "name": "python",
   "nbconvert_exporter": "python",
   "pygments_lexer": "ipython3",
   "version": "3.8.8"
  }
 },
 "nbformat": 4,
 "nbformat_minor": 5
}
