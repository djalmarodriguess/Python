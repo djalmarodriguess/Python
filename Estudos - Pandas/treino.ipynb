{
  "metadata": {
    "language_info": {
      "codemirror_mode": {
        "name": "python",
        "version": 3
      },
      "file_extension": ".py",
      "mimetype": "text/x-python",
      "name": "python",
      "nbconvert_exporter": "python",
      "pygments_lexer": "ipython3",
      "version": "3.8"
    },
    "kernelspec": {
      "name": "python",
      "display_name": "Python (Pyodide)",
      "language": "python"
    }
  },
  "nbformat_minor": 4,
  "nbformat": 4,
  "cells": [
    {
      "cell_type": "code",
      "source": "import pandas as pd",
      "metadata": {
        "trusted": true
      },
      "execution_count": 1,
      "outputs": []
    },
    {
      "cell_type": "code",
      "source": "df = pd.read_csv('train.csv', sep = ',')",
      "metadata": {
        "trusted": true
      },
      "execution_count": 4,
      "outputs": []
    },
    {
      "cell_type": "code",
      "source": "df.head()",
      "metadata": {
        "trusted": true
      },
      "execution_count": 5,
      "outputs": [
        {
          "execution_count": 5,
          "output_type": "execute_result",
          "data": {
            "text/plain": "              datetime  season  holiday  workingday  weather  temp   atemp  \\\n0  2011-01-01 00:00:00       1        0           0        1  9.84  14.395   \n1  2011-01-01 01:00:00       1        0           0        1  9.02  13.635   \n2  2011-01-01 02:00:00       1        0           0        1  9.02  13.635   \n3  2011-01-01 03:00:00       1        0           0        1  9.84  14.395   \n4  2011-01-01 04:00:00       1        0           0        1  9.84  14.395   \n\n   humidity  windspeed  casual  registered  count  \n0        81        0.0       3          13     16  \n1        80        0.0       8          32     40  \n2        80        0.0       5          27     32  \n3        75        0.0       3          10     13  \n4        75        0.0       0           1      1  ",
            "text/html": "<div>\n<style scoped>\n    .dataframe tbody tr th:only-of-type {\n        vertical-align: middle;\n    }\n\n    .dataframe tbody tr th {\n        vertical-align: top;\n    }\n\n    .dataframe thead th {\n        text-align: right;\n    }\n</style>\n<table border=\"1\" class=\"dataframe\">\n  <thead>\n    <tr style=\"text-align: right;\">\n      <th></th>\n      <th>datetime</th>\n      <th>season</th>\n      <th>holiday</th>\n      <th>workingday</th>\n      <th>weather</th>\n      <th>temp</th>\n      <th>atemp</th>\n      <th>humidity</th>\n      <th>windspeed</th>\n      <th>casual</th>\n      <th>registered</th>\n      <th>count</th>\n    </tr>\n  </thead>\n  <tbody>\n    <tr>\n      <th>0</th>\n      <td>2011-01-01 00:00:00</td>\n      <td>1</td>\n      <td>0</td>\n      <td>0</td>\n      <td>1</td>\n      <td>9.84</td>\n      <td>14.395</td>\n      <td>81</td>\n      <td>0.0</td>\n      <td>3</td>\n      <td>13</td>\n      <td>16</td>\n    </tr>\n    <tr>\n      <th>1</th>\n      <td>2011-01-01 01:00:00</td>\n      <td>1</td>\n      <td>0</td>\n      <td>0</td>\n      <td>1</td>\n      <td>9.02</td>\n      <td>13.635</td>\n      <td>80</td>\n      <td>0.0</td>\n      <td>8</td>\n      <td>32</td>\n      <td>40</td>\n    </tr>\n    <tr>\n      <th>2</th>\n      <td>2011-01-01 02:00:00</td>\n      <td>1</td>\n      <td>0</td>\n      <td>0</td>\n      <td>1</td>\n      <td>9.02</td>\n      <td>13.635</td>\n      <td>80</td>\n      <td>0.0</td>\n      <td>5</td>\n      <td>27</td>\n      <td>32</td>\n    </tr>\n    <tr>\n      <th>3</th>\n      <td>2011-01-01 03:00:00</td>\n      <td>1</td>\n      <td>0</td>\n      <td>0</td>\n      <td>1</td>\n      <td>9.84</td>\n      <td>14.395</td>\n      <td>75</td>\n      <td>0.0</td>\n      <td>3</td>\n      <td>10</td>\n      <td>13</td>\n    </tr>\n    <tr>\n      <th>4</th>\n      <td>2011-01-01 04:00:00</td>\n      <td>1</td>\n      <td>0</td>\n      <td>0</td>\n      <td>1</td>\n      <td>9.84</td>\n      <td>14.395</td>\n      <td>75</td>\n      <td>0.0</td>\n      <td>0</td>\n      <td>1</td>\n      <td>1</td>\n    </tr>\n  </tbody>\n</table>\n</div>"
          },
          "metadata": {}
        }
      ]
    },
    {
      "cell_type": "code",
      "source": "df.info()",
      "metadata": {
        "trusted": true
      },
      "execution_count": 6,
      "outputs": [
        {
          "name": "stdout",
          "text": "<class 'pandas.core.frame.DataFrame'>\nRangeIndex: 10886 entries, 0 to 10885\nData columns (total 12 columns):\n #   Column      Non-Null Count  Dtype  \n---  ------      --------------  -----  \n 0   datetime    10886 non-null  object \n 1   season      10886 non-null  int64  \n 2   holiday     10886 non-null  int64  \n 3   workingday  10886 non-null  int64  \n 4   weather     10886 non-null  int64  \n 5   temp        10886 non-null  float64\n 6   atemp       10886 non-null  float64\n 7   humidity    10886 non-null  int64  \n 8   windspeed   10886 non-null  float64\n 9   casual      10886 non-null  int64  \n 10  registered  10886 non-null  int64  \n 11  count       10886 non-null  int64  \ndtypes: float64(3), int64(8), object(1)\nmemory usage: 978.1+ KB\n",
          "output_type": "stream"
        }
      ]
    },
    {
      "cell_type": "code",
      "source": "#Trocar tipo da data\n#df = pd.read_csv('train.csv', parse_dates=[0]) = pode ser assim também, chamando a função 'parse_dates'\ndf['datetime'] = pd.to_datetime(df['datetime'])",
      "metadata": {
        "trusted": true
      },
      "execution_count": 8,
      "outputs": []
    },
    {
      "cell_type": "code",
      "source": "df.dtypes",
      "metadata": {
        "trusted": true
      },
      "execution_count": 9,
      "outputs": [
        {
          "execution_count": 9,
          "output_type": "execute_result",
          "data": {
            "text/plain": "datetime      datetime64[ns]\nseason                 int64\nholiday                int64\nworkingday             int64\nweather                int64\ntemp                 float64\natemp                float64\nhumidity               int64\nwindspeed            float64\ncasual                 int64\nregistered             int64\ncount                  int64\ndtype: object"
          },
          "metadata": {}
        }
      ]
    },
    {
      "cell_type": "code",
      "source": "#Cria coluna 'Dia'\ndf['day'] = df['datetime'].dt.day\ndf.head()",
      "metadata": {
        "trusted": true
      },
      "execution_count": 12,
      "outputs": [
        {
          "execution_count": 12,
          "output_type": "execute_result",
          "data": {
            "text/plain": "             datetime  season  holiday  workingday  weather  temp   atemp  \\\n0 2011-01-01 00:00:00       1        0           0        1  9.84  14.395   \n1 2011-01-01 01:00:00       1        0           0        1  9.02  13.635   \n2 2011-01-01 02:00:00       1        0           0        1  9.02  13.635   \n3 2011-01-01 03:00:00       1        0           0        1  9.84  14.395   \n4 2011-01-01 04:00:00       1        0           0        1  9.84  14.395   \n\n   humidity  windspeed  casual  registered  count  day  \n0        81        0.0       3          13     16    1  \n1        80        0.0       8          32     40    1  \n2        80        0.0       5          27     32    1  \n3        75        0.0       3          10     13    1  \n4        75        0.0       0           1      1    1  ",
            "text/html": "<div>\n<style scoped>\n    .dataframe tbody tr th:only-of-type {\n        vertical-align: middle;\n    }\n\n    .dataframe tbody tr th {\n        vertical-align: top;\n    }\n\n    .dataframe thead th {\n        text-align: right;\n    }\n</style>\n<table border=\"1\" class=\"dataframe\">\n  <thead>\n    <tr style=\"text-align: right;\">\n      <th></th>\n      <th>datetime</th>\n      <th>season</th>\n      <th>holiday</th>\n      <th>workingday</th>\n      <th>weather</th>\n      <th>temp</th>\n      <th>atemp</th>\n      <th>humidity</th>\n      <th>windspeed</th>\n      <th>casual</th>\n      <th>registered</th>\n      <th>count</th>\n      <th>day</th>\n    </tr>\n  </thead>\n  <tbody>\n    <tr>\n      <th>0</th>\n      <td>2011-01-01 00:00:00</td>\n      <td>1</td>\n      <td>0</td>\n      <td>0</td>\n      <td>1</td>\n      <td>9.84</td>\n      <td>14.395</td>\n      <td>81</td>\n      <td>0.0</td>\n      <td>3</td>\n      <td>13</td>\n      <td>16</td>\n      <td>1</td>\n    </tr>\n    <tr>\n      <th>1</th>\n      <td>2011-01-01 01:00:00</td>\n      <td>1</td>\n      <td>0</td>\n      <td>0</td>\n      <td>1</td>\n      <td>9.02</td>\n      <td>13.635</td>\n      <td>80</td>\n      <td>0.0</td>\n      <td>8</td>\n      <td>32</td>\n      <td>40</td>\n      <td>1</td>\n    </tr>\n    <tr>\n      <th>2</th>\n      <td>2011-01-01 02:00:00</td>\n      <td>1</td>\n      <td>0</td>\n      <td>0</td>\n      <td>1</td>\n      <td>9.02</td>\n      <td>13.635</td>\n      <td>80</td>\n      <td>0.0</td>\n      <td>5</td>\n      <td>27</td>\n      <td>32</td>\n      <td>1</td>\n    </tr>\n    <tr>\n      <th>3</th>\n      <td>2011-01-01 03:00:00</td>\n      <td>1</td>\n      <td>0</td>\n      <td>0</td>\n      <td>1</td>\n      <td>9.84</td>\n      <td>14.395</td>\n      <td>75</td>\n      <td>0.0</td>\n      <td>3</td>\n      <td>10</td>\n      <td>13</td>\n      <td>1</td>\n    </tr>\n    <tr>\n      <th>4</th>\n      <td>2011-01-01 04:00:00</td>\n      <td>1</td>\n      <td>0</td>\n      <td>0</td>\n      <td>1</td>\n      <td>9.84</td>\n      <td>14.395</td>\n      <td>75</td>\n      <td>0.0</td>\n      <td>0</td>\n      <td>1</td>\n      <td>1</td>\n      <td>1</td>\n    </tr>\n  </tbody>\n</table>\n</div>"
          },
          "metadata": {}
        }
      ]
    },
    {
      "cell_type": "code",
      "source": "#Coluna 'Mês'\ndf['month'] = df['datetime'].dt.month\ndf.head()",
      "metadata": {
        "trusted": true
      },
      "execution_count": 13,
      "outputs": [
        {
          "execution_count": 13,
          "output_type": "execute_result",
          "data": {
            "text/plain": "             datetime  season  holiday  workingday  weather  temp   atemp  \\\n0 2011-01-01 00:00:00       1        0           0        1  9.84  14.395   \n1 2011-01-01 01:00:00       1        0           0        1  9.02  13.635   \n2 2011-01-01 02:00:00       1        0           0        1  9.02  13.635   \n3 2011-01-01 03:00:00       1        0           0        1  9.84  14.395   \n4 2011-01-01 04:00:00       1        0           0        1  9.84  14.395   \n\n   humidity  windspeed  casual  registered  count  day  month  \n0        81        0.0       3          13     16    1      1  \n1        80        0.0       8          32     40    1      1  \n2        80        0.0       5          27     32    1      1  \n3        75        0.0       3          10     13    1      1  \n4        75        0.0       0           1      1    1      1  ",
            "text/html": "<div>\n<style scoped>\n    .dataframe tbody tr th:only-of-type {\n        vertical-align: middle;\n    }\n\n    .dataframe tbody tr th {\n        vertical-align: top;\n    }\n\n    .dataframe thead th {\n        text-align: right;\n    }\n</style>\n<table border=\"1\" class=\"dataframe\">\n  <thead>\n    <tr style=\"text-align: right;\">\n      <th></th>\n      <th>datetime</th>\n      <th>season</th>\n      <th>holiday</th>\n      <th>workingday</th>\n      <th>weather</th>\n      <th>temp</th>\n      <th>atemp</th>\n      <th>humidity</th>\n      <th>windspeed</th>\n      <th>casual</th>\n      <th>registered</th>\n      <th>count</th>\n      <th>day</th>\n      <th>month</th>\n    </tr>\n  </thead>\n  <tbody>\n    <tr>\n      <th>0</th>\n      <td>2011-01-01 00:00:00</td>\n      <td>1</td>\n      <td>0</td>\n      <td>0</td>\n      <td>1</td>\n      <td>9.84</td>\n      <td>14.395</td>\n      <td>81</td>\n      <td>0.0</td>\n      <td>3</td>\n      <td>13</td>\n      <td>16</td>\n      <td>1</td>\n      <td>1</td>\n    </tr>\n    <tr>\n      <th>1</th>\n      <td>2011-01-01 01:00:00</td>\n      <td>1</td>\n      <td>0</td>\n      <td>0</td>\n      <td>1</td>\n      <td>9.02</td>\n      <td>13.635</td>\n      <td>80</td>\n      <td>0.0</td>\n      <td>8</td>\n      <td>32</td>\n      <td>40</td>\n      <td>1</td>\n      <td>1</td>\n    </tr>\n    <tr>\n      <th>2</th>\n      <td>2011-01-01 02:00:00</td>\n      <td>1</td>\n      <td>0</td>\n      <td>0</td>\n      <td>1</td>\n      <td>9.02</td>\n      <td>13.635</td>\n      <td>80</td>\n      <td>0.0</td>\n      <td>5</td>\n      <td>27</td>\n      <td>32</td>\n      <td>1</td>\n      <td>1</td>\n    </tr>\n    <tr>\n      <th>3</th>\n      <td>2011-01-01 03:00:00</td>\n      <td>1</td>\n      <td>0</td>\n      <td>0</td>\n      <td>1</td>\n      <td>9.84</td>\n      <td>14.395</td>\n      <td>75</td>\n      <td>0.0</td>\n      <td>3</td>\n      <td>10</td>\n      <td>13</td>\n      <td>1</td>\n      <td>1</td>\n    </tr>\n    <tr>\n      <th>4</th>\n      <td>2011-01-01 04:00:00</td>\n      <td>1</td>\n      <td>0</td>\n      <td>0</td>\n      <td>1</td>\n      <td>9.84</td>\n      <td>14.395</td>\n      <td>75</td>\n      <td>0.0</td>\n      <td>0</td>\n      <td>1</td>\n      <td>1</td>\n      <td>1</td>\n      <td>1</td>\n    </tr>\n  </tbody>\n</table>\n</div>"
          },
          "metadata": {}
        }
      ]
    },
    {
      "cell_type": "code",
      "source": "#Coluna 'Ano'\ndf['year'] = df['datetime'].dt.year\ndf.head()\n",
      "metadata": {
        "trusted": true
      },
      "execution_count": 33,
      "outputs": [
        {
          "execution_count": 33,
          "output_type": "execute_result",
          "data": {
            "text/plain": "             datetime  season  holiday  workingday  weather  temp   atemp  \\\n0 2011-01-01 00:00:00       1        0           0        1  9.84  14.395   \n1 2011-01-01 01:00:00       1        0           0        1  9.02  13.635   \n2 2011-01-01 02:00:00       1        0           0        1  9.02  13.635   \n3 2011-01-01 03:00:00       1        0           0        1  9.84  14.395   \n4 2011-01-01 04:00:00       1        0           0        1  9.84  14.395   \n\n   humidity  windspeed  casual  registered  count  day  month  Year  year  \n0        81        0.0       3          13     16    1      1  2011  2011  \n1        80        0.0       8          32     40    1      1  2011  2011  \n2        80        0.0       5          27     32    1      1  2011  2011  \n3        75        0.0       3          10     13    1      1  2011  2011  \n4        75        0.0       0           1      1    1      1  2011  2011  ",
            "text/html": "<div>\n<style scoped>\n    .dataframe tbody tr th:only-of-type {\n        vertical-align: middle;\n    }\n\n    .dataframe tbody tr th {\n        vertical-align: top;\n    }\n\n    .dataframe thead th {\n        text-align: right;\n    }\n</style>\n<table border=\"1\" class=\"dataframe\">\n  <thead>\n    <tr style=\"text-align: right;\">\n      <th></th>\n      <th>datetime</th>\n      <th>season</th>\n      <th>holiday</th>\n      <th>workingday</th>\n      <th>weather</th>\n      <th>temp</th>\n      <th>atemp</th>\n      <th>humidity</th>\n      <th>windspeed</th>\n      <th>casual</th>\n      <th>registered</th>\n      <th>count</th>\n      <th>day</th>\n      <th>month</th>\n      <th>Year</th>\n      <th>year</th>\n    </tr>\n  </thead>\n  <tbody>\n    <tr>\n      <th>0</th>\n      <td>2011-01-01 00:00:00</td>\n      <td>1</td>\n      <td>0</td>\n      <td>0</td>\n      <td>1</td>\n      <td>9.84</td>\n      <td>14.395</td>\n      <td>81</td>\n      <td>0.0</td>\n      <td>3</td>\n      <td>13</td>\n      <td>16</td>\n      <td>1</td>\n      <td>1</td>\n      <td>2011</td>\n      <td>2011</td>\n    </tr>\n    <tr>\n      <th>1</th>\n      <td>2011-01-01 01:00:00</td>\n      <td>1</td>\n      <td>0</td>\n      <td>0</td>\n      <td>1</td>\n      <td>9.02</td>\n      <td>13.635</td>\n      <td>80</td>\n      <td>0.0</td>\n      <td>8</td>\n      <td>32</td>\n      <td>40</td>\n      <td>1</td>\n      <td>1</td>\n      <td>2011</td>\n      <td>2011</td>\n    </tr>\n    <tr>\n      <th>2</th>\n      <td>2011-01-01 02:00:00</td>\n      <td>1</td>\n      <td>0</td>\n      <td>0</td>\n      <td>1</td>\n      <td>9.02</td>\n      <td>13.635</td>\n      <td>80</td>\n      <td>0.0</td>\n      <td>5</td>\n      <td>27</td>\n      <td>32</td>\n      <td>1</td>\n      <td>1</td>\n      <td>2011</td>\n      <td>2011</td>\n    </tr>\n    <tr>\n      <th>3</th>\n      <td>2011-01-01 03:00:00</td>\n      <td>1</td>\n      <td>0</td>\n      <td>0</td>\n      <td>1</td>\n      <td>9.84</td>\n      <td>14.395</td>\n      <td>75</td>\n      <td>0.0</td>\n      <td>3</td>\n      <td>10</td>\n      <td>13</td>\n      <td>1</td>\n      <td>1</td>\n      <td>2011</td>\n      <td>2011</td>\n    </tr>\n    <tr>\n      <th>4</th>\n      <td>2011-01-01 04:00:00</td>\n      <td>1</td>\n      <td>0</td>\n      <td>0</td>\n      <td>1</td>\n      <td>9.84</td>\n      <td>14.395</td>\n      <td>75</td>\n      <td>0.0</td>\n      <td>0</td>\n      <td>1</td>\n      <td>1</td>\n      <td>1</td>\n      <td>1</td>\n      <td>2011</td>\n      <td>2011</td>\n    </tr>\n  </tbody>\n</table>\n</div>"
          },
          "metadata": {}
        }
      ]
    },
    {
      "cell_type": "code",
      "source": "df[['day', 'month', 'year']]",
      "metadata": {
        "trusted": true
      },
      "execution_count": 32,
      "outputs": [
        {
          "execution_count": 32,
          "output_type": "execute_result",
          "data": {
            "text/plain": "       day  month  year\n0        1      1  2011\n1        1      1  2011\n2        1      1  2011\n3        1      1  2011\n4        1      1  2011\n...    ...    ...   ...\n10881   19     12  2012\n10882   19     12  2012\n10883   19     12  2012\n10884   19     12  2012\n10885   19     12  2012\n\n[10886 rows x 3 columns]",
            "text/html": "<div>\n<style scoped>\n    .dataframe tbody tr th:only-of-type {\n        vertical-align: middle;\n    }\n\n    .dataframe tbody tr th {\n        vertical-align: top;\n    }\n\n    .dataframe thead th {\n        text-align: right;\n    }\n</style>\n<table border=\"1\" class=\"dataframe\">\n  <thead>\n    <tr style=\"text-align: right;\">\n      <th></th>\n      <th>day</th>\n      <th>month</th>\n      <th>year</th>\n    </tr>\n  </thead>\n  <tbody>\n    <tr>\n      <th>0</th>\n      <td>1</td>\n      <td>1</td>\n      <td>2011</td>\n    </tr>\n    <tr>\n      <th>1</th>\n      <td>1</td>\n      <td>1</td>\n      <td>2011</td>\n    </tr>\n    <tr>\n      <th>2</th>\n      <td>1</td>\n      <td>1</td>\n      <td>2011</td>\n    </tr>\n    <tr>\n      <th>3</th>\n      <td>1</td>\n      <td>1</td>\n      <td>2011</td>\n    </tr>\n    <tr>\n      <th>4</th>\n      <td>1</td>\n      <td>1</td>\n      <td>2011</td>\n    </tr>\n    <tr>\n      <th>...</th>\n      <td>...</td>\n      <td>...</td>\n      <td>...</td>\n    </tr>\n    <tr>\n      <th>10881</th>\n      <td>19</td>\n      <td>12</td>\n      <td>2012</td>\n    </tr>\n    <tr>\n      <th>10882</th>\n      <td>19</td>\n      <td>12</td>\n      <td>2012</td>\n    </tr>\n    <tr>\n      <th>10883</th>\n      <td>19</td>\n      <td>12</td>\n      <td>2012</td>\n    </tr>\n    <tr>\n      <th>10884</th>\n      <td>19</td>\n      <td>12</td>\n      <td>2012</td>\n    </tr>\n    <tr>\n      <th>10885</th>\n      <td>19</td>\n      <td>12</td>\n      <td>2012</td>\n    </tr>\n  </tbody>\n</table>\n<p>10886 rows × 3 columns</p>\n</div>"
          },
          "metadata": {}
        }
      ]
    },
    {
      "cell_type": "code",
      "source": "# Apagar coluna\ndf = df.drop(columns= ['Year'])\ndf.head()",
      "metadata": {
        "trusted": true
      },
      "execution_count": 38,
      "outputs": [
        {
          "execution_count": 38,
          "output_type": "execute_result",
          "data": {
            "text/plain": "             datetime  season  holiday  workingday  weather  temp   atemp  \\\n0 2011-01-01 00:00:00       1        0           0        1  9.84  14.395   \n1 2011-01-01 01:00:00       1        0           0        1  9.02  13.635   \n2 2011-01-01 02:00:00       1        0           0        1  9.02  13.635   \n3 2011-01-01 03:00:00       1        0           0        1  9.84  14.395   \n4 2011-01-01 04:00:00       1        0           0        1  9.84  14.395   \n\n   humidity  windspeed  casual  registered  count  day  month  year  \n0        81        0.0       3          13     16    1      1  2011  \n1        80        0.0       8          32     40    1      1  2011  \n2        80        0.0       5          27     32    1      1  2011  \n3        75        0.0       3          10     13    1      1  2011  \n4        75        0.0       0           1      1    1      1  2011  ",
            "text/html": "<div>\n<style scoped>\n    .dataframe tbody tr th:only-of-type {\n        vertical-align: middle;\n    }\n\n    .dataframe tbody tr th {\n        vertical-align: top;\n    }\n\n    .dataframe thead th {\n        text-align: right;\n    }\n</style>\n<table border=\"1\" class=\"dataframe\">\n  <thead>\n    <tr style=\"text-align: right;\">\n      <th></th>\n      <th>datetime</th>\n      <th>season</th>\n      <th>holiday</th>\n      <th>workingday</th>\n      <th>weather</th>\n      <th>temp</th>\n      <th>atemp</th>\n      <th>humidity</th>\n      <th>windspeed</th>\n      <th>casual</th>\n      <th>registered</th>\n      <th>count</th>\n      <th>day</th>\n      <th>month</th>\n      <th>year</th>\n    </tr>\n  </thead>\n  <tbody>\n    <tr>\n      <th>0</th>\n      <td>2011-01-01 00:00:00</td>\n      <td>1</td>\n      <td>0</td>\n      <td>0</td>\n      <td>1</td>\n      <td>9.84</td>\n      <td>14.395</td>\n      <td>81</td>\n      <td>0.0</td>\n      <td>3</td>\n      <td>13</td>\n      <td>16</td>\n      <td>1</td>\n      <td>1</td>\n      <td>2011</td>\n    </tr>\n    <tr>\n      <th>1</th>\n      <td>2011-01-01 01:00:00</td>\n      <td>1</td>\n      <td>0</td>\n      <td>0</td>\n      <td>1</td>\n      <td>9.02</td>\n      <td>13.635</td>\n      <td>80</td>\n      <td>0.0</td>\n      <td>8</td>\n      <td>32</td>\n      <td>40</td>\n      <td>1</td>\n      <td>1</td>\n      <td>2011</td>\n    </tr>\n    <tr>\n      <th>2</th>\n      <td>2011-01-01 02:00:00</td>\n      <td>1</td>\n      <td>0</td>\n      <td>0</td>\n      <td>1</td>\n      <td>9.02</td>\n      <td>13.635</td>\n      <td>80</td>\n      <td>0.0</td>\n      <td>5</td>\n      <td>27</td>\n      <td>32</td>\n      <td>1</td>\n      <td>1</td>\n      <td>2011</td>\n    </tr>\n    <tr>\n      <th>3</th>\n      <td>2011-01-01 03:00:00</td>\n      <td>1</td>\n      <td>0</td>\n      <td>0</td>\n      <td>1</td>\n      <td>9.84</td>\n      <td>14.395</td>\n      <td>75</td>\n      <td>0.0</td>\n      <td>3</td>\n      <td>10</td>\n      <td>13</td>\n      <td>1</td>\n      <td>1</td>\n      <td>2011</td>\n    </tr>\n    <tr>\n      <th>4</th>\n      <td>2011-01-01 04:00:00</td>\n      <td>1</td>\n      <td>0</td>\n      <td>0</td>\n      <td>1</td>\n      <td>9.84</td>\n      <td>14.395</td>\n      <td>75</td>\n      <td>0.0</td>\n      <td>0</td>\n      <td>1</td>\n      <td>1</td>\n      <td>1</td>\n      <td>1</td>\n      <td>2011</td>\n    </tr>\n  </tbody>\n</table>\n</div>"
          },
          "metadata": {}
        }
      ]
    },
    {
      "cell_type": "code",
      "source": "data = df['day'].map(str) + '-' + df['month'].map(str)\nprint(data)                          ",
      "metadata": {
        "trusted": true
      },
      "execution_count": 53,
      "outputs": [
        {
          "name": "stdout",
          "text": "0          1-1\n1          1-1\n2          1-1\n3          1-1\n4          1-1\n         ...  \n10881    19-12\n10882    19-12\n10883    19-12\n10884    19-12\n10885    19-12\nLength: 10886, dtype: object\n",
          "output_type": "stream"
        }
      ]
    },
    {
      "cell_type": "code",
      "source": "#Concatenar colunas\ndf['date'] = df['day'].map(str) + '/' + df['month'].map(str) + '/' + df['year'].map(str)\ndf.head()",
      "metadata": {
        "trusted": true
      },
      "execution_count": 54,
      "outputs": [
        {
          "execution_count": 54,
          "output_type": "execute_result",
          "data": {
            "text/plain": "             datetime  season  holiday  workingday  weather  temp   atemp  \\\n0 2011-01-01 00:00:00       1        0           0        1  9.84  14.395   \n1 2011-01-01 01:00:00       1        0           0        1  9.02  13.635   \n2 2011-01-01 02:00:00       1        0           0        1  9.02  13.635   \n3 2011-01-01 03:00:00       1        0           0        1  9.84  14.395   \n4 2011-01-01 04:00:00       1        0           0        1  9.84  14.395   \n\n   humidity  windspeed  casual  registered  count  day  month  year      date  \n0        81        0.0       3          13     16    1      1  2011  1/1/2011  \n1        80        0.0       8          32     40    1      1  2011  1/1/2011  \n2        80        0.0       5          27     32    1      1  2011  1/1/2011  \n3        75        0.0       3          10     13    1      1  2011  1/1/2011  \n4        75        0.0       0           1      1    1      1  2011  1/1/2011  ",
            "text/html": "<div>\n<style scoped>\n    .dataframe tbody tr th:only-of-type {\n        vertical-align: middle;\n    }\n\n    .dataframe tbody tr th {\n        vertical-align: top;\n    }\n\n    .dataframe thead th {\n        text-align: right;\n    }\n</style>\n<table border=\"1\" class=\"dataframe\">\n  <thead>\n    <tr style=\"text-align: right;\">\n      <th></th>\n      <th>datetime</th>\n      <th>season</th>\n      <th>holiday</th>\n      <th>workingday</th>\n      <th>weather</th>\n      <th>temp</th>\n      <th>atemp</th>\n      <th>humidity</th>\n      <th>windspeed</th>\n      <th>casual</th>\n      <th>registered</th>\n      <th>count</th>\n      <th>day</th>\n      <th>month</th>\n      <th>year</th>\n      <th>date</th>\n    </tr>\n  </thead>\n  <tbody>\n    <tr>\n      <th>0</th>\n      <td>2011-01-01 00:00:00</td>\n      <td>1</td>\n      <td>0</td>\n      <td>0</td>\n      <td>1</td>\n      <td>9.84</td>\n      <td>14.395</td>\n      <td>81</td>\n      <td>0.0</td>\n      <td>3</td>\n      <td>13</td>\n      <td>16</td>\n      <td>1</td>\n      <td>1</td>\n      <td>2011</td>\n      <td>1/1/2011</td>\n    </tr>\n    <tr>\n      <th>1</th>\n      <td>2011-01-01 01:00:00</td>\n      <td>1</td>\n      <td>0</td>\n      <td>0</td>\n      <td>1</td>\n      <td>9.02</td>\n      <td>13.635</td>\n      <td>80</td>\n      <td>0.0</td>\n      <td>8</td>\n      <td>32</td>\n      <td>40</td>\n      <td>1</td>\n      <td>1</td>\n      <td>2011</td>\n      <td>1/1/2011</td>\n    </tr>\n    <tr>\n      <th>2</th>\n      <td>2011-01-01 02:00:00</td>\n      <td>1</td>\n      <td>0</td>\n      <td>0</td>\n      <td>1</td>\n      <td>9.02</td>\n      <td>13.635</td>\n      <td>80</td>\n      <td>0.0</td>\n      <td>5</td>\n      <td>27</td>\n      <td>32</td>\n      <td>1</td>\n      <td>1</td>\n      <td>2011</td>\n      <td>1/1/2011</td>\n    </tr>\n    <tr>\n      <th>3</th>\n      <td>2011-01-01 03:00:00</td>\n      <td>1</td>\n      <td>0</td>\n      <td>0</td>\n      <td>1</td>\n      <td>9.84</td>\n      <td>14.395</td>\n      <td>75</td>\n      <td>0.0</td>\n      <td>3</td>\n      <td>10</td>\n      <td>13</td>\n      <td>1</td>\n      <td>1</td>\n      <td>2011</td>\n      <td>1/1/2011</td>\n    </tr>\n    <tr>\n      <th>4</th>\n      <td>2011-01-01 04:00:00</td>\n      <td>1</td>\n      <td>0</td>\n      <td>0</td>\n      <td>1</td>\n      <td>9.84</td>\n      <td>14.395</td>\n      <td>75</td>\n      <td>0.0</td>\n      <td>0</td>\n      <td>1</td>\n      <td>1</td>\n      <td>1</td>\n      <td>1</td>\n      <td>2011</td>\n      <td>1/1/2011</td>\n    </tr>\n  </tbody>\n</table>\n</div>"
          },
          "metadata": {}
        }
      ]
    },
    {
      "cell_type": "code",
      "source": "df.dtypes",
      "metadata": {
        "trusted": true
      },
      "execution_count": 55,
      "outputs": [
        {
          "execution_count": 55,
          "output_type": "execute_result",
          "data": {
            "text/plain": "datetime      datetime64[ns]\nseason                 int64\nholiday                int64\nworkingday             int64\nweather                int64\ntemp                 float64\natemp                float64\nhumidity               int64\nwindspeed            float64\ncasual                 int64\nregistered             int64\ncount                  int64\nday                    int64\nmonth                  int64\nyear                   int64\ndate                  object\ndtype: object"
          },
          "metadata": {}
        }
      ]
    },
    {
      "cell_type": "code",
      "source": "df['date'] = pd.to_datetime(df['date'])\ndf.dtypes",
      "metadata": {
        "trusted": true
      },
      "execution_count": 56,
      "outputs": [
        {
          "name": "stderr",
          "text": "/lib/python3.10/site-packages/pandas/core/tools/datetimes.py:1047: UserWarning: Parsing '13/10/2011' in DD/MM/YYYY format. Provide format or specify infer_datetime_format=True for consistent parsing.\n  cache_array = _maybe_cache(arg, format, cache, convert_listlike)\n/lib/python3.10/site-packages/pandas/core/tools/datetimes.py:1047: UserWarning: Parsing '14/10/2011' in DD/MM/YYYY format. Provide format or specify infer_datetime_format=True for consistent parsing.\n  cache_array = _maybe_cache(arg, format, cache, convert_listlike)\n/lib/python3.10/site-packages/pandas/core/tools/datetimes.py:1047: UserWarning: Parsing '15/10/2011' in DD/MM/YYYY format. Provide format or specify infer_datetime_format=True for consistent parsing.\n  cache_array = _maybe_cache(arg, format, cache, convert_listlike)\n/lib/python3.10/site-packages/pandas/core/tools/datetimes.py:1047: UserWarning: Parsing '16/10/2011' in DD/MM/YYYY format. Provide format or specify infer_datetime_format=True for consistent parsing.\n  cache_array = _maybe_cache(arg, format, cache, convert_listlike)\n/lib/python3.10/site-packages/pandas/core/tools/datetimes.py:1047: UserWarning: Parsing '17/10/2011' in DD/MM/YYYY format. Provide format or specify infer_datetime_format=True for consistent parsing.\n  cache_array = _maybe_cache(arg, format, cache, convert_listlike)\n/lib/python3.10/site-packages/pandas/core/tools/datetimes.py:1047: UserWarning: Parsing '18/10/2011' in DD/MM/YYYY format. Provide format or specify infer_datetime_format=True for consistent parsing.\n  cache_array = _maybe_cache(arg, format, cache, convert_listlike)\n/lib/python3.10/site-packages/pandas/core/tools/datetimes.py:1047: UserWarning: Parsing '19/10/2011' in DD/MM/YYYY format. Provide format or specify infer_datetime_format=True for consistent parsing.\n  cache_array = _maybe_cache(arg, format, cache, convert_listlike)\n/lib/python3.10/site-packages/pandas/core/tools/datetimes.py:1047: UserWarning: Parsing '13/11/2011' in DD/MM/YYYY format. Provide format or specify infer_datetime_format=True for consistent parsing.\n  cache_array = _maybe_cache(arg, format, cache, convert_listlike)\n/lib/python3.10/site-packages/pandas/core/tools/datetimes.py:1047: UserWarning: Parsing '14/11/2011' in DD/MM/YYYY format. Provide format or specify infer_datetime_format=True for consistent parsing.\n  cache_array = _maybe_cache(arg, format, cache, convert_listlike)\n/lib/python3.10/site-packages/pandas/core/tools/datetimes.py:1047: UserWarning: Parsing '15/11/2011' in DD/MM/YYYY format. Provide format or specify infer_datetime_format=True for consistent parsing.\n  cache_array = _maybe_cache(arg, format, cache, convert_listlike)\n/lib/python3.10/site-packages/pandas/core/tools/datetimes.py:1047: UserWarning: Parsing '16/11/2011' in DD/MM/YYYY format. Provide format or specify infer_datetime_format=True for consistent parsing.\n  cache_array = _maybe_cache(arg, format, cache, convert_listlike)\n/lib/python3.10/site-packages/pandas/core/tools/datetimes.py:1047: UserWarning: Parsing '17/11/2011' in DD/MM/YYYY format. Provide format or specify infer_datetime_format=True for consistent parsing.\n  cache_array = _maybe_cache(arg, format, cache, convert_listlike)\n/lib/python3.10/site-packages/pandas/core/tools/datetimes.py:1047: UserWarning: Parsing '18/11/2011' in DD/MM/YYYY format. Provide format or specify infer_datetime_format=True for consistent parsing.\n  cache_array = _maybe_cache(arg, format, cache, convert_listlike)\n/lib/python3.10/site-packages/pandas/core/tools/datetimes.py:1047: UserWarning: Parsing '19/11/2011' in DD/MM/YYYY format. Provide format or specify infer_datetime_format=True for consistent parsing.\n  cache_array = _maybe_cache(arg, format, cache, convert_listlike)\n/lib/python3.10/site-packages/pandas/core/tools/datetimes.py:1047: UserWarning: Parsing '13/12/2011' in DD/MM/YYYY format. Provide format or specify infer_datetime_format=True for consistent parsing.\n  cache_array = _maybe_cache(arg, format, cache, convert_listlike)\n/lib/python3.10/site-packages/pandas/core/tools/datetimes.py:1047: UserWarning: Parsing '14/12/2011' in DD/MM/YYYY format. Provide format or specify infer_datetime_format=True for consistent parsing.\n  cache_array = _maybe_cache(arg, format, cache, convert_listlike)\n/lib/python3.10/site-packages/pandas/core/tools/datetimes.py:1047: UserWarning: Parsing '15/12/2011' in DD/MM/YYYY format. Provide format or specify infer_datetime_format=True for consistent parsing.\n  cache_array = _maybe_cache(arg, format, cache, convert_listlike)\n/lib/python3.10/site-packages/pandas/core/tools/datetimes.py:1047: UserWarning: Parsing '16/12/2011' in DD/MM/YYYY format. Provide format or specify infer_datetime_format=True for consistent parsing.\n  cache_array = _maybe_cache(arg, format, cache, convert_listlike)\n/lib/python3.10/site-packages/pandas/core/tools/datetimes.py:1047: UserWarning: Parsing '17/12/2011' in DD/MM/YYYY format. Provide format or specify infer_datetime_format=True for consistent parsing.\n  cache_array = _maybe_cache(arg, format, cache, convert_listlike)\n/lib/python3.10/site-packages/pandas/core/tools/datetimes.py:1047: UserWarning: Parsing '18/12/2011' in DD/MM/YYYY format. Provide format or specify infer_datetime_format=True for consistent parsing.\n  cache_array = _maybe_cache(arg, format, cache, convert_listlike)\n/lib/python3.10/site-packages/pandas/core/tools/datetimes.py:1047: UserWarning: Parsing '19/12/2011' in DD/MM/YYYY format. Provide format or specify infer_datetime_format=True for consistent parsing.\n  cache_array = _maybe_cache(arg, format, cache, convert_listlike)\n/lib/python3.10/site-packages/pandas/core/tools/datetimes.py:1047: UserWarning: Parsing '13/10/2012' in DD/MM/YYYY format. Provide format or specify infer_datetime_format=True for consistent parsing.\n  cache_array = _maybe_cache(arg, format, cache, convert_listlike)\n/lib/python3.10/site-packages/pandas/core/tools/datetimes.py:1047: UserWarning: Parsing '14/10/2012' in DD/MM/YYYY format. Provide format or specify infer_datetime_format=True for consistent parsing.\n  cache_array = _maybe_cache(arg, format, cache, convert_listlike)\n/lib/python3.10/site-packages/pandas/core/tools/datetimes.py:1047: UserWarning: Parsing '15/10/2012' in DD/MM/YYYY format. Provide format or specify infer_datetime_format=True for consistent parsing.\n  cache_array = _maybe_cache(arg, format, cache, convert_listlike)\n/lib/python3.10/site-packages/pandas/core/tools/datetimes.py:1047: UserWarning: Parsing '16/10/2012' in DD/MM/YYYY format. Provide format or specify infer_datetime_format=True for consistent parsing.\n  cache_array = _maybe_cache(arg, format, cache, convert_listlike)\n/lib/python3.10/site-packages/pandas/core/tools/datetimes.py:1047: UserWarning: Parsing '17/10/2012' in DD/MM/YYYY format. Provide format or specify infer_datetime_format=True for consistent parsing.\n  cache_array = _maybe_cache(arg, format, cache, convert_listlike)\n/lib/python3.10/site-packages/pandas/core/tools/datetimes.py:1047: UserWarning: Parsing '18/10/2012' in DD/MM/YYYY format. Provide format or specify infer_datetime_format=True for consistent parsing.\n  cache_array = _maybe_cache(arg, format, cache, convert_listlike)\n/lib/python3.10/site-packages/pandas/core/tools/datetimes.py:1047: UserWarning: Parsing '19/10/2012' in DD/MM/YYYY format. Provide format or specify infer_datetime_format=True for consistent parsing.\n  cache_array = _maybe_cache(arg, format, cache, convert_listlike)\n/lib/python3.10/site-packages/pandas/core/tools/datetimes.py:1047: UserWarning: Parsing '13/11/2012' in DD/MM/YYYY format. Provide format or specify infer_datetime_format=True for consistent parsing.\n  cache_array = _maybe_cache(arg, format, cache, convert_listlike)\n/lib/python3.10/site-packages/pandas/core/tools/datetimes.py:1047: UserWarning: Parsing '14/11/2012' in DD/MM/YYYY format. Provide format or specify infer_datetime_format=True for consistent parsing.\n  cache_array = _maybe_cache(arg, format, cache, convert_listlike)\n/lib/python3.10/site-packages/pandas/core/tools/datetimes.py:1047: UserWarning: Parsing '15/11/2012' in DD/MM/YYYY format. Provide format or specify infer_datetime_format=True for consistent parsing.\n  cache_array = _maybe_cache(arg, format, cache, convert_listlike)\n/lib/python3.10/site-packages/pandas/core/tools/datetimes.py:1047: UserWarning: Parsing '16/11/2012' in DD/MM/YYYY format. Provide format or specify infer_datetime_format=True for consistent parsing.\n  cache_array = _maybe_cache(arg, format, cache, convert_listlike)\n/lib/python3.10/site-packages/pandas/core/tools/datetimes.py:1047: UserWarning: Parsing '17/11/2012' in DD/MM/YYYY format. Provide format or specify infer_datetime_format=True for consistent parsing.\n  cache_array = _maybe_cache(arg, format, cache, convert_listlike)\n/lib/python3.10/site-packages/pandas/core/tools/datetimes.py:1047: UserWarning: Parsing '18/11/2012' in DD/MM/YYYY format. Provide format or specify infer_datetime_format=True for consistent parsing.\n  cache_array = _maybe_cache(arg, format, cache, convert_listlike)\n/lib/python3.10/site-packages/pandas/core/tools/datetimes.py:1047: UserWarning: Parsing '19/11/2012' in DD/MM/YYYY format. Provide format or specify infer_datetime_format=True for consistent parsing.\n  cache_array = _maybe_cache(arg, format, cache, convert_listlike)\n/lib/python3.10/site-packages/pandas/core/tools/datetimes.py:1047: UserWarning: Parsing '13/12/2012' in DD/MM/YYYY format. Provide format or specify infer_datetime_format=True for consistent parsing.\n  cache_array = _maybe_cache(arg, format, cache, convert_listlike)\n/lib/python3.10/site-packages/pandas/core/tools/datetimes.py:1047: UserWarning: Parsing '14/12/2012' in DD/MM/YYYY format. Provide format or specify infer_datetime_format=True for consistent parsing.\n  cache_array = _maybe_cache(arg, format, cache, convert_listlike)\n/lib/python3.10/site-packages/pandas/core/tools/datetimes.py:1047: UserWarning: Parsing '15/12/2012' in DD/MM/YYYY format. Provide format or specify infer_datetime_format=True for consistent parsing.\n  cache_array = _maybe_cache(arg, format, cache, convert_listlike)\n/lib/python3.10/site-packages/pandas/core/tools/datetimes.py:1047: UserWarning: Parsing '16/12/2012' in DD/MM/YYYY format. Provide format or specify infer_datetime_format=True for consistent parsing.\n  cache_array = _maybe_cache(arg, format, cache, convert_listlike)\n/lib/python3.10/site-packages/pandas/core/tools/datetimes.py:1047: UserWarning: Parsing '17/12/2012' in DD/MM/YYYY format. Provide format or specify infer_datetime_format=True for consistent parsing.\n  cache_array = _maybe_cache(arg, format, cache, convert_listlike)\n/lib/python3.10/site-packages/pandas/core/tools/datetimes.py:1047: UserWarning: Parsing '18/12/2012' in DD/MM/YYYY format. Provide format or specify infer_datetime_format=True for consistent parsing.\n  cache_array = _maybe_cache(arg, format, cache, convert_listlike)\n/lib/python3.10/site-packages/pandas/core/tools/datetimes.py:1047: UserWarning: Parsing '19/12/2012' in DD/MM/YYYY format. Provide format or specify infer_datetime_format=True for consistent parsing.\n  cache_array = _maybe_cache(arg, format, cache, convert_listlike)\n",
          "output_type": "stream"
        },
        {
          "execution_count": 56,
          "output_type": "execute_result",
          "data": {
            "text/plain": "datetime      datetime64[ns]\nseason                 int64\nholiday                int64\nworkingday             int64\nweather                int64\ntemp                 float64\natemp                float64\nhumidity               int64\nwindspeed            float64\ncasual                 int64\nregistered             int64\ncount                  int64\nday                    int64\nmonth                  int64\nyear                   int64\ndate          datetime64[ns]\ndtype: object"
          },
          "metadata": {}
        }
      ]
    },
    {
      "cell_type": "code",
      "source": "df[df['date'].dt.month == 2]",
      "metadata": {
        "trusted": true
      },
      "execution_count": 61,
      "outputs": [
        {
          "execution_count": 61,
          "output_type": "execute_result",
          "data": {
            "text/plain": "                 datetime  season  holiday  workingday  weather   temp  \\\n24    2011-01-02 00:00:00       1        0           0        2  18.86   \n25    2011-01-02 01:00:00       1        0           0        2  18.04   \n26    2011-01-02 02:00:00       1        0           0        2  17.22   \n27    2011-01-02 03:00:00       1        0           0        2  18.86   \n28    2011-01-02 04:00:00       1        0           0        2  18.86   \n...                   ...     ...      ...         ...      ...    ...   \n10473 2012-12-02 19:00:00       4        0           0        2  16.40   \n10474 2012-12-02 20:00:00       4        0           0        2  17.22   \n10475 2012-12-02 21:00:00       4        0           0        2  18.04   \n10476 2012-12-02 22:00:00       4        0           0        2  18.04   \n10477 2012-12-02 23:00:00       4        0           0        2  17.22   \n\n        atemp  humidity  windspeed  casual  registered  count  day  month  \\\n24     22.725        88    19.9995       4          13     17    2      1   \n25     21.970        94    16.9979       1          16     17    2      1   \n26     21.210       100    19.0012       1           8      9    2      1   \n27     22.725        94    12.9980       2           4      6    2      1   \n28     22.725        94    12.9980       2           1      3    2      1   \n...       ...       ...        ...     ...         ...    ...  ...    ...   \n10473  20.455        82    12.9980      16         158    174    2     12   \n10474  21.210        82    12.9980      12         142    154    2     12   \n10475  21.970        77    15.0013       8          91     99    2     12   \n10476  21.970        77    12.9980      11          85     96    2     12   \n10477  21.210        82     8.9981       7          44     51    2     12   \n\n       year       date  \n24     2011 2011-02-01  \n25     2011 2011-02-01  \n26     2011 2011-02-01  \n27     2011 2011-02-01  \n28     2011 2011-02-01  \n...     ...        ...  \n10473  2012 2012-02-12  \n10474  2012 2012-02-12  \n10475  2012 2012-02-12  \n10476  2012 2012-02-12  \n10477  2012 2012-02-12  \n\n[906 rows x 16 columns]",
            "text/html": "<div>\n<style scoped>\n    .dataframe tbody tr th:only-of-type {\n        vertical-align: middle;\n    }\n\n    .dataframe tbody tr th {\n        vertical-align: top;\n    }\n\n    .dataframe thead th {\n        text-align: right;\n    }\n</style>\n<table border=\"1\" class=\"dataframe\">\n  <thead>\n    <tr style=\"text-align: right;\">\n      <th></th>\n      <th>datetime</th>\n      <th>season</th>\n      <th>holiday</th>\n      <th>workingday</th>\n      <th>weather</th>\n      <th>temp</th>\n      <th>atemp</th>\n      <th>humidity</th>\n      <th>windspeed</th>\n      <th>casual</th>\n      <th>registered</th>\n      <th>count</th>\n      <th>day</th>\n      <th>month</th>\n      <th>year</th>\n      <th>date</th>\n    </tr>\n  </thead>\n  <tbody>\n    <tr>\n      <th>24</th>\n      <td>2011-01-02 00:00:00</td>\n      <td>1</td>\n      <td>0</td>\n      <td>0</td>\n      <td>2</td>\n      <td>18.86</td>\n      <td>22.725</td>\n      <td>88</td>\n      <td>19.9995</td>\n      <td>4</td>\n      <td>13</td>\n      <td>17</td>\n      <td>2</td>\n      <td>1</td>\n      <td>2011</td>\n      <td>2011-02-01</td>\n    </tr>\n    <tr>\n      <th>25</th>\n      <td>2011-01-02 01:00:00</td>\n      <td>1</td>\n      <td>0</td>\n      <td>0</td>\n      <td>2</td>\n      <td>18.04</td>\n      <td>21.970</td>\n      <td>94</td>\n      <td>16.9979</td>\n      <td>1</td>\n      <td>16</td>\n      <td>17</td>\n      <td>2</td>\n      <td>1</td>\n      <td>2011</td>\n      <td>2011-02-01</td>\n    </tr>\n    <tr>\n      <th>26</th>\n      <td>2011-01-02 02:00:00</td>\n      <td>1</td>\n      <td>0</td>\n      <td>0</td>\n      <td>2</td>\n      <td>17.22</td>\n      <td>21.210</td>\n      <td>100</td>\n      <td>19.0012</td>\n      <td>1</td>\n      <td>8</td>\n      <td>9</td>\n      <td>2</td>\n      <td>1</td>\n      <td>2011</td>\n      <td>2011-02-01</td>\n    </tr>\n    <tr>\n      <th>27</th>\n      <td>2011-01-02 03:00:00</td>\n      <td>1</td>\n      <td>0</td>\n      <td>0</td>\n      <td>2</td>\n      <td>18.86</td>\n      <td>22.725</td>\n      <td>94</td>\n      <td>12.9980</td>\n      <td>2</td>\n      <td>4</td>\n      <td>6</td>\n      <td>2</td>\n      <td>1</td>\n      <td>2011</td>\n      <td>2011-02-01</td>\n    </tr>\n    <tr>\n      <th>28</th>\n      <td>2011-01-02 04:00:00</td>\n      <td>1</td>\n      <td>0</td>\n      <td>0</td>\n      <td>2</td>\n      <td>18.86</td>\n      <td>22.725</td>\n      <td>94</td>\n      <td>12.9980</td>\n      <td>2</td>\n      <td>1</td>\n      <td>3</td>\n      <td>2</td>\n      <td>1</td>\n      <td>2011</td>\n      <td>2011-02-01</td>\n    </tr>\n    <tr>\n      <th>...</th>\n      <td>...</td>\n      <td>...</td>\n      <td>...</td>\n      <td>...</td>\n      <td>...</td>\n      <td>...</td>\n      <td>...</td>\n      <td>...</td>\n      <td>...</td>\n      <td>...</td>\n      <td>...</td>\n      <td>...</td>\n      <td>...</td>\n      <td>...</td>\n      <td>...</td>\n      <td>...</td>\n    </tr>\n    <tr>\n      <th>10473</th>\n      <td>2012-12-02 19:00:00</td>\n      <td>4</td>\n      <td>0</td>\n      <td>0</td>\n      <td>2</td>\n      <td>16.40</td>\n      <td>20.455</td>\n      <td>82</td>\n      <td>12.9980</td>\n      <td>16</td>\n      <td>158</td>\n      <td>174</td>\n      <td>2</td>\n      <td>12</td>\n      <td>2012</td>\n      <td>2012-02-12</td>\n    </tr>\n    <tr>\n      <th>10474</th>\n      <td>2012-12-02 20:00:00</td>\n      <td>4</td>\n      <td>0</td>\n      <td>0</td>\n      <td>2</td>\n      <td>17.22</td>\n      <td>21.210</td>\n      <td>82</td>\n      <td>12.9980</td>\n      <td>12</td>\n      <td>142</td>\n      <td>154</td>\n      <td>2</td>\n      <td>12</td>\n      <td>2012</td>\n      <td>2012-02-12</td>\n    </tr>\n    <tr>\n      <th>10475</th>\n      <td>2012-12-02 21:00:00</td>\n      <td>4</td>\n      <td>0</td>\n      <td>0</td>\n      <td>2</td>\n      <td>18.04</td>\n      <td>21.970</td>\n      <td>77</td>\n      <td>15.0013</td>\n      <td>8</td>\n      <td>91</td>\n      <td>99</td>\n      <td>2</td>\n      <td>12</td>\n      <td>2012</td>\n      <td>2012-02-12</td>\n    </tr>\n    <tr>\n      <th>10476</th>\n      <td>2012-12-02 22:00:00</td>\n      <td>4</td>\n      <td>0</td>\n      <td>0</td>\n      <td>2</td>\n      <td>18.04</td>\n      <td>21.970</td>\n      <td>77</td>\n      <td>12.9980</td>\n      <td>11</td>\n      <td>85</td>\n      <td>96</td>\n      <td>2</td>\n      <td>12</td>\n      <td>2012</td>\n      <td>2012-02-12</td>\n    </tr>\n    <tr>\n      <th>10477</th>\n      <td>2012-12-02 23:00:00</td>\n      <td>4</td>\n      <td>0</td>\n      <td>0</td>\n      <td>2</td>\n      <td>17.22</td>\n      <td>21.210</td>\n      <td>82</td>\n      <td>8.9981</td>\n      <td>7</td>\n      <td>44</td>\n      <td>51</td>\n      <td>2</td>\n      <td>12</td>\n      <td>2012</td>\n      <td>2012-02-12</td>\n    </tr>\n  </tbody>\n</table>\n<p>906 rows × 16 columns</p>\n</div>"
          },
          "metadata": {}
        }
      ]
    },
    {
      "cell_type": "code",
      "source": "df[(df['date'].dt.month == 2 ) & (df['temp'] > 14)]",
      "metadata": {
        "trusted": true
      },
      "execution_count": 62,
      "outputs": [
        {
          "execution_count": 62,
          "output_type": "execute_result",
          "data": {
            "text/plain": "                 datetime  season  holiday  workingday  weather   temp  \\\n24    2011-01-02 00:00:00       1        0           0        2  18.86   \n25    2011-01-02 01:00:00       1        0           0        2  18.04   \n26    2011-01-02 02:00:00       1        0           0        2  17.22   \n27    2011-01-02 03:00:00       1        0           0        2  18.86   \n28    2011-01-02 04:00:00       1        0           0        2  18.86   \n...                   ...     ...      ...         ...      ...    ...   \n10473 2012-12-02 19:00:00       4        0           0        2  16.40   \n10474 2012-12-02 20:00:00       4        0           0        2  17.22   \n10475 2012-12-02 21:00:00       4        0           0        2  18.04   \n10476 2012-12-02 22:00:00       4        0           0        2  18.04   \n10477 2012-12-02 23:00:00       4        0           0        2  17.22   \n\n        atemp  humidity  windspeed  casual  registered  count  day  month  \\\n24     22.725        88    19.9995       4          13     17    2      1   \n25     21.970        94    16.9979       1          16     17    2      1   \n26     21.210       100    19.0012       1           8      9    2      1   \n27     22.725        94    12.9980       2           4      6    2      1   \n28     22.725        94    12.9980       2           1      3    2      1   \n...       ...       ...        ...     ...         ...    ...  ...    ...   \n10473  20.455        82    12.9980      16         158    174    2     12   \n10474  21.210        82    12.9980      12         142    154    2     12   \n10475  21.970        77    15.0013       8          91     99    2     12   \n10476  21.970        77    12.9980      11          85     96    2     12   \n10477  21.210        82     8.9981       7          44     51    2     12   \n\n       year       date  \n24     2011 2011-02-01  \n25     2011 2011-02-01  \n26     2011 2011-02-01  \n27     2011 2011-02-01  \n28     2011 2011-02-01  \n...     ...        ...  \n10473  2012 2012-02-12  \n10474  2012 2012-02-12  \n10475  2012 2012-02-12  \n10476  2012 2012-02-12  \n10477  2012 2012-02-12  \n\n[566 rows x 16 columns]",
            "text/html": "<div>\n<style scoped>\n    .dataframe tbody tr th:only-of-type {\n        vertical-align: middle;\n    }\n\n    .dataframe tbody tr th {\n        vertical-align: top;\n    }\n\n    .dataframe thead th {\n        text-align: right;\n    }\n</style>\n<table border=\"1\" class=\"dataframe\">\n  <thead>\n    <tr style=\"text-align: right;\">\n      <th></th>\n      <th>datetime</th>\n      <th>season</th>\n      <th>holiday</th>\n      <th>workingday</th>\n      <th>weather</th>\n      <th>temp</th>\n      <th>atemp</th>\n      <th>humidity</th>\n      <th>windspeed</th>\n      <th>casual</th>\n      <th>registered</th>\n      <th>count</th>\n      <th>day</th>\n      <th>month</th>\n      <th>year</th>\n      <th>date</th>\n    </tr>\n  </thead>\n  <tbody>\n    <tr>\n      <th>24</th>\n      <td>2011-01-02 00:00:00</td>\n      <td>1</td>\n      <td>0</td>\n      <td>0</td>\n      <td>2</td>\n      <td>18.86</td>\n      <td>22.725</td>\n      <td>88</td>\n      <td>19.9995</td>\n      <td>4</td>\n      <td>13</td>\n      <td>17</td>\n      <td>2</td>\n      <td>1</td>\n      <td>2011</td>\n      <td>2011-02-01</td>\n    </tr>\n    <tr>\n      <th>25</th>\n      <td>2011-01-02 01:00:00</td>\n      <td>1</td>\n      <td>0</td>\n      <td>0</td>\n      <td>2</td>\n      <td>18.04</td>\n      <td>21.970</td>\n      <td>94</td>\n      <td>16.9979</td>\n      <td>1</td>\n      <td>16</td>\n      <td>17</td>\n      <td>2</td>\n      <td>1</td>\n      <td>2011</td>\n      <td>2011-02-01</td>\n    </tr>\n    <tr>\n      <th>26</th>\n      <td>2011-01-02 02:00:00</td>\n      <td>1</td>\n      <td>0</td>\n      <td>0</td>\n      <td>2</td>\n      <td>17.22</td>\n      <td>21.210</td>\n      <td>100</td>\n      <td>19.0012</td>\n      <td>1</td>\n      <td>8</td>\n      <td>9</td>\n      <td>2</td>\n      <td>1</td>\n      <td>2011</td>\n      <td>2011-02-01</td>\n    </tr>\n    <tr>\n      <th>27</th>\n      <td>2011-01-02 03:00:00</td>\n      <td>1</td>\n      <td>0</td>\n      <td>0</td>\n      <td>2</td>\n      <td>18.86</td>\n      <td>22.725</td>\n      <td>94</td>\n      <td>12.9980</td>\n      <td>2</td>\n      <td>4</td>\n      <td>6</td>\n      <td>2</td>\n      <td>1</td>\n      <td>2011</td>\n      <td>2011-02-01</td>\n    </tr>\n    <tr>\n      <th>28</th>\n      <td>2011-01-02 04:00:00</td>\n      <td>1</td>\n      <td>0</td>\n      <td>0</td>\n      <td>2</td>\n      <td>18.86</td>\n      <td>22.725</td>\n      <td>94</td>\n      <td>12.9980</td>\n      <td>2</td>\n      <td>1</td>\n      <td>3</td>\n      <td>2</td>\n      <td>1</td>\n      <td>2011</td>\n      <td>2011-02-01</td>\n    </tr>\n    <tr>\n      <th>...</th>\n      <td>...</td>\n      <td>...</td>\n      <td>...</td>\n      <td>...</td>\n      <td>...</td>\n      <td>...</td>\n      <td>...</td>\n      <td>...</td>\n      <td>...</td>\n      <td>...</td>\n      <td>...</td>\n      <td>...</td>\n      <td>...</td>\n      <td>...</td>\n      <td>...</td>\n      <td>...</td>\n    </tr>\n    <tr>\n      <th>10473</th>\n      <td>2012-12-02 19:00:00</td>\n      <td>4</td>\n      <td>0</td>\n      <td>0</td>\n      <td>2</td>\n      <td>16.40</td>\n      <td>20.455</td>\n      <td>82</td>\n      <td>12.9980</td>\n      <td>16</td>\n      <td>158</td>\n      <td>174</td>\n      <td>2</td>\n      <td>12</td>\n      <td>2012</td>\n      <td>2012-02-12</td>\n    </tr>\n    <tr>\n      <th>10474</th>\n      <td>2012-12-02 20:00:00</td>\n      <td>4</td>\n      <td>0</td>\n      <td>0</td>\n      <td>2</td>\n      <td>17.22</td>\n      <td>21.210</td>\n      <td>82</td>\n      <td>12.9980</td>\n      <td>12</td>\n      <td>142</td>\n      <td>154</td>\n      <td>2</td>\n      <td>12</td>\n      <td>2012</td>\n      <td>2012-02-12</td>\n    </tr>\n    <tr>\n      <th>10475</th>\n      <td>2012-12-02 21:00:00</td>\n      <td>4</td>\n      <td>0</td>\n      <td>0</td>\n      <td>2</td>\n      <td>18.04</td>\n      <td>21.970</td>\n      <td>77</td>\n      <td>15.0013</td>\n      <td>8</td>\n      <td>91</td>\n      <td>99</td>\n      <td>2</td>\n      <td>12</td>\n      <td>2012</td>\n      <td>2012-02-12</td>\n    </tr>\n    <tr>\n      <th>10476</th>\n      <td>2012-12-02 22:00:00</td>\n      <td>4</td>\n      <td>0</td>\n      <td>0</td>\n      <td>2</td>\n      <td>18.04</td>\n      <td>21.970</td>\n      <td>77</td>\n      <td>12.9980</td>\n      <td>11</td>\n      <td>85</td>\n      <td>96</td>\n      <td>2</td>\n      <td>12</td>\n      <td>2012</td>\n      <td>2012-02-12</td>\n    </tr>\n    <tr>\n      <th>10477</th>\n      <td>2012-12-02 23:00:00</td>\n      <td>4</td>\n      <td>0</td>\n      <td>0</td>\n      <td>2</td>\n      <td>17.22</td>\n      <td>21.210</td>\n      <td>82</td>\n      <td>8.9981</td>\n      <td>7</td>\n      <td>44</td>\n      <td>51</td>\n      <td>2</td>\n      <td>12</td>\n      <td>2012</td>\n      <td>2012-02-12</td>\n    </tr>\n  </tbody>\n</table>\n<p>566 rows × 16 columns</p>\n</div>"
          },
          "metadata": {}
        }
      ]
    },
    {
      "cell_type": "code",
      "source": "df[(df['temp'] < 15) & (df['humidity'] >= 88)].shape, df[(df['count'] >= 50) | (df['windspeed'] > 13)].shape",
      "metadata": {
        "trusted": true
      },
      "execution_count": 67,
      "outputs": [
        {
          "execution_count": 67,
          "output_type": "execute_result",
          "data": {
            "text/plain": "((264, 16), (8873, 16))"
          },
          "metadata": {}
        }
      ]
    },
    {
      "cell_type": "code",
      "source": "df[['temp','atemp']]",
      "metadata": {
        "trusted": true
      },
      "execution_count": 68,
      "outputs": [
        {
          "execution_count": 68,
          "output_type": "execute_result",
          "data": {
            "text/plain": "        temp   atemp\n0       9.84  14.395\n1       9.02  13.635\n2       9.02  13.635\n3       9.84  14.395\n4       9.84  14.395\n...      ...     ...\n10881  15.58  19.695\n10882  14.76  17.425\n10883  13.94  15.910\n10884  13.94  17.425\n10885  13.12  16.665\n\n[10886 rows x 2 columns]",
            "text/html": "<div>\n<style scoped>\n    .dataframe tbody tr th:only-of-type {\n        vertical-align: middle;\n    }\n\n    .dataframe tbody tr th {\n        vertical-align: top;\n    }\n\n    .dataframe thead th {\n        text-align: right;\n    }\n</style>\n<table border=\"1\" class=\"dataframe\">\n  <thead>\n    <tr style=\"text-align: right;\">\n      <th></th>\n      <th>temp</th>\n      <th>atemp</th>\n    </tr>\n  </thead>\n  <tbody>\n    <tr>\n      <th>0</th>\n      <td>9.84</td>\n      <td>14.395</td>\n    </tr>\n    <tr>\n      <th>1</th>\n      <td>9.02</td>\n      <td>13.635</td>\n    </tr>\n    <tr>\n      <th>2</th>\n      <td>9.02</td>\n      <td>13.635</td>\n    </tr>\n    <tr>\n      <th>3</th>\n      <td>9.84</td>\n      <td>14.395</td>\n    </tr>\n    <tr>\n      <th>4</th>\n      <td>9.84</td>\n      <td>14.395</td>\n    </tr>\n    <tr>\n      <th>...</th>\n      <td>...</td>\n      <td>...</td>\n    </tr>\n    <tr>\n      <th>10881</th>\n      <td>15.58</td>\n      <td>19.695</td>\n    </tr>\n    <tr>\n      <th>10882</th>\n      <td>14.76</td>\n      <td>17.425</td>\n    </tr>\n    <tr>\n      <th>10883</th>\n      <td>13.94</td>\n      <td>15.910</td>\n    </tr>\n    <tr>\n      <th>10884</th>\n      <td>13.94</td>\n      <td>17.425</td>\n    </tr>\n    <tr>\n      <th>10885</th>\n      <td>13.12</td>\n      <td>16.665</td>\n    </tr>\n  </tbody>\n</table>\n<p>10886 rows × 2 columns</p>\n</div>"
          },
          "metadata": {}
        }
      ]
    },
    {
      "cell_type": "code",
      "source": "#Valor maximo em cada coluna\ndf.nunique()",
      "metadata": {
        "trusted": true
      },
      "execution_count": 79,
      "outputs": [
        {
          "execution_count": 79,
          "output_type": "execute_result",
          "data": {
            "text/plain": "datetime      10886\nseason            4\nholiday           2\nworkingday        2\nweather           4\ntemp             49\natemp            60\nhumidity         89\nwindspeed        28\ncasual          309\nregistered      731\ncount           822\nday              19\nmonth            12\nyear              2\ndate            456\ndtype: int64"
          },
          "metadata": {}
        }
      ]
    },
    {
      "cell_type": "code",
      "source": "df.value_counts()",
      "metadata": {
        "trusted": true
      },
      "execution_count": 80,
      "outputs": [
        {
          "execution_count": 80,
          "output_type": "execute_result",
          "data": {
            "text/plain": "datetime             season  holiday  workingday  weather  temp   atemp   humidity  windspeed  casual  registered  count  day  month  year  date      \n2011-01-01 00:00:00  1       0        0           1        9.84   14.395  81        0.0000     3       13          16     1    1      2011  2011-01-01    1\n2012-05-01 21:00:00  2       0        1           1        26.24  30.305  65        8.9981     31      251         282    1    5      2012  2012-01-05    1\n2012-05-01 13:00:00  2       0        1           2        29.52  33.335  51        15.0013    41      208         249    1    5      2012  2012-01-05    1\n2012-05-01 14:00:00  2       0        1           2        30.34  33.335  48        16.9979    37      167         204    1    5      2012  2012-01-05    1\n2012-05-01 15:00:00  2       0        1           2        30.34  33.335  45        15.0013    48      186         234    1    5      2012  2012-01-05    1\n                                                                                                                                                         ..\n2011-09-02 04:00:00  3       0        1           1        24.60  28.030  83        6.0032     2       2           4      2    9      2011  2011-02-09    1\n2011-09-02 05:00:00  3       0        1           2        24.60  28.030  83        8.9981     0       20          20     2    9      2011  2011-02-09    1\n2011-09-02 06:00:00  3       0        1           1        24.60  28.030  83        8.9981     3       73          76     2    9      2011  2011-02-09    1\n2011-09-02 07:00:00  3       0        1           1        24.60  28.030  83        7.0015     6       253         259    2    9      2011  2011-02-09    1\n2012-12-19 23:00:00  4       0        1           1        13.12  16.665  66        8.9981     4       84          88     19   12     2012  2012-12-19    1\nLength: 10886, dtype: int64"
          },
          "metadata": {}
        }
      ]
    },
    {
      "cell_type": "code",
      "source": "df.head()",
      "metadata": {
        "trusted": true
      },
      "execution_count": 81,
      "outputs": [
        {
          "execution_count": 81,
          "output_type": "execute_result",
          "data": {
            "text/plain": "             datetime  season  holiday  workingday  weather  temp   atemp  \\\n0 2011-01-01 00:00:00       1        0           0        1  9.84  14.395   \n1 2011-01-01 01:00:00       1        0           0        1  9.02  13.635   \n2 2011-01-01 02:00:00       1        0           0        1  9.02  13.635   \n3 2011-01-01 03:00:00       1        0           0        1  9.84  14.395   \n4 2011-01-01 04:00:00       1        0           0        1  9.84  14.395   \n\n   humidity  windspeed  casual  registered  count  day  month  year       date  \n0        81        0.0       3          13     16    1      1  2011 2011-01-01  \n1        80        0.0       8          32     40    1      1  2011 2011-01-01  \n2        80        0.0       5          27     32    1      1  2011 2011-01-01  \n3        75        0.0       3          10     13    1      1  2011 2011-01-01  \n4        75        0.0       0           1      1    1      1  2011 2011-01-01  ",
            "text/html": "<div>\n<style scoped>\n    .dataframe tbody tr th:only-of-type {\n        vertical-align: middle;\n    }\n\n    .dataframe tbody tr th {\n        vertical-align: top;\n    }\n\n    .dataframe thead th {\n        text-align: right;\n    }\n</style>\n<table border=\"1\" class=\"dataframe\">\n  <thead>\n    <tr style=\"text-align: right;\">\n      <th></th>\n      <th>datetime</th>\n      <th>season</th>\n      <th>holiday</th>\n      <th>workingday</th>\n      <th>weather</th>\n      <th>temp</th>\n      <th>atemp</th>\n      <th>humidity</th>\n      <th>windspeed</th>\n      <th>casual</th>\n      <th>registered</th>\n      <th>count</th>\n      <th>day</th>\n      <th>month</th>\n      <th>year</th>\n      <th>date</th>\n    </tr>\n  </thead>\n  <tbody>\n    <tr>\n      <th>0</th>\n      <td>2011-01-01 00:00:00</td>\n      <td>1</td>\n      <td>0</td>\n      <td>0</td>\n      <td>1</td>\n      <td>9.84</td>\n      <td>14.395</td>\n      <td>81</td>\n      <td>0.0</td>\n      <td>3</td>\n      <td>13</td>\n      <td>16</td>\n      <td>1</td>\n      <td>1</td>\n      <td>2011</td>\n      <td>2011-01-01</td>\n    </tr>\n    <tr>\n      <th>1</th>\n      <td>2011-01-01 01:00:00</td>\n      <td>1</td>\n      <td>0</td>\n      <td>0</td>\n      <td>1</td>\n      <td>9.02</td>\n      <td>13.635</td>\n      <td>80</td>\n      <td>0.0</td>\n      <td>8</td>\n      <td>32</td>\n      <td>40</td>\n      <td>1</td>\n      <td>1</td>\n      <td>2011</td>\n      <td>2011-01-01</td>\n    </tr>\n    <tr>\n      <th>2</th>\n      <td>2011-01-01 02:00:00</td>\n      <td>1</td>\n      <td>0</td>\n      <td>0</td>\n      <td>1</td>\n      <td>9.02</td>\n      <td>13.635</td>\n      <td>80</td>\n      <td>0.0</td>\n      <td>5</td>\n      <td>27</td>\n      <td>32</td>\n      <td>1</td>\n      <td>1</td>\n      <td>2011</td>\n      <td>2011-01-01</td>\n    </tr>\n    <tr>\n      <th>3</th>\n      <td>2011-01-01 03:00:00</td>\n      <td>1</td>\n      <td>0</td>\n      <td>0</td>\n      <td>1</td>\n      <td>9.84</td>\n      <td>14.395</td>\n      <td>75</td>\n      <td>0.0</td>\n      <td>3</td>\n      <td>10</td>\n      <td>13</td>\n      <td>1</td>\n      <td>1</td>\n      <td>2011</td>\n      <td>2011-01-01</td>\n    </tr>\n    <tr>\n      <th>4</th>\n      <td>2011-01-01 04:00:00</td>\n      <td>1</td>\n      <td>0</td>\n      <td>0</td>\n      <td>1</td>\n      <td>9.84</td>\n      <td>14.395</td>\n      <td>75</td>\n      <td>0.0</td>\n      <td>0</td>\n      <td>1</td>\n      <td>1</td>\n      <td>1</td>\n      <td>1</td>\n      <td>2011</td>\n      <td>2011-01-01</td>\n    </tr>\n  </tbody>\n</table>\n</div>"
          },
          "metadata": {}
        }
      ]
    },
    {
      "cell_type": "code",
      "source": "df.columns",
      "metadata": {
        "trusted": true
      },
      "execution_count": 89,
      "outputs": [
        {
          "execution_count": 89,
          "output_type": "execute_result",
          "data": {
            "text/plain": "Index(['datetime', 'season', 'holiday', 'workingday', 'weather', 'temp',\n       'atemp', 'humidity', 'windspeed', 'casual', 'registered', 'count',\n       'day', 'month', 'year', 'date'],\n      dtype='object')"
          },
          "metadata": {}
        }
      ]
    },
    {
      "cell_type": "code",
      "source": "df.index",
      "metadata": {
        "trusted": true
      },
      "execution_count": 90,
      "outputs": [
        {
          "execution_count": 90,
          "output_type": "execute_result",
          "data": {
            "text/plain": "RangeIndex(start=0, stop=10886, step=1)"
          },
          "metadata": {}
        }
      ]
    },
    {
      "cell_type": "code",
      "source": "df.info()",
      "metadata": {
        "trusted": true
      },
      "execution_count": 94,
      "outputs": [
        {
          "name": "stdout",
          "text": "<class 'pandas.core.frame.DataFrame'>\nRangeIndex: 10886 entries, 0 to 10885\nData columns (total 16 columns):\n #   Column      Non-Null Count  Dtype         \n---  ------      --------------  -----         \n 0   datetime    10886 non-null  datetime64[ns]\n 1   season      10886 non-null  int64         \n 2   holiday     10886 non-null  int64         \n 3   workingday  10886 non-null  int64         \n 4   weather     10886 non-null  int64         \n 5   temp        10886 non-null  float64       \n 6   atemp       10886 non-null  float64       \n 7   humidity    10886 non-null  int64         \n 8   windspeed   10886 non-null  float64       \n 9   casual      10886 non-null  int64         \n 10  registered  10886 non-null  int64         \n 11  count       10886 non-null  int64         \n 12  day         10886 non-null  int64         \n 13  month       10886 non-null  int64         \n 14  year        10886 non-null  int64         \n 15  date        10886 non-null  datetime64[ns]\ndtypes: datetime64[ns](2), float64(3), int64(11)\nmemory usage: 1.3 MB\n",
          "output_type": "stream"
        }
      ]
    },
    {
      "cell_type": "code",
      "source": "df.values",
      "metadata": {
        "trusted": true
      },
      "execution_count": 98,
      "outputs": [
        {
          "execution_count": 98,
          "output_type": "execute_result",
          "data": {
            "text/plain": "array([[Timestamp('2011-01-01 00:00:00'), 1, 0, ..., 1, 2011,\n        Timestamp('2011-01-01 00:00:00')],\n       [Timestamp('2011-01-01 01:00:00'), 1, 0, ..., 1, 2011,\n        Timestamp('2011-01-01 00:00:00')],\n       [Timestamp('2011-01-01 02:00:00'), 1, 0, ..., 1, 2011,\n        Timestamp('2011-01-01 00:00:00')],\n       ...,\n       [Timestamp('2012-12-19 21:00:00'), 4, 0, ..., 12, 2012,\n        Timestamp('2012-12-19 00:00:00')],\n       [Timestamp('2012-12-19 22:00:00'), 4, 0, ..., 12, 2012,\n        Timestamp('2012-12-19 00:00:00')],\n       [Timestamp('2012-12-19 23:00:00'), 4, 0, ..., 12, 2012,\n        Timestamp('2012-12-19 00:00:00')]], dtype=object)"
          },
          "metadata": {}
        }
      ]
    },
    {
      "cell_type": "code",
      "source": "df.axes",
      "metadata": {
        "trusted": true
      },
      "execution_count": 99,
      "outputs": [
        {
          "execution_count": 99,
          "output_type": "execute_result",
          "data": {
            "text/plain": "[RangeIndex(start=0, stop=10886, step=1),\n Index(['datetime', 'season', 'holiday', 'workingday', 'weather', 'temp',\n        'atemp', 'humidity', 'windspeed', 'casual', 'registered', 'count',\n        'day', 'month', 'year', 'date'],\n       dtype='object')]"
          },
          "metadata": {}
        }
      ]
    },
    {
      "cell_type": "code",
      "source": "df.columns",
      "metadata": {
        "trusted": true
      },
      "execution_count": 100,
      "outputs": [
        {
          "execution_count": 100,
          "output_type": "execute_result",
          "data": {
            "text/plain": "Index(['datetime', 'season', 'holiday', 'workingday', 'weather', 'temp',\n       'atemp', 'humidity', 'windspeed', 'casual', 'registered', 'count',\n       'day', 'month', 'year', 'date'],\n      dtype='object')"
          },
          "metadata": {}
        }
      ]
    },
    {
      "cell_type": "code",
      "source": "df.tail()",
      "metadata": {
        "trusted": true
      },
      "execution_count": 123,
      "outputs": [
        {
          "execution_count": 123,
          "output_type": "execute_result",
          "data": {
            "text/plain": "                 datetime  season  holiday  workingday  weather   temp  \\\n10881 2012-12-19 19:00:00       4        0           1        1  15.58   \n10882 2012-12-19 20:00:00       4        0           1        1  14.76   \n10883 2012-12-19 21:00:00       4        0           1        1  13.94   \n10884 2012-12-19 22:00:00       4        0           1        1  13.94   \n10885 2012-12-19 23:00:00       4        0           1        1  13.12   \n\n        atemp  humidity  windspeed  casual  registered  count  day  month  \\\n10881  19.695        50    26.0027       7         329    336   19     12   \n10882  17.425        57    15.0013      10         231    241   19     12   \n10883  15.910        61    15.0013       4         164    168   19     12   \n10884  17.425        61     6.0032      12         117    129   19     12   \n10885  16.665        66     8.9981       4          84     88   19     12   \n\n       year       date  \n10881  2012 2012-12-19  \n10882  2012 2012-12-19  \n10883  2012 2012-12-19  \n10884  2012 2012-12-19  \n10885  2012 2012-12-19  ",
            "text/html": "<div>\n<style scoped>\n    .dataframe tbody tr th:only-of-type {\n        vertical-align: middle;\n    }\n\n    .dataframe tbody tr th {\n        vertical-align: top;\n    }\n\n    .dataframe thead th {\n        text-align: right;\n    }\n</style>\n<table border=\"1\" class=\"dataframe\">\n  <thead>\n    <tr style=\"text-align: right;\">\n      <th></th>\n      <th>datetime</th>\n      <th>season</th>\n      <th>holiday</th>\n      <th>workingday</th>\n      <th>weather</th>\n      <th>temp</th>\n      <th>atemp</th>\n      <th>humidity</th>\n      <th>windspeed</th>\n      <th>casual</th>\n      <th>registered</th>\n      <th>count</th>\n      <th>day</th>\n      <th>month</th>\n      <th>year</th>\n      <th>date</th>\n    </tr>\n  </thead>\n  <tbody>\n    <tr>\n      <th>10881</th>\n      <td>2012-12-19 19:00:00</td>\n      <td>4</td>\n      <td>0</td>\n      <td>1</td>\n      <td>1</td>\n      <td>15.58</td>\n      <td>19.695</td>\n      <td>50</td>\n      <td>26.0027</td>\n      <td>7</td>\n      <td>329</td>\n      <td>336</td>\n      <td>19</td>\n      <td>12</td>\n      <td>2012</td>\n      <td>2012-12-19</td>\n    </tr>\n    <tr>\n      <th>10882</th>\n      <td>2012-12-19 20:00:00</td>\n      <td>4</td>\n      <td>0</td>\n      <td>1</td>\n      <td>1</td>\n      <td>14.76</td>\n      <td>17.425</td>\n      <td>57</td>\n      <td>15.0013</td>\n      <td>10</td>\n      <td>231</td>\n      <td>241</td>\n      <td>19</td>\n      <td>12</td>\n      <td>2012</td>\n      <td>2012-12-19</td>\n    </tr>\n    <tr>\n      <th>10883</th>\n      <td>2012-12-19 21:00:00</td>\n      <td>4</td>\n      <td>0</td>\n      <td>1</td>\n      <td>1</td>\n      <td>13.94</td>\n      <td>15.910</td>\n      <td>61</td>\n      <td>15.0013</td>\n      <td>4</td>\n      <td>164</td>\n      <td>168</td>\n      <td>19</td>\n      <td>12</td>\n      <td>2012</td>\n      <td>2012-12-19</td>\n    </tr>\n    <tr>\n      <th>10884</th>\n      <td>2012-12-19 22:00:00</td>\n      <td>4</td>\n      <td>0</td>\n      <td>1</td>\n      <td>1</td>\n      <td>13.94</td>\n      <td>17.425</td>\n      <td>61</td>\n      <td>6.0032</td>\n      <td>12</td>\n      <td>117</td>\n      <td>129</td>\n      <td>19</td>\n      <td>12</td>\n      <td>2012</td>\n      <td>2012-12-19</td>\n    </tr>\n    <tr>\n      <th>10885</th>\n      <td>2012-12-19 23:00:00</td>\n      <td>4</td>\n      <td>0</td>\n      <td>1</td>\n      <td>1</td>\n      <td>13.12</td>\n      <td>16.665</td>\n      <td>66</td>\n      <td>8.9981</td>\n      <td>4</td>\n      <td>84</td>\n      <td>88</td>\n      <td>19</td>\n      <td>12</td>\n      <td>2012</td>\n      <td>2012-12-19</td>\n    </tr>\n  </tbody>\n</table>\n</div>"
          },
          "metadata": {}
        }
      ]
    },
    {
      "cell_type": "code",
      "source": "#Amostragem de linhas aleatorias\ndf.sample(10)",
      "metadata": {
        "tags": [],
        "trusted": true
      },
      "execution_count": 137,
      "outputs": [
        {
          "execution_count": 137,
          "output_type": "execute_result",
          "data": {
            "text/plain": "                 datetime  season  holiday  workingday  weather   temp  \\\n176   2011-01-08 15:00:00       1        0           0        1   8.20   \n8412  2012-07-11 21:00:00       3        0           1        1  29.52   \n10733 2012-12-13 15:00:00       4        0           1        1  14.76   \n4295  2011-10-11 00:00:00       4        0           1        2  22.14   \n7741  2012-06-02 22:00:00       2        0           0        1  23.78   \n7993  2012-06-13 10:00:00       2        0           1        2  26.24   \n1533  2011-04-09 18:00:00       2        0           0        2  15.58   \n9493  2012-09-18 22:00:00       3        0           1        3  23.78   \n961   2011-03-04 12:00:00       1        0           1        1  13.12   \n2535  2011-06-13 13:00:00       2        0           1        1  28.70   \n\n        atemp  humidity  windspeed  casual  registered  count  day  month  \\\n176     8.335        32    30.0026       5          69     74    8      1   \n8412   33.335        58    15.0013      69         322    391   11      7   \n10733  17.425        34     8.9981      40         240    280   13     12   \n4295   25.760        88     0.0000      14          16     30   11     10   \n7741   27.275        46     8.9981      52         176    228    2      6   \n7993   30.305        65    27.9993      64         134    198   13      6   \n1533   19.695        82     7.0015      48         129    177    9      4   \n9493   27.275        83    31.0009      14         137    151   18      9   \n961    15.150        43    11.0014      10          87     97    4      3   \n2535   31.820        37     0.0000      53         174    227   13      6   \n\n       year       date  \n176    2011 2011-08-01  \n8412   2012 2012-11-07  \n10733  2012 2012-12-13  \n4295   2011 2011-11-10  \n7741   2012 2012-02-06  \n7993   2012 2012-06-13  \n1533   2011 2011-09-04  \n9493   2012 2012-09-18  \n961    2011 2011-04-03  \n2535   2011 2011-06-13  ",
            "text/html": "<div>\n<style scoped>\n    .dataframe tbody tr th:only-of-type {\n        vertical-align: middle;\n    }\n\n    .dataframe tbody tr th {\n        vertical-align: top;\n    }\n\n    .dataframe thead th {\n        text-align: right;\n    }\n</style>\n<table border=\"1\" class=\"dataframe\">\n  <thead>\n    <tr style=\"text-align: right;\">\n      <th></th>\n      <th>datetime</th>\n      <th>season</th>\n      <th>holiday</th>\n      <th>workingday</th>\n      <th>weather</th>\n      <th>temp</th>\n      <th>atemp</th>\n      <th>humidity</th>\n      <th>windspeed</th>\n      <th>casual</th>\n      <th>registered</th>\n      <th>count</th>\n      <th>day</th>\n      <th>month</th>\n      <th>year</th>\n      <th>date</th>\n    </tr>\n  </thead>\n  <tbody>\n    <tr>\n      <th>176</th>\n      <td>2011-01-08 15:00:00</td>\n      <td>1</td>\n      <td>0</td>\n      <td>0</td>\n      <td>1</td>\n      <td>8.20</td>\n      <td>8.335</td>\n      <td>32</td>\n      <td>30.0026</td>\n      <td>5</td>\n      <td>69</td>\n      <td>74</td>\n      <td>8</td>\n      <td>1</td>\n      <td>2011</td>\n      <td>2011-08-01</td>\n    </tr>\n    <tr>\n      <th>8412</th>\n      <td>2012-07-11 21:00:00</td>\n      <td>3</td>\n      <td>0</td>\n      <td>1</td>\n      <td>1</td>\n      <td>29.52</td>\n      <td>33.335</td>\n      <td>58</td>\n      <td>15.0013</td>\n      <td>69</td>\n      <td>322</td>\n      <td>391</td>\n      <td>11</td>\n      <td>7</td>\n      <td>2012</td>\n      <td>2012-11-07</td>\n    </tr>\n    <tr>\n      <th>10733</th>\n      <td>2012-12-13 15:00:00</td>\n      <td>4</td>\n      <td>0</td>\n      <td>1</td>\n      <td>1</td>\n      <td>14.76</td>\n      <td>17.425</td>\n      <td>34</td>\n      <td>8.9981</td>\n      <td>40</td>\n      <td>240</td>\n      <td>280</td>\n      <td>13</td>\n      <td>12</td>\n      <td>2012</td>\n      <td>2012-12-13</td>\n    </tr>\n    <tr>\n      <th>4295</th>\n      <td>2011-10-11 00:00:00</td>\n      <td>4</td>\n      <td>0</td>\n      <td>1</td>\n      <td>2</td>\n      <td>22.14</td>\n      <td>25.760</td>\n      <td>88</td>\n      <td>0.0000</td>\n      <td>14</td>\n      <td>16</td>\n      <td>30</td>\n      <td>11</td>\n      <td>10</td>\n      <td>2011</td>\n      <td>2011-11-10</td>\n    </tr>\n    <tr>\n      <th>7741</th>\n      <td>2012-06-02 22:00:00</td>\n      <td>2</td>\n      <td>0</td>\n      <td>0</td>\n      <td>1</td>\n      <td>23.78</td>\n      <td>27.275</td>\n      <td>46</td>\n      <td>8.9981</td>\n      <td>52</td>\n      <td>176</td>\n      <td>228</td>\n      <td>2</td>\n      <td>6</td>\n      <td>2012</td>\n      <td>2012-02-06</td>\n    </tr>\n    <tr>\n      <th>7993</th>\n      <td>2012-06-13 10:00:00</td>\n      <td>2</td>\n      <td>0</td>\n      <td>1</td>\n      <td>2</td>\n      <td>26.24</td>\n      <td>30.305</td>\n      <td>65</td>\n      <td>27.9993</td>\n      <td>64</td>\n      <td>134</td>\n      <td>198</td>\n      <td>13</td>\n      <td>6</td>\n      <td>2012</td>\n      <td>2012-06-13</td>\n    </tr>\n    <tr>\n      <th>1533</th>\n      <td>2011-04-09 18:00:00</td>\n      <td>2</td>\n      <td>0</td>\n      <td>0</td>\n      <td>2</td>\n      <td>15.58</td>\n      <td>19.695</td>\n      <td>82</td>\n      <td>7.0015</td>\n      <td>48</td>\n      <td>129</td>\n      <td>177</td>\n      <td>9</td>\n      <td>4</td>\n      <td>2011</td>\n      <td>2011-09-04</td>\n    </tr>\n    <tr>\n      <th>9493</th>\n      <td>2012-09-18 22:00:00</td>\n      <td>3</td>\n      <td>0</td>\n      <td>1</td>\n      <td>3</td>\n      <td>23.78</td>\n      <td>27.275</td>\n      <td>83</td>\n      <td>31.0009</td>\n      <td>14</td>\n      <td>137</td>\n      <td>151</td>\n      <td>18</td>\n      <td>9</td>\n      <td>2012</td>\n      <td>2012-09-18</td>\n    </tr>\n    <tr>\n      <th>961</th>\n      <td>2011-03-04 12:00:00</td>\n      <td>1</td>\n      <td>0</td>\n      <td>1</td>\n      <td>1</td>\n      <td>13.12</td>\n      <td>15.150</td>\n      <td>43</td>\n      <td>11.0014</td>\n      <td>10</td>\n      <td>87</td>\n      <td>97</td>\n      <td>4</td>\n      <td>3</td>\n      <td>2011</td>\n      <td>2011-04-03</td>\n    </tr>\n    <tr>\n      <th>2535</th>\n      <td>2011-06-13 13:00:00</td>\n      <td>2</td>\n      <td>0</td>\n      <td>1</td>\n      <td>1</td>\n      <td>28.70</td>\n      <td>31.820</td>\n      <td>37</td>\n      <td>0.0000</td>\n      <td>53</td>\n      <td>174</td>\n      <td>227</td>\n      <td>13</td>\n      <td>6</td>\n      <td>2011</td>\n      <td>2011-06-13</td>\n    </tr>\n  </tbody>\n</table>\n</div>"
          },
          "metadata": {}
        }
      ]
    },
    {
      "cell_type": "code",
      "source": "df.ndim",
      "metadata": {
        "trusted": true
      },
      "execution_count": 139,
      "outputs": [
        {
          "execution_count": 139,
          "output_type": "execute_result",
          "data": {
            "text/plain": "2"
          },
          "metadata": {}
        }
      ]
    },
    {
      "cell_type": "code",
      "source": "df.size",
      "metadata": {
        "trusted": true
      },
      "execution_count": 140,
      "outputs": [
        {
          "execution_count": 140,
          "output_type": "execute_result",
          "data": {
            "text/plain": "174176"
          },
          "metadata": {}
        }
      ]
    },
    {
      "cell_type": "code",
      "source": "df.info()",
      "metadata": {
        "trusted": true
      },
      "execution_count": 142,
      "outputs": [
        {
          "name": "stdout",
          "text": "<class 'pandas.core.frame.DataFrame'>\nRangeIndex: 10886 entries, 0 to 10885\nData columns (total 16 columns):\n #   Column      Non-Null Count  Dtype         \n---  ------      --------------  -----         \n 0   datetime    10886 non-null  datetime64[ns]\n 1   season      10886 non-null  int64         \n 2   holiday     10886 non-null  int64         \n 3   workingday  10886 non-null  int64         \n 4   weather     10886 non-null  int64         \n 5   temp        10886 non-null  float64       \n 6   atemp       10886 non-null  float64       \n 7   humidity    10886 non-null  int64         \n 8   windspeed   10886 non-null  float64       \n 9   casual      10886 non-null  int64         \n 10  registered  10886 non-null  int64         \n 11  count       10886 non-null  int64         \n 12  day         10886 non-null  int64         \n 13  month       10886 non-null  int64         \n 14  year        10886 non-null  int64         \n 15  date        10886 non-null  datetime64[ns]\ndtypes: datetime64[ns](2), float64(3), int64(11)\nmemory usage: 1.3 MB\n",
          "output_type": "stream"
        }
      ]
    },
    {
      "cell_type": "code",
      "source": "df.shape",
      "metadata": {
        "trusted": true
      },
      "execution_count": 145,
      "outputs": [
        {
          "execution_count": 145,
          "output_type": "execute_result",
          "data": {
            "text/plain": "(10886, 16)"
          },
          "metadata": {}
        }
      ]
    },
    {
      "cell_type": "code",
      "source": "df.describe()",
      "metadata": {
        "trusted": true
      },
      "execution_count": 164,
      "outputs": [
        {
          "execution_count": 164,
          "output_type": "execute_result",
          "data": {
            "text/plain": "             season       holiday    workingday       weather         temp  \\\ncount  10886.000000  10886.000000  10886.000000  10886.000000  10886.00000   \nmean       2.506614      0.028569      0.680875      1.418427     20.23086   \nstd        1.116174      0.166599      0.466159      0.633839      7.79159   \nmin        1.000000      0.000000      0.000000      1.000000      0.82000   \n25%        2.000000      0.000000      0.000000      1.000000     13.94000   \n50%        3.000000      0.000000      1.000000      1.000000     20.50000   \n75%        4.000000      0.000000      1.000000      2.000000     26.24000   \nmax        4.000000      1.000000      1.000000      4.000000     41.00000   \n\n              atemp      humidity     windspeed        casual    registered  \\\ncount  10886.000000  10886.000000  10886.000000  10886.000000  10886.000000   \nmean      23.655084     61.886460     12.799395     36.021955    155.552177   \nstd        8.474601     19.245033      8.164537     49.960477    151.039033   \nmin        0.760000      0.000000      0.000000      0.000000      0.000000   \n25%       16.665000     47.000000      7.001500      4.000000     36.000000   \n50%       24.240000     62.000000     12.998000     17.000000    118.000000   \n75%       31.060000     77.000000     16.997900     49.000000    222.000000   \nmax       45.455000    100.000000     56.996900    367.000000    886.000000   \n\n              count           day         month          year  \ncount  10886.000000  10886.000000  10886.000000  10886.000000  \nmean     191.574132      9.992559      6.521495   2011.501929  \nstd      181.144454      5.476608      3.444373      0.500019  \nmin        1.000000      1.000000      1.000000   2011.000000  \n25%       42.000000      5.000000      4.000000   2011.000000  \n50%      145.000000     10.000000      7.000000   2012.000000  \n75%      284.000000     15.000000     10.000000   2012.000000  \nmax      977.000000     19.000000     12.000000   2012.000000  ",
            "text/html": "<div>\n<style scoped>\n    .dataframe tbody tr th:only-of-type {\n        vertical-align: middle;\n    }\n\n    .dataframe tbody tr th {\n        vertical-align: top;\n    }\n\n    .dataframe thead th {\n        text-align: right;\n    }\n</style>\n<table border=\"1\" class=\"dataframe\">\n  <thead>\n    <tr style=\"text-align: right;\">\n      <th></th>\n      <th>season</th>\n      <th>holiday</th>\n      <th>workingday</th>\n      <th>weather</th>\n      <th>temp</th>\n      <th>atemp</th>\n      <th>humidity</th>\n      <th>windspeed</th>\n      <th>casual</th>\n      <th>registered</th>\n      <th>count</th>\n      <th>day</th>\n      <th>month</th>\n      <th>year</th>\n    </tr>\n  </thead>\n  <tbody>\n    <tr>\n      <th>count</th>\n      <td>10886.000000</td>\n      <td>10886.000000</td>\n      <td>10886.000000</td>\n      <td>10886.000000</td>\n      <td>10886.00000</td>\n      <td>10886.000000</td>\n      <td>10886.000000</td>\n      <td>10886.000000</td>\n      <td>10886.000000</td>\n      <td>10886.000000</td>\n      <td>10886.000000</td>\n      <td>10886.000000</td>\n      <td>10886.000000</td>\n      <td>10886.000000</td>\n    </tr>\n    <tr>\n      <th>mean</th>\n      <td>2.506614</td>\n      <td>0.028569</td>\n      <td>0.680875</td>\n      <td>1.418427</td>\n      <td>20.23086</td>\n      <td>23.655084</td>\n      <td>61.886460</td>\n      <td>12.799395</td>\n      <td>36.021955</td>\n      <td>155.552177</td>\n      <td>191.574132</td>\n      <td>9.992559</td>\n      <td>6.521495</td>\n      <td>2011.501929</td>\n    </tr>\n    <tr>\n      <th>std</th>\n      <td>1.116174</td>\n      <td>0.166599</td>\n      <td>0.466159</td>\n      <td>0.633839</td>\n      <td>7.79159</td>\n      <td>8.474601</td>\n      <td>19.245033</td>\n      <td>8.164537</td>\n      <td>49.960477</td>\n      <td>151.039033</td>\n      <td>181.144454</td>\n      <td>5.476608</td>\n      <td>3.444373</td>\n      <td>0.500019</td>\n    </tr>\n    <tr>\n      <th>min</th>\n      <td>1.000000</td>\n      <td>0.000000</td>\n      <td>0.000000</td>\n      <td>1.000000</td>\n      <td>0.82000</td>\n      <td>0.760000</td>\n      <td>0.000000</td>\n      <td>0.000000</td>\n      <td>0.000000</td>\n      <td>0.000000</td>\n      <td>1.000000</td>\n      <td>1.000000</td>\n      <td>1.000000</td>\n      <td>2011.000000</td>\n    </tr>\n    <tr>\n      <th>25%</th>\n      <td>2.000000</td>\n      <td>0.000000</td>\n      <td>0.000000</td>\n      <td>1.000000</td>\n      <td>13.94000</td>\n      <td>16.665000</td>\n      <td>47.000000</td>\n      <td>7.001500</td>\n      <td>4.000000</td>\n      <td>36.000000</td>\n      <td>42.000000</td>\n      <td>5.000000</td>\n      <td>4.000000</td>\n      <td>2011.000000</td>\n    </tr>\n    <tr>\n      <th>50%</th>\n      <td>3.000000</td>\n      <td>0.000000</td>\n      <td>1.000000</td>\n      <td>1.000000</td>\n      <td>20.50000</td>\n      <td>24.240000</td>\n      <td>62.000000</td>\n      <td>12.998000</td>\n      <td>17.000000</td>\n      <td>118.000000</td>\n      <td>145.000000</td>\n      <td>10.000000</td>\n      <td>7.000000</td>\n      <td>2012.000000</td>\n    </tr>\n    <tr>\n      <th>75%</th>\n      <td>4.000000</td>\n      <td>0.000000</td>\n      <td>1.000000</td>\n      <td>2.000000</td>\n      <td>26.24000</td>\n      <td>31.060000</td>\n      <td>77.000000</td>\n      <td>16.997900</td>\n      <td>49.000000</td>\n      <td>222.000000</td>\n      <td>284.000000</td>\n      <td>15.000000</td>\n      <td>10.000000</td>\n      <td>2012.000000</td>\n    </tr>\n    <tr>\n      <th>max</th>\n      <td>4.000000</td>\n      <td>1.000000</td>\n      <td>1.000000</td>\n      <td>4.000000</td>\n      <td>41.00000</td>\n      <td>45.455000</td>\n      <td>100.000000</td>\n      <td>56.996900</td>\n      <td>367.000000</td>\n      <td>886.000000</td>\n      <td>977.000000</td>\n      <td>19.000000</td>\n      <td>12.000000</td>\n      <td>2012.000000</td>\n    </tr>\n  </tbody>\n</table>\n</div>"
          },
          "metadata": {}
        }
      ]
    },
    {
      "cell_type": "code",
      "source": "df['temp'].describe()",
      "metadata": {
        "trusted": true
      },
      "execution_count": 165,
      "outputs": [
        {
          "execution_count": 165,
          "output_type": "execute_result",
          "data": {
            "text/plain": "count    10886.00000\nmean        20.23086\nstd          7.79159\nmin          0.82000\n25%         13.94000\n50%         20.50000\n75%         26.24000\nmax         41.00000\nName: temp, dtype: float64"
          },
          "metadata": {}
        }
      ]
    },
    {
      "cell_type": "code",
      "source": "media = df[df['temp'] > df['temp'].mean()]\nmedia",
      "metadata": {
        "trusted": true
      },
      "execution_count": 166,
      "outputs": [
        {
          "execution_count": 166,
          "output_type": "execute_result",
          "data": {
            "text/plain": "                 datetime  season  holiday  workingday  weather   temp  \\\n746   2011-02-14 11:00:00       1        0           1        1  21.32   \n747   2011-02-14 12:00:00       1        0           1        1  22.96   \n748   2011-02-14 13:00:00       1        0           1        1  23.78   \n749   2011-02-14 14:00:00       1        0           1        1  24.60   \n750   2011-02-14 15:00:00       1        0           1        1  22.96   \n...                   ...     ...      ...         ...      ...    ...   \n10661 2012-12-10 15:00:00       4        0           1        2  20.50   \n10662 2012-12-10 16:00:00       4        0           1        2  20.50   \n10665 2012-12-10 19:00:00       4        0           1        1  21.32   \n10668 2012-12-10 22:00:00       4        0           1        2  20.50   \n10851 2012-12-18 13:00:00       4        0           1        1  20.50   \n\n        atemp  humidity  windspeed  casual  registered  count  day  month  \\\n746    25.000        23    16.9979      10          43     53   14      2   \n747    26.515        22    30.0026      27          99    126   14      2   \n748    27.275        19    26.0027      27          93    120   14      2   \n749    29.545        15    32.9975      14          76     90   14      2   \n750    26.515        21    43.9989      19          71     90   14      2   \n...       ...       ...        ...     ...         ...    ...  ...    ...   \n10661  24.240        87    11.0014      29         207    236   10     12   \n10662  24.240        88     7.0015      37         308    345   10     12   \n10665  25.000        77    19.0012      18         409    427   10     12   \n10668  24.240        82    15.0013      11         115    126   10     12   \n10851  24.240        42    19.0012      51         235    286   18     12   \n\n       year       date  \n746    2011 2011-02-14  \n747    2011 2011-02-14  \n748    2011 2011-02-14  \n749    2011 2011-02-14  \n750    2011 2011-02-14  \n...     ...        ...  \n10661  2012 2012-10-12  \n10662  2012 2012-10-12  \n10665  2012 2012-10-12  \n10668  2012 2012-10-12  \n10851  2012 2012-12-18  \n\n[5578 rows x 16 columns]",
            "text/html": "<div>\n<style scoped>\n    .dataframe tbody tr th:only-of-type {\n        vertical-align: middle;\n    }\n\n    .dataframe tbody tr th {\n        vertical-align: top;\n    }\n\n    .dataframe thead th {\n        text-align: right;\n    }\n</style>\n<table border=\"1\" class=\"dataframe\">\n  <thead>\n    <tr style=\"text-align: right;\">\n      <th></th>\n      <th>datetime</th>\n      <th>season</th>\n      <th>holiday</th>\n      <th>workingday</th>\n      <th>weather</th>\n      <th>temp</th>\n      <th>atemp</th>\n      <th>humidity</th>\n      <th>windspeed</th>\n      <th>casual</th>\n      <th>registered</th>\n      <th>count</th>\n      <th>day</th>\n      <th>month</th>\n      <th>year</th>\n      <th>date</th>\n    </tr>\n  </thead>\n  <tbody>\n    <tr>\n      <th>746</th>\n      <td>2011-02-14 11:00:00</td>\n      <td>1</td>\n      <td>0</td>\n      <td>1</td>\n      <td>1</td>\n      <td>21.32</td>\n      <td>25.000</td>\n      <td>23</td>\n      <td>16.9979</td>\n      <td>10</td>\n      <td>43</td>\n      <td>53</td>\n      <td>14</td>\n      <td>2</td>\n      <td>2011</td>\n      <td>2011-02-14</td>\n    </tr>\n    <tr>\n      <th>747</th>\n      <td>2011-02-14 12:00:00</td>\n      <td>1</td>\n      <td>0</td>\n      <td>1</td>\n      <td>1</td>\n      <td>22.96</td>\n      <td>26.515</td>\n      <td>22</td>\n      <td>30.0026</td>\n      <td>27</td>\n      <td>99</td>\n      <td>126</td>\n      <td>14</td>\n      <td>2</td>\n      <td>2011</td>\n      <td>2011-02-14</td>\n    </tr>\n    <tr>\n      <th>748</th>\n      <td>2011-02-14 13:00:00</td>\n      <td>1</td>\n      <td>0</td>\n      <td>1</td>\n      <td>1</td>\n      <td>23.78</td>\n      <td>27.275</td>\n      <td>19</td>\n      <td>26.0027</td>\n      <td>27</td>\n      <td>93</td>\n      <td>120</td>\n      <td>14</td>\n      <td>2</td>\n      <td>2011</td>\n      <td>2011-02-14</td>\n    </tr>\n    <tr>\n      <th>749</th>\n      <td>2011-02-14 14:00:00</td>\n      <td>1</td>\n      <td>0</td>\n      <td>1</td>\n      <td>1</td>\n      <td>24.60</td>\n      <td>29.545</td>\n      <td>15</td>\n      <td>32.9975</td>\n      <td>14</td>\n      <td>76</td>\n      <td>90</td>\n      <td>14</td>\n      <td>2</td>\n      <td>2011</td>\n      <td>2011-02-14</td>\n    </tr>\n    <tr>\n      <th>750</th>\n      <td>2011-02-14 15:00:00</td>\n      <td>1</td>\n      <td>0</td>\n      <td>1</td>\n      <td>1</td>\n      <td>22.96</td>\n      <td>26.515</td>\n      <td>21</td>\n      <td>43.9989</td>\n      <td>19</td>\n      <td>71</td>\n      <td>90</td>\n      <td>14</td>\n      <td>2</td>\n      <td>2011</td>\n      <td>2011-02-14</td>\n    </tr>\n    <tr>\n      <th>...</th>\n      <td>...</td>\n      <td>...</td>\n      <td>...</td>\n      <td>...</td>\n      <td>...</td>\n      <td>...</td>\n      <td>...</td>\n      <td>...</td>\n      <td>...</td>\n      <td>...</td>\n      <td>...</td>\n      <td>...</td>\n      <td>...</td>\n      <td>...</td>\n      <td>...</td>\n      <td>...</td>\n    </tr>\n    <tr>\n      <th>10661</th>\n      <td>2012-12-10 15:00:00</td>\n      <td>4</td>\n      <td>0</td>\n      <td>1</td>\n      <td>2</td>\n      <td>20.50</td>\n      <td>24.240</td>\n      <td>87</td>\n      <td>11.0014</td>\n      <td>29</td>\n      <td>207</td>\n      <td>236</td>\n      <td>10</td>\n      <td>12</td>\n      <td>2012</td>\n      <td>2012-10-12</td>\n    </tr>\n    <tr>\n      <th>10662</th>\n      <td>2012-12-10 16:00:00</td>\n      <td>4</td>\n      <td>0</td>\n      <td>1</td>\n      <td>2</td>\n      <td>20.50</td>\n      <td>24.240</td>\n      <td>88</td>\n      <td>7.0015</td>\n      <td>37</td>\n      <td>308</td>\n      <td>345</td>\n      <td>10</td>\n      <td>12</td>\n      <td>2012</td>\n      <td>2012-10-12</td>\n    </tr>\n    <tr>\n      <th>10665</th>\n      <td>2012-12-10 19:00:00</td>\n      <td>4</td>\n      <td>0</td>\n      <td>1</td>\n      <td>1</td>\n      <td>21.32</td>\n      <td>25.000</td>\n      <td>77</td>\n      <td>19.0012</td>\n      <td>18</td>\n      <td>409</td>\n      <td>427</td>\n      <td>10</td>\n      <td>12</td>\n      <td>2012</td>\n      <td>2012-10-12</td>\n    </tr>\n    <tr>\n      <th>10668</th>\n      <td>2012-12-10 22:00:00</td>\n      <td>4</td>\n      <td>0</td>\n      <td>1</td>\n      <td>2</td>\n      <td>20.50</td>\n      <td>24.240</td>\n      <td>82</td>\n      <td>15.0013</td>\n      <td>11</td>\n      <td>115</td>\n      <td>126</td>\n      <td>10</td>\n      <td>12</td>\n      <td>2012</td>\n      <td>2012-10-12</td>\n    </tr>\n    <tr>\n      <th>10851</th>\n      <td>2012-12-18 13:00:00</td>\n      <td>4</td>\n      <td>0</td>\n      <td>1</td>\n      <td>1</td>\n      <td>20.50</td>\n      <td>24.240</td>\n      <td>42</td>\n      <td>19.0012</td>\n      <td>51</td>\n      <td>235</td>\n      <td>286</td>\n      <td>18</td>\n      <td>12</td>\n      <td>2012</td>\n      <td>2012-12-18</td>\n    </tr>\n  </tbody>\n</table>\n<p>5578 rows × 16 columns</p>\n</div>"
          },
          "metadata": {}
        }
      ]
    },
    {
      "cell_type": "code",
      "source": "df['count'].describe()",
      "metadata": {
        "trusted": true
      },
      "execution_count": 169,
      "outputs": [
        {
          "execution_count": 169,
          "output_type": "execute_result",
          "data": {
            "text/plain": "count    10886.000000\nmean       191.574132\nstd        181.144454\nmin          1.000000\n25%         42.000000\n50%        145.000000\n75%        284.000000\nmax        977.000000\nName: count, dtype: float64"
          },
          "metadata": {}
        }
      ]
    },
    {
      "cell_type": "code",
      "source": "# Função 'quantilite()' pega somente o percentil desejado.\nmaior25 = df[df['count'] > df['count'].quantile(0.25)] \nmaior25",
      "metadata": {
        "trusted": true
      },
      "execution_count": 174,
      "outputs": [
        {
          "execution_count": 174,
          "output_type": "execute_result",
          "data": {
            "text/plain": "                 datetime  season  holiday  workingday  weather   temp  \\\n11    2011-01-01 11:00:00       1        0           0        1  14.76   \n12    2011-01-01 12:00:00       1        0           0        1  17.22   \n13    2011-01-01 13:00:00       1        0           0        2  18.86   \n14    2011-01-01 14:00:00       1        0           0        2  18.86   \n15    2011-01-01 15:00:00       1        0           0        2  18.04   \n...                   ...     ...      ...         ...      ...    ...   \n10881 2012-12-19 19:00:00       4        0           1        1  15.58   \n10882 2012-12-19 20:00:00       4        0           1        1  14.76   \n10883 2012-12-19 21:00:00       4        0           1        1  13.94   \n10884 2012-12-19 22:00:00       4        0           1        1  13.94   \n10885 2012-12-19 23:00:00       4        0           1        1  13.12   \n\n        atemp  humidity  windspeed  casual  registered  count  day  month  \\\n11     16.665        81    19.0012      26          30     56    1      1   \n12     21.210        77    19.0012      29          55     84    1      1   \n13     22.725        72    19.9995      47          47     94    1      1   \n14     22.725        72    19.0012      35          71    106    1      1   \n15     21.970        77    19.9995      40          70    110    1      1   \n...       ...       ...        ...     ...         ...    ...  ...    ...   \n10881  19.695        50    26.0027       7         329    336   19     12   \n10882  17.425        57    15.0013      10         231    241   19     12   \n10883  15.910        61    15.0013       4         164    168   19     12   \n10884  17.425        61     6.0032      12         117    129   19     12   \n10885  16.665        66     8.9981       4          84     88   19     12   \n\n       year       date  \n11     2011 2011-01-01  \n12     2011 2011-01-01  \n13     2011 2011-01-01  \n14     2011 2011-01-01  \n15     2011 2011-01-01  \n...     ...        ...  \n10881  2012 2012-12-19  \n10882  2012 2012-12-19  \n10883  2012 2012-12-19  \n10884  2012 2012-12-19  \n10885  2012 2012-12-19  \n\n[8161 rows x 16 columns]",
            "text/html": "<div>\n<style scoped>\n    .dataframe tbody tr th:only-of-type {\n        vertical-align: middle;\n    }\n\n    .dataframe tbody tr th {\n        vertical-align: top;\n    }\n\n    .dataframe thead th {\n        text-align: right;\n    }\n</style>\n<table border=\"1\" class=\"dataframe\">\n  <thead>\n    <tr style=\"text-align: right;\">\n      <th></th>\n      <th>datetime</th>\n      <th>season</th>\n      <th>holiday</th>\n      <th>workingday</th>\n      <th>weather</th>\n      <th>temp</th>\n      <th>atemp</th>\n      <th>humidity</th>\n      <th>windspeed</th>\n      <th>casual</th>\n      <th>registered</th>\n      <th>count</th>\n      <th>day</th>\n      <th>month</th>\n      <th>year</th>\n      <th>date</th>\n    </tr>\n  </thead>\n  <tbody>\n    <tr>\n      <th>11</th>\n      <td>2011-01-01 11:00:00</td>\n      <td>1</td>\n      <td>0</td>\n      <td>0</td>\n      <td>1</td>\n      <td>14.76</td>\n      <td>16.665</td>\n      <td>81</td>\n      <td>19.0012</td>\n      <td>26</td>\n      <td>30</td>\n      <td>56</td>\n      <td>1</td>\n      <td>1</td>\n      <td>2011</td>\n      <td>2011-01-01</td>\n    </tr>\n    <tr>\n      <th>12</th>\n      <td>2011-01-01 12:00:00</td>\n      <td>1</td>\n      <td>0</td>\n      <td>0</td>\n      <td>1</td>\n      <td>17.22</td>\n      <td>21.210</td>\n      <td>77</td>\n      <td>19.0012</td>\n      <td>29</td>\n      <td>55</td>\n      <td>84</td>\n      <td>1</td>\n      <td>1</td>\n      <td>2011</td>\n      <td>2011-01-01</td>\n    </tr>\n    <tr>\n      <th>13</th>\n      <td>2011-01-01 13:00:00</td>\n      <td>1</td>\n      <td>0</td>\n      <td>0</td>\n      <td>2</td>\n      <td>18.86</td>\n      <td>22.725</td>\n      <td>72</td>\n      <td>19.9995</td>\n      <td>47</td>\n      <td>47</td>\n      <td>94</td>\n      <td>1</td>\n      <td>1</td>\n      <td>2011</td>\n      <td>2011-01-01</td>\n    </tr>\n    <tr>\n      <th>14</th>\n      <td>2011-01-01 14:00:00</td>\n      <td>1</td>\n      <td>0</td>\n      <td>0</td>\n      <td>2</td>\n      <td>18.86</td>\n      <td>22.725</td>\n      <td>72</td>\n      <td>19.0012</td>\n      <td>35</td>\n      <td>71</td>\n      <td>106</td>\n      <td>1</td>\n      <td>1</td>\n      <td>2011</td>\n      <td>2011-01-01</td>\n    </tr>\n    <tr>\n      <th>15</th>\n      <td>2011-01-01 15:00:00</td>\n      <td>1</td>\n      <td>0</td>\n      <td>0</td>\n      <td>2</td>\n      <td>18.04</td>\n      <td>21.970</td>\n      <td>77</td>\n      <td>19.9995</td>\n      <td>40</td>\n      <td>70</td>\n      <td>110</td>\n      <td>1</td>\n      <td>1</td>\n      <td>2011</td>\n      <td>2011-01-01</td>\n    </tr>\n    <tr>\n      <th>...</th>\n      <td>...</td>\n      <td>...</td>\n      <td>...</td>\n      <td>...</td>\n      <td>...</td>\n      <td>...</td>\n      <td>...</td>\n      <td>...</td>\n      <td>...</td>\n      <td>...</td>\n      <td>...</td>\n      <td>...</td>\n      <td>...</td>\n      <td>...</td>\n      <td>...</td>\n      <td>...</td>\n    </tr>\n    <tr>\n      <th>10881</th>\n      <td>2012-12-19 19:00:00</td>\n      <td>4</td>\n      <td>0</td>\n      <td>1</td>\n      <td>1</td>\n      <td>15.58</td>\n      <td>19.695</td>\n      <td>50</td>\n      <td>26.0027</td>\n      <td>7</td>\n      <td>329</td>\n      <td>336</td>\n      <td>19</td>\n      <td>12</td>\n      <td>2012</td>\n      <td>2012-12-19</td>\n    </tr>\n    <tr>\n      <th>10882</th>\n      <td>2012-12-19 20:00:00</td>\n      <td>4</td>\n      <td>0</td>\n      <td>1</td>\n      <td>1</td>\n      <td>14.76</td>\n      <td>17.425</td>\n      <td>57</td>\n      <td>15.0013</td>\n      <td>10</td>\n      <td>231</td>\n      <td>241</td>\n      <td>19</td>\n      <td>12</td>\n      <td>2012</td>\n      <td>2012-12-19</td>\n    </tr>\n    <tr>\n      <th>10883</th>\n      <td>2012-12-19 21:00:00</td>\n      <td>4</td>\n      <td>0</td>\n      <td>1</td>\n      <td>1</td>\n      <td>13.94</td>\n      <td>15.910</td>\n      <td>61</td>\n      <td>15.0013</td>\n      <td>4</td>\n      <td>164</td>\n      <td>168</td>\n      <td>19</td>\n      <td>12</td>\n      <td>2012</td>\n      <td>2012-12-19</td>\n    </tr>\n    <tr>\n      <th>10884</th>\n      <td>2012-12-19 22:00:00</td>\n      <td>4</td>\n      <td>0</td>\n      <td>1</td>\n      <td>1</td>\n      <td>13.94</td>\n      <td>17.425</td>\n      <td>61</td>\n      <td>6.0032</td>\n      <td>12</td>\n      <td>117</td>\n      <td>129</td>\n      <td>19</td>\n      <td>12</td>\n      <td>2012</td>\n      <td>2012-12-19</td>\n    </tr>\n    <tr>\n      <th>10885</th>\n      <td>2012-12-19 23:00:00</td>\n      <td>4</td>\n      <td>0</td>\n      <td>1</td>\n      <td>1</td>\n      <td>13.12</td>\n      <td>16.665</td>\n      <td>66</td>\n      <td>8.9981</td>\n      <td>4</td>\n      <td>84</td>\n      <td>88</td>\n      <td>19</td>\n      <td>12</td>\n      <td>2012</td>\n      <td>2012-12-19</td>\n    </tr>\n  </tbody>\n</table>\n<p>8161 rows × 16 columns</p>\n</div>"
          },
          "metadata": {}
        }
      ]
    },
    {
      "cell_type": "code",
      "source": "total = df[(df['temp'] > df['temp'].mean()) & (df['count'] > df['count'].quantile(.25))]\ntotal",
      "metadata": {
        "trusted": true
      },
      "execution_count": 175,
      "outputs": [
        {
          "execution_count": 175,
          "output_type": "execute_result",
          "data": {
            "text/plain": "                 datetime  season  holiday  workingday  weather   temp  \\\n746   2011-02-14 11:00:00       1        0           1        1  21.32   \n747   2011-02-14 12:00:00       1        0           1        1  22.96   \n748   2011-02-14 13:00:00       1        0           1        1  23.78   \n749   2011-02-14 14:00:00       1        0           1        1  24.60   \n750   2011-02-14 15:00:00       1        0           1        1  22.96   \n...                   ...     ...      ...         ...      ...    ...   \n10661 2012-12-10 15:00:00       4        0           1        2  20.50   \n10662 2012-12-10 16:00:00       4        0           1        2  20.50   \n10665 2012-12-10 19:00:00       4        0           1        1  21.32   \n10668 2012-12-10 22:00:00       4        0           1        2  20.50   \n10851 2012-12-18 13:00:00       4        0           1        1  20.50   \n\n        atemp  humidity  windspeed  casual  registered  count  day  month  \\\n746    25.000        23    16.9979      10          43     53   14      2   \n747    26.515        22    30.0026      27          99    126   14      2   \n748    27.275        19    26.0027      27          93    120   14      2   \n749    29.545        15    32.9975      14          76     90   14      2   \n750    26.515        21    43.9989      19          71     90   14      2   \n...       ...       ...        ...     ...         ...    ...  ...    ...   \n10661  24.240        87    11.0014      29         207    236   10     12   \n10662  24.240        88     7.0015      37         308    345   10     12   \n10665  25.000        77    19.0012      18         409    427   10     12   \n10668  24.240        82    15.0013      11         115    126   10     12   \n10851  24.240        42    19.0012      51         235    286   18     12   \n\n       year       date  \n746    2011 2011-02-14  \n747    2011 2011-02-14  \n748    2011 2011-02-14  \n749    2011 2011-02-14  \n750    2011 2011-02-14  \n...     ...        ...  \n10661  2012 2012-10-12  \n10662  2012 2012-10-12  \n10665  2012 2012-10-12  \n10668  2012 2012-10-12  \n10851  2012 2012-12-18  \n\n[4587 rows x 16 columns]",
            "text/html": "<div>\n<style scoped>\n    .dataframe tbody tr th:only-of-type {\n        vertical-align: middle;\n    }\n\n    .dataframe tbody tr th {\n        vertical-align: top;\n    }\n\n    .dataframe thead th {\n        text-align: right;\n    }\n</style>\n<table border=\"1\" class=\"dataframe\">\n  <thead>\n    <tr style=\"text-align: right;\">\n      <th></th>\n      <th>datetime</th>\n      <th>season</th>\n      <th>holiday</th>\n      <th>workingday</th>\n      <th>weather</th>\n      <th>temp</th>\n      <th>atemp</th>\n      <th>humidity</th>\n      <th>windspeed</th>\n      <th>casual</th>\n      <th>registered</th>\n      <th>count</th>\n      <th>day</th>\n      <th>month</th>\n      <th>year</th>\n      <th>date</th>\n    </tr>\n  </thead>\n  <tbody>\n    <tr>\n      <th>746</th>\n      <td>2011-02-14 11:00:00</td>\n      <td>1</td>\n      <td>0</td>\n      <td>1</td>\n      <td>1</td>\n      <td>21.32</td>\n      <td>25.000</td>\n      <td>23</td>\n      <td>16.9979</td>\n      <td>10</td>\n      <td>43</td>\n      <td>53</td>\n      <td>14</td>\n      <td>2</td>\n      <td>2011</td>\n      <td>2011-02-14</td>\n    </tr>\n    <tr>\n      <th>747</th>\n      <td>2011-02-14 12:00:00</td>\n      <td>1</td>\n      <td>0</td>\n      <td>1</td>\n      <td>1</td>\n      <td>22.96</td>\n      <td>26.515</td>\n      <td>22</td>\n      <td>30.0026</td>\n      <td>27</td>\n      <td>99</td>\n      <td>126</td>\n      <td>14</td>\n      <td>2</td>\n      <td>2011</td>\n      <td>2011-02-14</td>\n    </tr>\n    <tr>\n      <th>748</th>\n      <td>2011-02-14 13:00:00</td>\n      <td>1</td>\n      <td>0</td>\n      <td>1</td>\n      <td>1</td>\n      <td>23.78</td>\n      <td>27.275</td>\n      <td>19</td>\n      <td>26.0027</td>\n      <td>27</td>\n      <td>93</td>\n      <td>120</td>\n      <td>14</td>\n      <td>2</td>\n      <td>2011</td>\n      <td>2011-02-14</td>\n    </tr>\n    <tr>\n      <th>749</th>\n      <td>2011-02-14 14:00:00</td>\n      <td>1</td>\n      <td>0</td>\n      <td>1</td>\n      <td>1</td>\n      <td>24.60</td>\n      <td>29.545</td>\n      <td>15</td>\n      <td>32.9975</td>\n      <td>14</td>\n      <td>76</td>\n      <td>90</td>\n      <td>14</td>\n      <td>2</td>\n      <td>2011</td>\n      <td>2011-02-14</td>\n    </tr>\n    <tr>\n      <th>750</th>\n      <td>2011-02-14 15:00:00</td>\n      <td>1</td>\n      <td>0</td>\n      <td>1</td>\n      <td>1</td>\n      <td>22.96</td>\n      <td>26.515</td>\n      <td>21</td>\n      <td>43.9989</td>\n      <td>19</td>\n      <td>71</td>\n      <td>90</td>\n      <td>14</td>\n      <td>2</td>\n      <td>2011</td>\n      <td>2011-02-14</td>\n    </tr>\n    <tr>\n      <th>...</th>\n      <td>...</td>\n      <td>...</td>\n      <td>...</td>\n      <td>...</td>\n      <td>...</td>\n      <td>...</td>\n      <td>...</td>\n      <td>...</td>\n      <td>...</td>\n      <td>...</td>\n      <td>...</td>\n      <td>...</td>\n      <td>...</td>\n      <td>...</td>\n      <td>...</td>\n      <td>...</td>\n    </tr>\n    <tr>\n      <th>10661</th>\n      <td>2012-12-10 15:00:00</td>\n      <td>4</td>\n      <td>0</td>\n      <td>1</td>\n      <td>2</td>\n      <td>20.50</td>\n      <td>24.240</td>\n      <td>87</td>\n      <td>11.0014</td>\n      <td>29</td>\n      <td>207</td>\n      <td>236</td>\n      <td>10</td>\n      <td>12</td>\n      <td>2012</td>\n      <td>2012-10-12</td>\n    </tr>\n    <tr>\n      <th>10662</th>\n      <td>2012-12-10 16:00:00</td>\n      <td>4</td>\n      <td>0</td>\n      <td>1</td>\n      <td>2</td>\n      <td>20.50</td>\n      <td>24.240</td>\n      <td>88</td>\n      <td>7.0015</td>\n      <td>37</td>\n      <td>308</td>\n      <td>345</td>\n      <td>10</td>\n      <td>12</td>\n      <td>2012</td>\n      <td>2012-10-12</td>\n    </tr>\n    <tr>\n      <th>10665</th>\n      <td>2012-12-10 19:00:00</td>\n      <td>4</td>\n      <td>0</td>\n      <td>1</td>\n      <td>1</td>\n      <td>21.32</td>\n      <td>25.000</td>\n      <td>77</td>\n      <td>19.0012</td>\n      <td>18</td>\n      <td>409</td>\n      <td>427</td>\n      <td>10</td>\n      <td>12</td>\n      <td>2012</td>\n      <td>2012-10-12</td>\n    </tr>\n    <tr>\n      <th>10668</th>\n      <td>2012-12-10 22:00:00</td>\n      <td>4</td>\n      <td>0</td>\n      <td>1</td>\n      <td>2</td>\n      <td>20.50</td>\n      <td>24.240</td>\n      <td>82</td>\n      <td>15.0013</td>\n      <td>11</td>\n      <td>115</td>\n      <td>126</td>\n      <td>10</td>\n      <td>12</td>\n      <td>2012</td>\n      <td>2012-10-12</td>\n    </tr>\n    <tr>\n      <th>10851</th>\n      <td>2012-12-18 13:00:00</td>\n      <td>4</td>\n      <td>0</td>\n      <td>1</td>\n      <td>1</td>\n      <td>20.50</td>\n      <td>24.240</td>\n      <td>42</td>\n      <td>19.0012</td>\n      <td>51</td>\n      <td>235</td>\n      <td>286</td>\n      <td>18</td>\n      <td>12</td>\n      <td>2012</td>\n      <td>2012-12-18</td>\n    </tr>\n  </tbody>\n</table>\n<p>4587 rows × 16 columns</p>\n</div>"
          },
          "metadata": {}
        }
      ]
    },
    {
      "cell_type": "code",
      "source": "",
      "metadata": {
        "trusted": true
      },
      "execution_count": 177,
      "outputs": [
        {
          "execution_count": 177,
          "output_type": "execute_result",
          "data": {
            "text/plain": "count    10886.000000\nmean       191.574132\nstd        181.144454\nmin          1.000000\n25%         42.000000\n50%        145.000000\n75%        284.000000\nmax        977.000000\nName: count, dtype: float64"
          },
          "metadata": {}
        }
      ]
    },
    {
      "cell_type": "code",
      "source": "",
      "metadata": {},
      "execution_count": null,
      "outputs": []
    }
  ]
}