{
 "cells": [
  {
   "cell_type": "markdown",
   "id": "deeb949f",
   "metadata": {},
   "source": [
    "\n",
    "# Descriptive Statistics"
   ]
  },
  {
   "cell_type": "markdown",
   "id": "2223a8cf",
   "metadata": {},
   "source": [
    "### Measures of central tendency (mean, median, mode)\n"
   ]
  },
  {
   "cell_type": "markdown",
   "id": "f5807435",
   "metadata": {},
   "source": [
    "These are ways to describe the center of a data set. There are three measures of central tendency: mean, median, and mode.\n",
    "\n",
    "**Mean:** This is the average of a data set. It’s calculated by adding all the numbers in the data set and then dividing by the number of values in the set. For example, the mean of the numbers 1, 2, 3, 4, 5 is (1+2+3+4+5)/5 = 3.\n",
    "\n",
    "**Median:** This is the middle value in a data set. To find it, arrange the values in the data set from smallest to largest. If there is an odd number of values, the median is the one in the middle. If there is an even number of values, the median is the average of the two middle numbers. For example, the median of the numbers 1, 2, 3, 4, 5 is 3.\n",
    "\n",
    "**Mode:** This is the most frequently occurring value in a data set. For example, in the set of numbers 1, 2, 2, 3, 4, the mode is 2 because it appears twice, more than any other number."
   ]
  },
  {
   "cell_type": "code",
   "execution_count": 64,
   "id": "35bbf9de",
   "metadata": {},
   "outputs": [
    {
     "name": "stdout",
     "output_type": "stream",
     "text": [
      "Mean: 3.0\n",
      "Median: 3.0\n",
      "Mode: 1\n"
     ]
    }
   ],
   "source": [
    "import numpy as np\n",
    "import pandas as pd\n",
    "\n",
    "# A simple list of numbers\n",
    "data = [1, 2, 3, 4, 5]\n",
    "\n",
    "\n",
    "# Measures of Central Tendency\n",
    "mean = np.mean(data)\n",
    "median = np.median(data)\n",
    "mode = max(data, key = data.count)\n",
    "\n",
    "print(f'Mean: {mean}')\n",
    "print(f'Median: {median}')\n",
    "print(f'Mode: {mode}')"
   ]
  },
  {
   "cell_type": "markdown",
   "id": "6b359c32",
   "metadata": {},
   "source": [
    "### Measures of dispersion (range, variance, standard deviation)\n"
   ]
  },
  {
   "cell_type": "markdown",
   "id": "631182ee",
   "metadata": {},
   "source": [
    "**Measures of Dispersion:** These are ways to describe the spread of a data set. They include range, variance, and standard deviation.\n",
    "\n",
    "**Range:** This is the difference between the highest and lowest values in a data set. For example, the range of the numbers 1, 2, 3, 4, 5 is 5-1 = 4.\n",
    "\n",
    "**Variance:** This measures how far each number in the set is from the mean (average) and thus from every other number in the set. It’s often used in finance to measure price volatility.\n",
    "\n",
    "**Standard Deviation:** This is the square root of the variance, and it’s the most commonly used measure of spread."
   ]
  },
  {
   "cell_type": "code",
   "execution_count": 66,
   "id": "c7b736f0",
   "metadata": {},
   "outputs": [
    {
     "name": "stdout",
     "output_type": "stream",
     "text": [
      "Range: 4\n",
      "Variance: 2.0\n",
      "Standard Deviation: 1.4142135623730951\n"
     ]
    }
   ],
   "source": [
    "# Measures of Dispersion\n",
    "range_data = np.ptp(data)\n",
    "variance = np.var(data)\n",
    "std_dev = np.std(data)\n",
    "\n",
    "print(f'Range: {range_data}')\n",
    "print(f'Variance: {variance}')\n",
    "print(f'Standard Deviation: {std_dev}')"
   ]
  },
  {
   "cell_type": "markdown",
   "id": "9dfa6f63",
   "metadata": {},
   "source": [
    "# Probability"
   ]
  },
  {
   "cell_type": "markdown",
   "id": "8dac150d",
   "metadata": {},
   "source": [
    "### Basic probability theory"
   ]
  },
  {
   "cell_type": "code",
   "execution_count": null,
   "id": "adf81ccb",
   "metadata": {},
   "outputs": [],
   "source": []
  },
  {
   "cell_type": "markdown",
   "id": "96e26347",
   "metadata": {},
   "source": [
    "### Conditional probability"
   ]
  },
  {
   "cell_type": "code",
   "execution_count": null,
   "id": "88f6f8e5",
   "metadata": {},
   "outputs": [],
   "source": []
  },
  {
   "cell_type": "markdown",
   "id": "aeaa4ee7",
   "metadata": {},
   "source": [
    "### Bayes’ theorem"
   ]
  },
  {
   "cell_type": "code",
   "execution_count": null,
   "id": "8d12be5e",
   "metadata": {},
   "outputs": [],
   "source": []
  },
  {
   "cell_type": "markdown",
   "id": "8bbeff48",
   "metadata": {},
   "source": [
    "# Probability Distributions"
   ]
  },
  {
   "cell_type": "code",
   "execution_count": null,
   "id": "0e38de5a",
   "metadata": {},
   "outputs": [],
   "source": [
    "Discrete distributions (Binomial, Poisson)\n",
    "Continuous distributions (Normal, Exponential)\n",
    "Probability Distributions in Python"
   ]
  },
  {
   "cell_type": "markdown",
   "id": "e6954ad8",
   "metadata": {},
   "source": [
    "# Sampling Distributions"
   ]
  },
  {
   "cell_type": "code",
   "execution_count": null,
   "id": "7f4eea51",
   "metadata": {},
   "outputs": [],
   "source": [
    "Understanding of population and samples\n",
    "Central Limit Theorem\n",
    "Sampling Distributions with Python"
   ]
  },
  {
   "cell_type": "markdown",
   "id": "4b850881",
   "metadata": {},
   "source": [
    "# Hypothesis Testing"
   ]
  },
  {
   "cell_type": "code",
   "execution_count": 2,
   "id": "bf41acea",
   "metadata": {},
   "outputs": [
    {
     "ename": "SyntaxError",
     "evalue": "invalid syntax (3882515791.py, line 1)",
     "output_type": "error",
     "traceback": [
      "\u001b[1;36m  Cell \u001b[1;32mIn[2], line 1\u001b[1;36m\u001b[0m\n\u001b[1;33m    Null and alternative hypotheses\u001b[0m\n\u001b[1;37m                         ^\u001b[0m\n\u001b[1;31mSyntaxError\u001b[0m\u001b[1;31m:\u001b[0m invalid syntax\n"
     ]
    }
   ],
   "source": [
    "Null and alternative hypotheses\n",
    "Type I and Type II errors\n",
    "p-values\n",
    "Hypothesis Testing with Python"
   ]
  },
  {
   "cell_type": "code",
   "execution_count": null,
   "id": "8190dd17",
   "metadata": {},
   "outputs": [],
   "source": []
  },
  {
   "cell_type": "markdown",
   "id": "18b64239",
   "metadata": {},
   "source": [
    "# Correlation and Regression"
   ]
  },
  {
   "cell_type": "code",
   "execution_count": null,
   "id": "958dd21f",
   "metadata": {},
   "outputs": [],
   "source": [
    "Pearson correlation\n",
    "Simple linear regression\n",
    "Multiple linear regression\n",
    "Correlation and Regression with Python"
   ]
  },
  {
   "cell_type": "markdown",
   "id": "97f025f3",
   "metadata": {},
   "source": [
    "# ANOVA"
   ]
  },
  {
   "cell_type": "code",
   "execution_count": null,
   "id": "8f374df3",
   "metadata": {},
   "outputs": [],
   "source": [
    "One-way ANOVA\n",
    "Two-way ANOVA\n",
    "ANOVA with Python"
   ]
  },
  {
   "cell_type": "markdown",
   "id": "ed9adbcc",
   "metadata": {},
   "source": [
    "# Chi-Square Test"
   ]
  },
  {
   "cell_type": "code",
   "execution_count": null,
   "id": "ade5a85c",
   "metadata": {},
   "outputs": [],
   "source": [
    "Chi-Square Goodness of Fit Test\n",
    "Chi-Square Test for Independence\n",
    "Chi-Square Test with Python"
   ]
  },
  {
   "cell_type": "markdown",
   "id": "e4bbb099",
   "metadata": {},
   "source": [
    "# Advanced Topics"
   ]
  },
  {
   "cell_type": "code",
   "execution_count": null,
   "id": "4b5b5e9a",
   "metadata": {},
   "outputs": [],
   "source": [
    "Non-parametric statistics\n",
    "Bayesian statistics\n",
    "Non-parametric statistics with Python"
   ]
  },
  {
   "cell_type": "code",
   "execution_count": null,
   "id": "007814ef",
   "metadata": {},
   "outputs": [],
   "source": []
  },
  {
   "cell_type": "code",
   "execution_count": null,
   "id": "90bf00dc",
   "metadata": {},
   "outputs": [],
   "source": []
  },
  {
   "cell_type": "code",
   "execution_count": null,
   "id": "2ab94153",
   "metadata": {},
   "outputs": [],
   "source": []
  },
  {
   "cell_type": "code",
   "execution_count": null,
   "id": "f36df956",
   "metadata": {},
   "outputs": [],
   "source": []
  }
 ],
 "metadata": {
  "kernelspec": {
   "display_name": "Python 3 (ipykernel)",
   "language": "python",
   "name": "python3"
  },
  "language_info": {
   "codemirror_mode": {
    "name": "ipython",
    "version": 3
   },
   "file_extension": ".py",
   "mimetype": "text/x-python",
   "name": "python",
   "nbconvert_exporter": "python",
   "pygments_lexer": "ipython3",
   "version": "3.11.4"
  }
 },
 "nbformat": 4,
 "nbformat_minor": 5
}
