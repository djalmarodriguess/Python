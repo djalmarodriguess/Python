{
 "cells": [
  {
   "cell_type": "markdown",
   "id": "deeb949f",
   "metadata": {},
   "source": [
    "\n",
    "# Descriptive Statistics"
   ]
  },
  {
   "cell_type": "markdown",
   "id": "2223a8cf",
   "metadata": {},
   "source": [
    "### Measures of central tendency (mean, median, mode)\n"
   ]
  },
  {
   "cell_type": "markdown",
   "id": "f5807435",
   "metadata": {},
   "source": [
    "These are ways to describe the center of a data set. There are three measures of central tendency: mean, median, and mode.\n",
    "\n",
    "**Mean:** This is the average of a data set. It’s calculated by adding all the numbers in the data set and then dividing by the number of values in the set. For example, the mean of the numbers 1, 2, 3, 4, 5 is (1+2+3+4+5)/5 = 3.\n",
    "\n",
    "**Median:** This is the middle value in a data set. To find it, arrange the values in the data set from smallest to largest. If there is an odd number of values, the median is the one in the middle. If there is an even number of values, the median is the average of the two middle numbers. For example, the median of the numbers 1, 2, 3, 4, 5 is 3.\n",
    "\n",
    "**Mode:** This is the most frequently occurring value in a data set. For example, in the set of numbers 1, 2, 2, 3, 4, the mode is 2 because it appears twice, more than any other number."
   ]
  },
  {
   "cell_type": "code",
   "execution_count": 64,
   "id": "35bbf9de",
   "metadata": {},
   "outputs": [
    {
     "name": "stdout",
     "output_type": "stream",
     "text": [
      "Mean: 3.0\n",
      "Median: 3.0\n",
      "Mode: 1\n"
     ]
    }
   ],
   "source": [
    "import numpy as np\n",
    "import pandas as pd\n",
    "\n",
    "# A simple list of numbers\n",
    "data = [1, 2, 3, 4, 5]\n",
    "\n",
    "\n",
    "# Measures of Central Tendency\n",
    "mean = np.mean(data)\n",
    "median = np.median(data)\n",
    "mode = max(data, key = data.count)\n",
    "\n",
    "print(f'Mean: {mean}')\n",
    "print(f'Median: {median}')\n",
    "print(f'Mode: {mode}')"
   ]
  },
  {
   "cell_type": "markdown",
   "id": "6b359c32",
   "metadata": {},
   "source": [
    "### Measures of dispersion (range, variance, standard deviation)\n"
   ]
  },
  {
   "cell_type": "markdown",
   "id": "631182ee",
   "metadata": {},
   "source": [
    "**Measures of Dispersion:** These are ways to describe the spread of a data set. They include range, variance, and standard deviation.\n",
    "\n",
    "**Range:** This is the difference between the highest and lowest values in a data set. For example, the range of the numbers 1, 2, 3, 4, 5 is 5-1 = 4.\n",
    "\n",
    "**Variance:** This measures how far each number in the set is from the mean (average) and thus from every other number in the set. It’s often used in finance to measure price volatility.\n",
    "\n",
    "**Standard Deviation:** This is the square root of the variance, and it’s the most commonly used measure of spread."
   ]
  },
  {
   "cell_type": "code",
   "execution_count": 66,
   "id": "c7b736f0",
   "metadata": {},
   "outputs": [
    {
     "name": "stdout",
     "output_type": "stream",
     "text": [
      "Range: 4\n",
      "Variance: 2.0\n",
      "Standard Deviation: 1.4142135623730951\n"
     ]
    }
   ],
   "source": [
    "# Measures of Dispersion\n",
    "range_data = np.ptp(data)\n",
    "variance = np.var(data)\n",
    "std_dev = np.std(data)\n",
    "\n",
    "print(f'Range: {range_data}')\n",
    "print(f'Variance: {variance}')\n",
    "print(f'Standard Deviation: {std_dev}')"
   ]
  },
  {
   "cell_type": "markdown",
   "id": "9dfa6f63",
   "metadata": {},
   "source": [
    "# Probability"
   ]
  },
  {
   "cell_type": "markdown",
   "id": "8dac150d",
   "metadata": {},
   "source": [
    "### Basic probability theory"
   ]
  },
  {
   "cell_type": "code",
   "execution_count": null,
   "id": "adf81ccb",
   "metadata": {},
   "outputs": [],
   "source": []
  },
  {
   "cell_type": "markdown",
   "id": "96e26347",
   "metadata": {},
   "source": [
    "### Conditional probability"
   ]
  },
  {
   "cell_type": "code",
   "execution_count": null,
   "id": "88f6f8e5",
   "metadata": {},
   "outputs": [],
   "source": []
  },
  {
   "cell_type": "markdown",
   "id": "aeaa4ee7",
   "metadata": {},
   "source": [
    "### Bayes’ theorem"
   ]
  },
  {
   "cell_type": "code",
   "execution_count": null,
   "id": "8d12be5e",
   "metadata": {},
   "outputs": [],
   "source": []
  },
  {
   "cell_type": "markdown",
   "id": "8bbeff48",
   "metadata": {},
   "source": [
    "# Probability Distributions"
   ]
  },
  {
   "cell_type": "markdown",
   "id": "bd6b7871",
   "metadata": {},
   "source": [
    "### Discrete distributions (Binomial, Poisson)"
   ]
  },
  {
   "cell_type": "code",
   "execution_count": null,
   "id": "9793a46c",
   "metadata": {},
   "outputs": [],
   "source": []
  },
  {
   "cell_type": "markdown",
   "id": "073b4617",
   "metadata": {},
   "source": [
    "### Continuous distributions (Normal, Exponential)"
   ]
  },
  {
   "cell_type": "code",
   "execution_count": null,
   "id": "771d8d2f",
   "metadata": {},
   "outputs": [],
   "source": []
  },
  {
   "cell_type": "markdown",
   "id": "e6954ad8",
   "metadata": {},
   "source": [
    "# Sampling Distributions"
   ]
  },
  {
   "cell_type": "markdown",
   "id": "40cd681f",
   "metadata": {},
   "source": [
    "### Understanding of population and samples"
   ]
  },
  {
   "cell_type": "code",
   "execution_count": null,
   "id": "76fe411b",
   "metadata": {},
   "outputs": [],
   "source": []
  },
  {
   "cell_type": "markdown",
   "id": "ff165833",
   "metadata": {},
   "source": [
    "### Central Limit Theorem"
   ]
  },
  {
   "cell_type": "code",
   "execution_count": null,
   "id": "84f0c75d",
   "metadata": {},
   "outputs": [],
   "source": []
  },
  {
   "cell_type": "markdown",
   "id": "4bd75db3",
   "metadata": {},
   "source": [
    "### Sampling Distributions with Python"
   ]
  },
  {
   "cell_type": "code",
   "execution_count": null,
   "id": "f0ccd18c",
   "metadata": {},
   "outputs": [],
   "source": []
  },
  {
   "cell_type": "markdown",
   "id": "4b850881",
   "metadata": {},
   "source": [
    "# Hypothesis Testing"
   ]
  },
  {
   "cell_type": "markdown",
   "id": "c42f3b9c",
   "metadata": {},
   "source": [
    "### Null and alternative hypotheses"
   ]
  },
  {
   "cell_type": "code",
   "execution_count": null,
   "id": "f5646c19",
   "metadata": {},
   "outputs": [],
   "source": []
  },
  {
   "cell_type": "markdown",
   "id": "867f8e66",
   "metadata": {},
   "source": [
    "### Type I and Type II errors"
   ]
  },
  {
   "cell_type": "code",
   "execution_count": null,
   "id": "7a13641f",
   "metadata": {},
   "outputs": [],
   "source": []
  },
  {
   "cell_type": "markdown",
   "id": "e1a6826c",
   "metadata": {},
   "source": [
    "### p-values"
   ]
  },
  {
   "cell_type": "code",
   "execution_count": null,
   "id": "bef858dd",
   "metadata": {},
   "outputs": [],
   "source": []
  },
  {
   "cell_type": "markdown",
   "id": "18b64239",
   "metadata": {},
   "source": [
    "# Correlation and Regression"
   ]
  },
  {
   "cell_type": "markdown",
   "id": "bba54e0c",
   "metadata": {},
   "source": [
    "### Pearson correlation"
   ]
  },
  {
   "cell_type": "code",
   "execution_count": null,
   "id": "0cc4ed15",
   "metadata": {},
   "outputs": [],
   "source": []
  },
  {
   "cell_type": "markdown",
   "id": "76f60f91",
   "metadata": {},
   "source": [
    "### Simple linear regression"
   ]
  },
  {
   "cell_type": "code",
   "execution_count": null,
   "id": "843b6f37",
   "metadata": {},
   "outputs": [],
   "source": []
  },
  {
   "cell_type": "markdown",
   "id": "5500d437",
   "metadata": {},
   "source": [
    "### Multiple linear regression"
   ]
  },
  {
   "cell_type": "code",
   "execution_count": null,
   "id": "e6dbd791",
   "metadata": {},
   "outputs": [],
   "source": []
  },
  {
   "cell_type": "markdown",
   "id": "97f025f3",
   "metadata": {},
   "source": [
    "# ANOVA"
   ]
  },
  {
   "cell_type": "markdown",
   "id": "6f8fff66",
   "metadata": {},
   "source": [
    "### One-way ANOVA"
   ]
  },
  {
   "cell_type": "code",
   "execution_count": null,
   "id": "70ace791",
   "metadata": {},
   "outputs": [],
   "source": []
  },
  {
   "cell_type": "markdown",
   "id": "029b7a14",
   "metadata": {},
   "source": [
    "### Two-way ANOVA"
   ]
  },
  {
   "cell_type": "code",
   "execution_count": null,
   "id": "7d6300c2",
   "metadata": {},
   "outputs": [],
   "source": []
  },
  {
   "cell_type": "markdown",
   "id": "ed9adbcc",
   "metadata": {},
   "source": [
    "# Chi-Square Test"
   ]
  },
  {
   "cell_type": "markdown",
   "id": "43aaf912",
   "metadata": {},
   "source": [
    "### Chi-Square Goodness of Fit Test"
   ]
  },
  {
   "cell_type": "code",
   "execution_count": null,
   "id": "ceba426a",
   "metadata": {},
   "outputs": [],
   "source": []
  },
  {
   "cell_type": "markdown",
   "id": "2c369c5a",
   "metadata": {},
   "source": [
    "### Chi-Square Test for Independence"
   ]
  },
  {
   "cell_type": "code",
   "execution_count": null,
   "id": "6b731c76",
   "metadata": {},
   "outputs": [],
   "source": []
  },
  {
   "cell_type": "markdown",
   "id": "e4bbb099",
   "metadata": {},
   "source": [
    "# Advanced Topics"
   ]
  },
  {
   "cell_type": "markdown",
   "id": "df12a4be",
   "metadata": {},
   "source": [
    "### Non-parametric statistics\n",
    "\n"
   ]
  },
  {
   "cell_type": "code",
   "execution_count": null,
   "id": "fc3bbc0a",
   "metadata": {},
   "outputs": [],
   "source": []
  },
  {
   "cell_type": "markdown",
   "id": "9a0b4970",
   "metadata": {},
   "source": [
    "### Bayesian statistics"
   ]
  },
  {
   "cell_type": "code",
   "execution_count": null,
   "id": "d3c1050d",
   "metadata": {},
   "outputs": [],
   "source": []
  }
 ],
 "metadata": {
  "kernelspec": {
   "display_name": "Python 3 (ipykernel)",
   "language": "python",
   "name": "python3"
  },
  "language_info": {
   "codemirror_mode": {
    "name": "ipython",
    "version": 3
   },
   "file_extension": ".py",
   "mimetype": "text/x-python",
   "name": "python",
   "nbconvert_exporter": "python",
   "pygments_lexer": "ipython3",
   "version": "3.11.4"
  }
 },
 "nbformat": 4,
 "nbformat_minor": 5
}
